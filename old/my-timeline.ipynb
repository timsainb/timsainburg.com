{
 "cells": [
  {
   "cell_type": "markdown",
   "metadata": {},
   "source": [
    "- Title: Timeline\n",
    "- Date: 2016-04-07 10:01\n",
    "- Category: pages\n",
    "- Slug: my-timeline\n",
    "- Authors: Tim Sainburg\n",
    "- Status: draft"
   ]
  },
  {
   "cell_type": "markdown",
   "metadata": {},
   "source": [
    "<link rel = \"stylesheet\"\n",
    "   type = \"text/css\"\n",
    "   href = \"../assets/css/timeline.css\" />\n",
    "   \n",
    "<div class=\"timeline\">\n",
    "\n",
    "  <div class=\"timeline-item\">\n",
    "    <div class=\"timeline-icon\">\n",
    "      <img src=\"https://upload.wikimedia.org/wikipedia/en/3/3a/Penn_State_Nittany_Lions_logo.svg\" width=\"50\" height=\"50\"/>\n",
    "    </div>\n",
    "    <div class=\"timeline-content\">\n",
    "      <h2 class=\"timeline-content-date\">2010</h2>\n",
    "      <p>Attended the Pennsylvania State University. Majored in Psychology with a minor in biology.</p>\n",
    "    </div>\n",
    "  </div>\n",
    "\n",
    "  <div class=\"timeline-item\">\n",
    "    <div class=\"timeline-icon\">\n",
    "      <img src=\"https://upload.wikimedia.org/wikipedia/commons/thumb/4/48/Emojione_1F412.svg/768px-Emojione_1F412.svg.png\" width=\"50\" height=\"50\"/>\n",
    "    </div>\n",
    "    <div class=\"timeline-content right\">\n",
    "      <h2 class=\"timeline-content-date\">2012</h2>\n",
    "      <p>Started in <a href =\"https://psych.la.psu.edu/directory/djw21\">Dan Weiss'</a> comparitive cognition lab studying sequence learning in Cotton-Top Tamarins.</p>\n",
    "    </div>\n",
    "  </div>\n",
    "\n",
    "  <div class=\"timeline-item\">\n",
    "    <div class=\"timeline-icon\">\n",
    "      <img src=\"https://upload.wikimedia.org/wikipedia/commons/thumb/e/e7/Emoji_u1f98d.svg/192px-Emoji_u1f98d.svg.png\" width=\"50\" height=\"50\"/>\n",
    "    </div>\n",
    "    <div class=\"timeline-content\">\n",
    "      <h2 class=\"timeline-content-date\">2014</h2>\n",
    "      <p>\n",
    "          Started in the <a href=\"http://www.budongo.org/\">Budongo Conservation Field Station</a> in Uganda habituating wild chimpanzees in the Waibira community and collecting data on ecological factors surrounding tool usage. \n",
    "      </p>\n",
    "    </div>\n",
    "  </div>\n",
    "\n",
    "  <div class=\"timeline-item\">\n",
    "    <div class=\"timeline-icon\">\n",
    "      <img src=\"https://upload.wikimedia.org/wikipedia/commons/thumb/4/47/Ear_%28example%29.svg/768px-Ear_%28example%29.svg.png\" width=\"50\" height=\"50\"/>\n",
    "    </div>\n",
    "    <div class=\"timeline-content right\">\n",
    "      <h2 class=\"timeline-content-date\">2015</h2>\n",
    "      <p>\n",
    "        Joined John Sustersic's lab at the Applied Research Laboratory (ARL) working on computational models of early auditory perception.\n",
    "      </p>\n",
    "    </div>\n",
    "  </div>\n",
    "\n",
    "  <div class=\"timeline-item\">\n",
    "    <div class=\"timeline-icon\">\n",
    "      <img src=\"../assets/img/starling.svg\" width=\"50\" height=\"50\"/>\n",
    "    </div>\n",
    "    <div class=\"timeline-content\">\n",
    "      <h2 class=\"timeline-content-date\">2015</h2>\n",
    "        Joined <a href=\"http://gentnerlab.ucsd.edu/\">Tim Gentner's lab</a> as a PhD student in Psychology with a specialization in Anthropogeny (study of the origins of humans). Studying the neurobiology of the sequential organization of communicative behavior in birdsong and human language. \n",
    "    </div>\n",
    "  </div>\n",
    "\n",
    "\n"
   ]
  },
  {
   "cell_type": "code",
   "execution_count": null,
   "metadata": {},
   "outputs": [],
   "source": []
  }
 ],
 "metadata": {
  "kernelspec": {
   "display_name": "Python 3",
   "language": "python",
   "name": "python3"
  },
  "language_info": {
   "codemirror_mode": {
    "name": "ipython",
    "version": 3
   },
   "file_extension": ".py",
   "mimetype": "text/x-python",
   "name": "python",
   "nbconvert_exporter": "python",
   "pygments_lexer": "ipython3",
   "version": "3.6.7"
  },
  "toc": {
   "base_numbering": 1,
   "nav_menu": {},
   "number_sections": true,
   "sideBar": true,
   "skip_h1_title": false,
   "title_cell": "Table of Contents",
   "title_sidebar": "Contents",
   "toc_cell": false,
   "toc_position": {},
   "toc_section_display": true,
   "toc_window_display": false
  }
 },
 "nbformat": 4,
 "nbformat_minor": 4
}
