{
 "cells": [
  {
   "cell_type": "markdown",
   "metadata": {},
   "source": [
    "- Title: Visualizing features, receptive fields, and classes in neural networks from \"scratch\" with Tensorflow 2. Part 3: Reconstructing images from layer activations\n",
    "- Date: 2020-05-19 10:01\n",
    "- Category: Neural networks\n",
    "- Tags: VGG16, tensorflow, neural networks, convolutional neural networks, receptive fields\n",
    "- Slug: tensorflow-2-feature-visualization-reconstructing-images\n",
    "- Authors: Tim Sainburg\n",
    "- githuburl: https://github.com/timsainb/tensorflow-2-feature-visualization-notebooks\n",
    "- Summary: A few examples of feature visualization in convolutional neural networks with Tensorflow 2.0. In this part, we look at how much information is contained about the original image by trying to reconstruct the image based upon layer activations. "
   ]
  },
  {
   "cell_type": "markdown",
   "metadata": {},
   "source": [
    "### Summary\n",
    "In the [last section](http://timsainburg.com/tensorflow-2-feature-visualization-visualizing-features) I talked about visualizing neural network featres by synthesizing images to maximally activate artificial neurons, and looking at activations to specific images, to try to see what those neurons are doing. This time, we're going to see how much information is contained in neurons in different layers of the network by trying to reconstruct images based upon the original layer activations. All the figured here are generated from a single [self-contained Jupyter notebook](https://github.com/timsainb/tensorflow-2-feature-visualization-notebooks).\n",
    "\n",
    "There are a few sections to this series:\n",
    "1. **[Visualizing classes](http://timsainburg.com/tensorflow-2-feature-visualization-visualizing-classes)** [![Open In Colab](https://colab.research.google.com/assets/colab-badge.svg)](https://colab.research.google.com/github/timsainb/tensorflow-2-feature-visualization-notebooks/blob/master/0.0-Visualizing-classes.ipynb)\n",
    "2. **[Visualizing features](http://timsainburg.com/tensorflow-2-feature-visualization-visualizing-features)** [![Open In Colab](https://colab.research.google.com/assets/colab-badge.svg)](https://colab.research.google.com/github/timsainb/tensorflow-2-feature-visualization-notebooks/blob/master/0.1-Visualize-receptive-fields-and-features.ipynb)\n",
    "3. **[Reconstructing images from features](http://timsainburg.com/tensorflow-2-feature-visualization-reconstructing-images)** [![Open In Colab](https://colab.research.google.com/assets/colab-badge.svg)](https://colab.research.google.com/github/timsainb/tensorflow-2-feature-visualization-notebooks/blob/master/0.2-Reconstructing-images-from-layer-activation.ipynb)\n",
    "4. **[Transferring features between images](http://timsainburg.com/tensorflow-2-feature-visualization-deepdream-style-transfer)** [![Open In Colab](https://colab.research.google.com/assets/colab-badge.svg)](https://colab.research.google.com/github/timsainb/tensorflow-2-feature-visualization-notebooks/blob/master/0.3-Visualize-deepdream-style-transfer.ipynb)"
   ]
  },
  {
   "cell_type": "markdown",
   "metadata": {},
   "source": [
    "## Synthesizing reconstructed images based upon their activations in different layers of a neural network\n",
    "\n",
    "The final thing I wanted to try was reconstructing the image based upon activations in different layers of the neural network. To do this, I start with white noise, then perform the same optimization steps as in the maximum activation sections, but instead of maximally activating a neuron, I try to get the neurons activation across each layer to be identical to the activation of the original image. In the first few layers, you get perfect reconsdtruction. Further on into the network, after spatial information is lost from max-pooling layers, there is some image distortion. Finally, at the latest layers, it appears as if no information is present. "
   ]
  },
  {
   "cell_type": "markdown",
   "metadata": {},
   "source": [
    "<div style=\"text-align:center\">\n",
    "<p align=\"center\">\n",
    "  <img style=\"float:center\",  src=\"assets/feature_viz/reconstructions-no-tricks.png\", width=\"80%\" max_width=\"800px\">\n",
    "    </p>\n",
    "</div>\n",
    "<div style=\"text-align:center; clear:both\">\n",
    "<p style=\"text-align:center;font-style:italic\"><span style=\"font-style: normal; font-weight:bold\">Reconstructions of an image of <a href=\"assets/feature_viz/all_filter_activations.jpg\">Astronaut Eileen Collins</a> based only upon the activations of neurons at each layer of the VGG16 neural network. Reconstructed images are produced by modifying the image to produce the same layer-activations as in the original image.</p> \n",
    "</div>"
   ]
  },
  {
   "cell_type": "markdown",
   "metadata": {},
   "source": [
    "I also played around with using some of the techniques in the class visualization to smooth the image and look for higher level features. This helped in finding at least a little bit more structure in the later layers. \n",
    "\n",
    "<div style=\"text-align:center\">\n",
    "<p align=\"center\">\n",
    "  <img style=\"float:center\",  src=\"assets/feature_viz/reconstructions-with-tricks.png\", width=\"80%\" max_width=\"800px\">\n",
    "    </p>\n",
    "</div>\n",
    "<div style=\"text-align:center; clear:both\">\n",
    "<p style=\"text-align:center;font-style:italic\"><span style=\"font-style: normal; font-weight:bold\">Reconstructions of an image of <a href=\"assets/feature_viz/all_filter_activations.jpg\">Astronaut Eileen Collins</a> based only upon the activations of neurons at each layer of the VGG16 neural network. Reconstructed images are produced by modifying the image to produce the same layer-activations as in the original image. These reconstructions use smoothing, and some normalization with each iteration.</p> \n",
    "</div>"
   ]
  },
  {
   "cell_type": "markdown",
   "metadata": {},
   "source": [
    "All the code needed to reproduce these images and videos are available in [self contained Jupyter notebooks](https://github.com/timsainb/tensorflow-2-feature-visualization-notebooks). \n",
    "\n",
    "In the [next section](http://timsainburg.com/tensorflow-2-feature-visualization-deepdream-style-transfer), we'll use the methods from the first three sections to transfer style to images using methods similar to [DeepDream](https://github.com/google/deepdream)."
   ]
  }
 ],
 "metadata": {
  "kernelspec": {
   "display_name": "Python 3",
   "language": "python",
   "name": "python3"
  },
  "language_info": {
   "codemirror_mode": {
    "name": "ipython",
    "version": 3
   },
   "file_extension": ".py",
   "mimetype": "text/x-python",
   "name": "python",
   "nbconvert_exporter": "python",
   "pygments_lexer": "ipython3",
   "version": "3.6.7"
  }
 },
 "nbformat": 4,
 "nbformat_minor": 2
}
