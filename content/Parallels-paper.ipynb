{
 "cells": [
  {
   "cell_type": "markdown",
   "metadata": {},
   "source": [
    "- Title: Parallels in the sequential organization of birdsong and human speech\n",
    "- Date: 2019-08-17 10:01\n",
    "- Category: Birdsong\n",
    "- Tags: birdsong, language, speech, finch, starling, vireo, thrasher, syntax, phonology\n",
    "- Slug: birdsong-speech-parallels\n",
    "- Authors: Tim Sainburg\n",
    "- githuburl: https://github.com/timsainb/ParallelsBirdsongLanguagePaper\n",
    "- Summary: We released a new paper about the sequential organization of speech and birdsong in Nature Communications. Our paper models sequential mutual information of both signals, and shows similarities in the long- and short-range organization between birdsong and speech. "
   ]
  },
  {
   "cell_type": "markdown",
   "metadata": {},
   "source": [
    "My new paper, \"Parallels in the sequential organization of birdsong and human speech\" was published in Nature Communications this past week (<a href=\"https://rdcu.be/bO1Ue\">ReadCube link</a> | <a href=\"https://doi.org/10.1038/s41467-019-11605-y\">DOI link</a>). In it, we explore long- and short-distance sequential-relationships in birdsong and speech."
   ]
  },
  {
   "cell_type": "markdown",
   "metadata": {},
   "source": [
    "<div style=\"text-align:center\">\n",
    "<p align=\"center\">\n",
    "  <img style=\"float:center\",  src=\"assets/img/parallels_fig1.png\", width=\"80%\" max_width=\"800px\">\n",
    "</div>\n",
    "<div style=\"text-align:center; clear:both\">\n",
    "<p style=\"text-align:center;font-style:italic\"><span style=\"font-style: normal; font-weight:bold\">a-d</span> UMAP projections of syllables from a single example bird from each species (Bengalese finch, California thrasher, Cassin's vireo, European starling). <span style=\"font-style: normal; font-weight:bold\">e-h</span> Sequence-transitions between syllables from the same bird as a-d <span style=\"font-style: normal; font-weight:bold\">i-h</span> Markov model abstraction of e-h</p> \n",
    "</div>"
   ]
  },
  {
   "cell_type": "markdown",
   "metadata": {},
   "source": [
    "### Abstract \n",
    "\n",
    "> Human speech possesses a rich hierarchical structure that allows for meaning to be altered by words spaced far apart in time. Conversely, the sequential structure of nonhuman communication is thought to follow non-hierarchical Markovian dynamics operating over only short distances. Here, we show that human speech and birdsong share a similar sequential structure indicative of both hierarchical and Markovian organization. We analyze the sequential dynamics of song from multiple songbird species and speech from multiple languages by modeling the information content of signals as a function of the sequential distance between vocal elements. Across short sequence-distances, an exponential decay dominates the information in speech and birdsong, consistent with underlying Markovian processes. At longer sequence-distances, the decay in information follows a power law, consistent with underlying hierarchical processes. Thus, the sequential organization of acoustic elements in two learned vocal communication signals (speech and birdsong) shows functionally equivalent dynamics, governed by similar processes."
   ]
  },
  {
   "cell_type": "markdown",
   "metadata": {},
   "source": [
    "### Twitter thread\n",
    "I wrote a short twitter thread describing the main results. \n",
    "\n",
    "<style>\n",
    "twitterwidget::shadow .Tweet-ancestorContents {display: none;}\n",
    "twitterwidget::shadow .EmbeddedTweet-ancestor  {display: none;}\n",
    "twitterwidget::shadow .EmbeddedTweet-ancestor--repliesRefresh  {display: none;}\n",
    "</style>\n",
    "\n",
    "<div style=\"text-align:center\">\n",
    "<div class=\"centerblock\" style=\"display:inline-block\">\n",
    "<blockquote class=\"twitter-tweet\"><p lang=\"en\" dir=\"ltr\">Our paper &quot;Parallels in the sequential organization of birdsong and human speech&quot; is out today in <a href=\"https://twitter.com/NatureComms?ref_src=twsrc%5Etfw\">@NatureComms</a> with <a href=\"https://twitter.com/bradtheilman?ref_src=twsrc%5Etfw\">@bradtheilman</a> <a href=\"https://twitter.com/TheNeuralCoder?ref_src=twsrc%5Etfw\">@TheNeuralCoder</a> and <a href=\"https://twitter.com/TqGentner?ref_src=twsrc%5Etfw\">@TqGentner</a>! <a href=\"https://t.co/jHYrXyRwB6\">https://t.co/jHYrXyRwB6</a></p>&mdash; Tim Sainburg (@tim_sainburg) <a href=\"https://twitter.com/tim_sainburg/status/1160972534931529728?ref_src=twsrc%5Etfw\">August 12, 2019</a></blockquote> <script async src=\"https://platform.twitter.com/widgets.js\" charset=\"utf-8\"></script>\n",
    "    \n",
    "<blockquote class=\"twitter-tweet\" data-conversation=\"none\"><p lang=\"en\" dir=\"ltr\">We modeled the sequential relationships between elements of birdsong and speech as Mutual Information (MI) decay and compared them to hierarchical and Markovian models of sequential organization. <a href=\"https://t.co/TQrAu8QkUN\">pic.twitter.com/TQrAu8QkUN</a></p>&mdash; Tim Sainburg (@tim_sainburg) <a href=\"https://twitter.com/tim_sainburg/status/1160972538647724032?ref_src=twsrc%5Etfw\">August 12, 2019</a></blockquote> <script async src=\"https://platform.twitter.com/widgets.js\" charset=\"utf-8\"></script>\n",
    "\n",
    "<blockquote class=\"twitter-tweet\" data-conversation=\"none\"><p lang=\"en\" dir=\"ltr\">Markovian relationships decay exponentially in MI as a function of sequential-distance, while a power-law MI decay is indicative of hierarchical organization. <a href=\"https://t.co/DnGFHhhQkr\">pic.twitter.com/DnGFHhhQkr</a></p>&mdash; Tim Sainburg (@tim_sainburg) <a href=\"https://twitter.com/tim_sainburg/status/1160972542447767552?ref_src=twsrc%5Etfw\">August 12, 2019</a></blockquote> <script async src=\"https://platform.twitter.com/widgets.js\" charset=\"utf-8\"></script>\n",
    "\n",
    "<blockquote class=\"twitter-tweet\" data-conversation=\"none\"><p lang=\"en\" dir=\"ltr\">In four speech datasets (English, Japanese, German, Calabrian) we found that MI decay showed signs of both Markovian and hierarchical organization, where Markovian organization was primarily observed in short-distance within-word relationships. <a href=\"https://t.co/BNJBRZo5Uv\">pic.twitter.com/BNJBRZo5Uv</a></p>&mdash; Tim Sainburg (@tim_sainburg) <a href=\"https://twitter.com/tim_sainburg/status/1160972547824840705?ref_src=twsrc%5Etfw\">August 12, 2019</a></blockquote> <script async src=\"https://platform.twitter.com/widgets.js\" charset=\"utf-8\"></script>\n",
    "\n",
    "<blockquote class=\"twitter-tweet\" data-conversation=\"none\"><p lang=\"en\" dir=\"ltr\">In birdsong (European starling, Cassin&#39;s vireo, Bengalese finch, California thrasher) we found MI decayed in a similar way. Long-range relationships between vocal elements showed signs of both hierarchical and Markovian organization. <a href=\"https://t.co/eFNkPmNJWh\">pic.twitter.com/eFNkPmNJWh</a></p>&mdash; Tim Sainburg (@tim_sainburg) <a href=\"https://twitter.com/tim_sainburg/status/1160972553000587264?ref_src=twsrc%5Etfw\">August 12, 2019</a></blockquote> <script async src=\"https://platform.twitter.com/widgets.js\" charset=\"utf-8\"></script>\n",
    "\n",
    "<blockquote class=\"twitter-tweet\" data-conversation=\"none\"><p lang=\"en\" dir=\"ltr\">Collectively, our results reveal a common structure in both the short- and long-range sequential dependencies in birdsong and speech. At short timescales, information decay is largely exponential, indicating structure that is governed by Markovian processes.</p>&mdash; Tim Sainburg (@tim_sainburg) <a href=\"https://twitter.com/tim_sainburg/status/1160972555487870976?ref_src=twsrc%5Etfw\">August 12, 2019</a></blockquote> <script async src=\"https://platform.twitter.com/widgets.js\" charset=\"utf-8\"></script>\n",
    "\n",
    "<blockquote class=\"twitter-tweet\" data-conversation=\"none\"><p lang=\"en\" dir=\"ltr\">Throughout vocal sequences, however, and especially for long-timescale dependencies, a power law, indicative of non-Markovian hierarchical processes, governs information decay in both birdsong and speech.</p>&mdash; Tim Sainburg (@tim_sainburg) <a href=\"https://twitter.com/tim_sainburg/status/1160972556259614720?ref_src=twsrc%5Etfw\">August 12, 2019</a></blockquote> <script async src=\"https://platform.twitter.com/widgets.js\" charset=\"utf-8\"></script>\n",
    "\n",
    "<blockquote class=\"twitter-tweet\" data-conversation=\"none\"><p lang=\"en\" dir=\"ltr\">More to explore and more to come! Let me know what you all think!</p>&mdash; Tim Sainburg (@tim_sainburg) <a href=\"https://twitter.com/tim_sainburg/status/1160972557043978240?ref_src=twsrc%5Etfw\">August 12, 2019</a></blockquote> <script async src=\"https://platform.twitter.com/widgets.js\" charset=\"utf-8\"></script>\n",
    "\n",
    "</div>    \n",
    "</div>"
   ]
  },
  {
   "cell_type": "markdown",
   "metadata": {},
   "source": [
    "### Code\n",
    "\n",
    "The code is all available on <a href=\"https://github.com/timsainb/ParallelsBirdsongLanguagePaper\">GitHub</a> and most of the datasets we used for our study are available online!"
   ]
  },
  {
   "cell_type": "code",
   "execution_count": null,
   "metadata": {},
   "outputs": [],
   "source": []
  }
 ],
 "metadata": {
  "kernelspec": {
   "display_name": "Python 3",
   "language": "python",
   "name": "python3"
  },
  "language_info": {
   "codemirror_mode": {
    "name": "ipython",
    "version": 3
   },
   "file_extension": ".py",
   "mimetype": "text/x-python",
   "name": "python",
   "nbconvert_exporter": "python",
   "pygments_lexer": "ipython3",
   "version": "3.6.7"
  },
  "toc": {
   "base_numbering": 1,
   "nav_menu": {},
   "number_sections": true,
   "sideBar": true,
   "skip_h1_title": false,
   "title_cell": "Table of Contents",
   "title_sidebar": "Contents",
   "toc_cell": false,
   "toc_position": {},
   "toc_section_display": true,
   "toc_window_display": false
  }
 },
 "nbformat": 4,
 "nbformat_minor": 2
}
