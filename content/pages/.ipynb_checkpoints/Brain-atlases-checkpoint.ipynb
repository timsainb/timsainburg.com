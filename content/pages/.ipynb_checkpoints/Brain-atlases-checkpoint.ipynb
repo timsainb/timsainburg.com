{
 "cells": [
  {
   "cell_type": "markdown",
   "metadata": {},
   "source": [
    "- Title: Bird Brain Atlases\n",
    "- Date: 2019-09-10 10:01\n",
    "- Category: pages\n",
    "- Slug: bird-brain-atlases\n",
    "- Authors: Tim Sainburg"
   ]
  },
  {
   "cell_type": "markdown",
   "metadata": {},
   "source": [
    "<?php include('../assets/html/brain_atlases/starling_regions.php') ?>"
   ]
  },
  {
   "cell_type": "code",
   "execution_count": null,
   "metadata": {},
   "outputs": [],
   "source": []
  }
 ],
 "metadata": {
  "kernelspec": {
   "display_name": "Python 3",
   "language": "python",
   "name": "python3"
  },
  "language_info": {
   "codemirror_mode": {
    "name": "ipython",
    "version": 3
   },
   "file_extension": ".py",
   "mimetype": "text/x-python",
   "name": "python",
   "nbconvert_exporter": "python",
   "pygments_lexer": "ipython3",
   "version": "3.6.7"
  }
 },
 "nbformat": 4,
 "nbformat_minor": 2
}
