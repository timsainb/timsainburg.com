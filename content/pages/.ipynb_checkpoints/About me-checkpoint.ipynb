{
 "cells": [
  {
   "cell_type": "markdown",
   "metadata": {},
   "source": [
    "- Title: About me\n",
    "- Date: 2018-07-07 10:01\n",
    "- Category: pages\n",
    "- Slug: about-me\n",
    "- Authors: Tim Sainburg\n"
   ]
  },
  {
   "cell_type": "markdown",
   "metadata": {},
   "source": [
    "##### My name is Tim Sainburg, and I am a PhD student in the [Psychology program](https://psychology.ucsd.edu/) and [Anthropogeny program](https://carta.anthropogeny.org/) at UCSD in [Tim Gentner's auditory neurophysiology laboratory](http://gentnerlab.ucsd.edu). \n",
    "\n",
    "My research is focused on how our brains process, organize, and produce complex sequential and temporally organized behaviors. In Tim's lab, I primarily use the\" song of the [European starling](https://www.allaboutbirds.org/guide/European_Starling/id) as a model for studing the sequential organization of behavior. My research projects tend to use some combination of:\n",
    "- Spectrographic analyses of wild or laboratory animals\n",
    "- Machine learning and deep learning of acoustic signals\n",
    "- Multicellular electrophysiology and analysis\n",
    "- Operant conditioning / designing behavioral paradigms\n",
    "\n",
    "![Example European starling song](../assets/img/birdsong-1.jpg)\n",
    "\n",
    "<p style=\"text-align:center;font-style:italic\">A short segment of a European starling vocalization</p> "
   ]
  }
 ],
 "metadata": {
  "kernelspec": {
   "display_name": "Python 3",
   "language": "python",
   "name": "python3"
  },
  "language_info": {
   "codemirror_mode": {
    "name": "ipython",
    "version": 3
   },
   "file_extension": ".py",
   "mimetype": "text/x-python",
   "name": "python",
   "nbconvert_exporter": "python",
   "pygments_lexer": "ipython3",
   "version": "3.6.4"
  },
  "toc": {
   "base_numbering": 1,
   "nav_menu": {},
   "number_sections": true,
   "sideBar": true,
   "skip_h1_title": false,
   "title_cell": "Table of Contents",
   "title_sidebar": "Contents",
   "toc_cell": false,
   "toc_position": {},
   "toc_section_display": true,
   "toc_window_display": false
  }
 },
 "nbformat": 4,
 "nbformat_minor": 2
}
