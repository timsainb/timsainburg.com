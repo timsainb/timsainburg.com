{
 "cells": [
  {
   "cell_type": "markdown",
   "metadata": {},
   "source": [
    "- Title: About me\n",
    "- Date: 2018-07-07 10:01\n",
    "- Category: pages\n",
    "- Slug: about-me\n",
    "- Authors: Tim Sainburg\n"
   ]
  },
  {
   "cell_type": "markdown",
   "metadata": {},
   "source": [
    "##### My name is Tim Sainburg, and I am a PhD student in the [Psychology program](https://psychology.ucsd.edu/) and [Anthropogeny program](https://carta.anthropogeny.org/) at UCSD in [Tim Gentner's auditory neurophysiology laboratory](http://gentnerlab.ucsd.edu). \n",
    "\n",
    "My research is focused on how our brains process, organize, and produce complex sequential and temporally organized behaviors. In Tim's lab, I primarily use the song of the [European starling](https://www.allaboutbirds.org/guide/European_Starling/id) as a model for studing the sequential organization of behavior. My research projects tend to use some combination of:\n",
    "- Spectrographic analyses of wild or laboratory animals\n",
    "- Machine learning and deep learning of acoustic signals\n",
    "- Multicellular electrophysiology and analysis\n",
    "- Operant conditioning / designing behavioral paradigms\n"
   ]
  },
  {
   "cell_type": "markdown",
   "metadata": {},
   "source": [
    "<div style=\"text-align:center\">\n",
    "<img src=\"../assets/img/spec.png\" style=\"width:100%;max-width:900px; margin:0 auto\" />\n",
    "<audio  controls=\"controls\" src=\"../assets/audio/starling.wav\"/>\n",
    "</div>\n",
    "<div style=\"text-align:center;font-style:italic\">Figure 1: A sample of song from a single male European starling. </div> "
   ]
  },
  {
   "cell_type": "markdown",
   "metadata": {},
   "source": [
    "## Ongoing Projects"
   ]
  },
  {
   "cell_type": "markdown",
   "metadata": {},
   "source": [
    "### Machine learning for birdsong acoustic spaces"
   ]
  },
  {
   "cell_type": "markdown",
   "metadata": {},
   "source": [
    "In out lab, we have been using autoencoders and GANs to generate stimuli for psychophysical and electrophysiological experiments with songbirds (Thielk et al., 2017; Sainburg et al., 2018 in press; Zuidema et al., 2018 in press). For example, we might record a dataset of songbird vocalizations, segment those vocalizations into syllables, and use an autoencoder to learn a latent representation of those syllables (Figure 2A). We then sample from that $Z$ space (Figure 2B) and invert the sampled spectrograms to generate audio waveforms. Finally, we use a behavioral task (operant conditioning) to get a measure of the bird's perception of the stimuli in as it relates to $Z$ space (Figure 2C). "
   ]
  },
  {
   "cell_type": "markdown",
   "metadata": {},
   "source": [
    "<div style=\"text-align:center\">\n",
    "<img src=\"../assets/img/79438507.png\" style=\"width:100%;max-width:900px; margin:0 auto\" />\n",
    "</div>   \n",
    "<div style=\"text-align:center;font-style:italic\">Figure 2: Latent space (from an autoencoder) of birdsong. (A) A clustered latent space of syllables of Cassin's vireo song (B) Samples generated from the latent space in A. (C) Behavior results of a Same/Different task from a single European starling trained on a similar dataset. (D) Transitions between syllables in several hundred bouts of European starling song (in a latent space similar to A). Figure taken from Zuidema et al., (2018 in press) </div> "
   ]
  },
  {
   "cell_type": "markdown",
   "metadata": {},
   "source": [
    "### Neural representations of category"
   ]
  },
  {
   "cell_type": "markdown",
   "metadata": {},
   "source": [
    "Description coming soon."
   ]
  },
  {
   "cell_type": "markdown",
   "metadata": {},
   "source": [
    "### Exploring the sequential organization of birdsong and speech\n",
    "Description coming soon. "
   ]
  },
  {
   "cell_type": "markdown",
   "metadata": {},
   "source": [
    "### Context and its effects on perception and neural representation. \n",
    "Description coming soon. "
   ]
  },
  {
   "cell_type": "code",
   "execution_count": null,
   "metadata": {},
   "outputs": [],
   "source": []
  }
 ],
 "metadata": {
  "kernelspec": {
   "display_name": "Python 3",
   "language": "python",
   "name": "python3"
  },
  "language_info": {
   "codemirror_mode": {
    "name": "ipython",
    "version": 3
   },
   "file_extension": ".py",
   "mimetype": "text/x-python",
   "name": "python",
   "nbconvert_exporter": "python",
   "pygments_lexer": "ipython3",
   "version": "3.6.7"
  },
  "toc": {
   "base_numbering": 1,
   "nav_menu": {},
   "number_sections": true,
   "sideBar": true,
   "skip_h1_title": false,
   "title_cell": "Table of Contents",
   "title_sidebar": "Contents",
   "toc_cell": false,
   "toc_position": {},
   "toc_section_display": true,
   "toc_window_display": false
  }
 },
 "nbformat": 4,
 "nbformat_minor": 2
}
