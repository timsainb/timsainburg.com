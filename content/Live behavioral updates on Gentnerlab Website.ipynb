{
 "cells": [
  {
   "cell_type": "markdown",
   "metadata": {},
   "source": [
    "- Title: Live behavioral updates on Gentnerlab Website\n",
    "- Date: 2019-02-11 10:01\n",
    "- Category: Birdsong\n",
    "- Tags: pyoperant, RPiOperant, operant conditioning, behavior\n",
    "- Slug: gentnerlab-website\n",
    "- Authors: Tim Sainburg\n",
    "- githuburl: \n",
    "- Summary: Live plotting of PyOperant behaviors"
   ]
  },
  {
   "cell_type": "markdown",
   "metadata": {},
   "source": [
    "<div style=\"text-align:center\">\n",
    "    <p>\n",
    "        This weekend I updated our <a href=\"http://gentnerlab.ucsd.edu/\">lab website</a> to a new HTML/CSS theme and to include all of the current members of the lab.\n",
    "    </p>\n",
    "       <p>\n",
    "        In addition, I updated a private section of the website that live-plots, scheduling, and animal behavioral information throughout the day. A screenshot is shown below. \n",
    "        </p> \n",
    "</div>   "
   ]
  },
  {
   "cell_type": "markdown",
   "metadata": {
    "ExecuteTime": {
     "end_time": "2019-02-12T01:04:36.925872Z",
     "start_time": "2019-02-12T01:04:36.894383Z"
    }
   },
   "source": [
    "<div style=\"text-align:center\">\n",
    "<img src=\"assets/img/website.png\"  style=\"width:100%;max-width:900px; text-align:center!important; margin:0 auto\" />\n",
    "</div>   "
   ]
  },
  {
   "cell_type": "markdown",
   "metadata": {},
   "source": [
    "<div style=\"text-align:center\">\n",
    "\n",
    "<p>\n",
    "           The Alerts section holds warning about any potentially malfunctioning hardware or software. The Bird Duty information shows which labmates are scheduled to take care of husbandry duties each week. We use a web form to keep track of who did behaviors and when, which is shown below bird duty information. In the All Summary section, each different bird, and statistics on their behaviors throughout the day are plotted. Finally, we have a section with custom behavioral plots for each individual bird. \n",
    "    </p>\n",
    "    </div>"
   ]
  },
  {
   "cell_type": "code",
   "execution_count": null,
   "metadata": {},
   "outputs": [],
   "source": []
  }
 ],
 "metadata": {
  "kernelspec": {
   "display_name": "Python 3",
   "language": "python",
   "name": "python3"
  },
  "language_info": {
   "codemirror_mode": {
    "name": "ipython",
    "version": 3
   },
   "file_extension": ".py",
   "mimetype": "text/x-python",
   "name": "python",
   "nbconvert_exporter": "python",
   "pygments_lexer": "ipython3",
   "version": "3.6.8"
  },
  "toc": {
   "base_numbering": 1,
   "nav_menu": {},
   "number_sections": true,
   "sideBar": true,
   "skip_h1_title": false,
   "title_cell": "Table of Contents",
   "title_sidebar": "Contents",
   "toc_cell": false,
   "toc_position": {},
   "toc_section_display": true,
   "toc_window_display": false
  }
 },
 "nbformat": 4,
 "nbformat_minor": 2
}
