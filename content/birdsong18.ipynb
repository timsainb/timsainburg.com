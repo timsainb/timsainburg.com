{
 "cells": [
  {
   "cell_type": "markdown",
   "metadata": {},
   "source": [
    "- Title: Songbird Data Science Workshop 2018: AVGN video\n",
    "- Date: 2019-3-19 10:01\n",
    "- Category: birdsong\n",
    "- Tags: birdsong, machine learning, variational autoencoder, UMAP, GAIA, GAN, unsupervised learning\n",
    "- Slug: songbird-data-science-workshop-2018\n",
    "- Authors: Tim Sainburg\n",
    "- githuburl: https://github.com/timsainb/AVGN\n",
    "- Summary: My presentation at the Songbird Data Science Workshop at Birdsong 2018"
   ]
  },
  {
   "cell_type": "markdown",
   "metadata": {},
   "source": [
    "As part of [Birdsong 2018: Out on a Limb](https://dornsife.usc.edu/conferences/birdsong/) satellite to Neuroscience (SfN) 2018 conference last November, [David Nicholson](https://github.com/NickleDave) organized a Songbird Data Science Workshop discussing new algorithms and methods that sit at the interface between data science, birdsong, and machine learning. "
   ]
  },
  {
   "cell_type": "markdown",
   "metadata": {
    "ExecuteTime": {
     "end_time": "2019-03-19T22:19:47.671361Z",
     "start_time": "2019-03-19T22:19:47.643875Z"
    }
   },
   "source": [
    "<div style=\"text-align:center\">\n",
    "<img src=\"assets/img/sds.png\"  style=\"width:300p; text-align:center!important; margin:0 auto\" />\n",
    "</div>   \n",
    "<p style=\"text-align:center;font-style:italic\">The flyer for the Birdsong Data Science Workshop 2018</p>"
   ]
  },
  {
   "cell_type": "markdown",
   "metadata": {},
   "source": [
    "I gave a presentation on this workshop about [Animal Vocalization Generative Network (AVGN)](https://github.com/timsainb/AVGN) a set of tools that I have been developing to study songbird vocalizations. AVGN has primarily been used for two things: \n",
    "1.  Unsupervised dimensionality reduction and labelling of birdsong, and\n",
    "2.  Generating novel syllables to explore the vocalization space of songbirds. \n",
    "The presentation is embedded below. "
   ]
  },
  {
   "cell_type": "markdown",
   "metadata": {},
   "source": [
    "\n",
    "<div style=\"text-align:center\">\n",
    "<img src=\"https://github.com/timsainb/AVGN/raw/master/src_img/animalvocalizationfigure.png\"  style=\"width:300p; text-align:center!important; margin:0 auto\" />\n",
    "</div>  \n",
    "<p style=\"text-align:center;font-style:italic\">An overview of the AVGN package</p>"
   ]
  },
  {
   "cell_type": "markdown",
   "metadata": {},
   "source": [
    "<p>\n",
    "<div style=\"text-align:center\">\n",
    "<div class=\"youtube_container\">\n",
    "<iframe src=\"//www.youtube.com/embed/0T2UU8-NCbM\" \n",
    "frameborder=\"0\" allowfullscreen class=\"youtube_video\"></iframe>\n",
    "</div>\n",
    "</p> \n",
    "<p style=\"text-align:center;font-style:italic\">My presentation at Birdsong 2018</p>"
   ]
  },
  {
   "cell_type": "code",
   "execution_count": null,
   "metadata": {},
   "outputs": [],
   "source": []
  }
 ],
 "metadata": {
  "kernelspec": {
   "display_name": "Python 3",
   "language": "python",
   "name": "python3"
  },
  "language_info": {
   "codemirror_mode": {
    "name": "ipython",
    "version": 3
   },
   "file_extension": ".py",
   "mimetype": "text/x-python",
   "name": "python",
   "nbconvert_exporter": "python",
   "pygments_lexer": "ipython3",
   "version": "3.6.7"
  }
 },
 "nbformat": 4,
 "nbformat_minor": 2
}
