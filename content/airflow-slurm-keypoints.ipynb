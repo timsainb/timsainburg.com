{
 "cells": [
  {
   "cell_type": "markdown",
   "metadata": {},
   "source": [
    "- Title: Building an Apache Airflow slurm pipeline for 3D keypoints and spikesorting\n",
    "- Date: 2024-08-15 08:01\n",
    "- Category: Machine Learning\n",
    "- Tags: airflow, behavior, mmpose, mmdetection, keyoints, slurm \n",
    "- Slug: apache-airflow-keypoints-spikesorting\n",
    "- Authors: Tim Sainburg\n",
    "- Summary: I build an analysis pipeline around slurm and Apache Airflow to analyze neuro-behavioral datasets. "
   ]
  },
  {
   "cell_type": "markdown",
   "metadata": {},
   "source": [
    "### Summary\n",
    "\n",
    "[Analyzing large neuro-behavioral datasets ]\n",
    "\n",
    "I first used Apache Airflow in 2015 "
   ]
  },
  {
   "cell_type": "markdown",
   "metadata": {
    "heading_collapsed": true
   },
   "source": [
    "### Keypoints pipeline\n",
    "[outline of how the keypoints pipeline works]\n",
    "\n",
    "\n",
    "<div style=\"text-align:center\">\n",
    "<p align=\"center\">\n",
    "  <img style=\"float:center\",  src=\"assets/feature_viz/vgg16.png\", width=\"470px\" max_width=\"470px\">\n",
    "</div>\n",
    "</p>\n",
    "<div style=\"text-align:center; clear:both\">\n",
    "<p style=\"text-align:center;font-style:italic\"><span style=\"font-style: normal; font-weight:bold\">VGG network outline. (<a href=\"https://www.cs.toronto.edu/~frossard/post/vgg16/\">image source</a>)</p> \n",
    "</div>\n"
   ]
  },
  {
   "cell_type": "markdown",
   "metadata": {},
   "source": [
    "### Training new networks\n"
   ]
  },
  {
   "cell_type": "markdown",
   "metadata": {},
   "source": [
    "### Airflow Implementation\n",
    "[]\n",
    "\n",
    "#### Dynamically updating Airflow\n",
    "[]\n",
    "\n",
    "#### Monitoring analysis timing\n",
    "\n",
    "#### Debugging pipeline errors"
   ]
  },
  {
   "cell_type": "code",
   "execution_count": null,
   "metadata": {},
   "outputs": [],
   "source": []
  }
 ],
 "metadata": {
  "kernelspec": {
   "display_name": "Python 3 (ipykernel)",
   "language": "python",
   "name": "python3"
  },
  "language_info": {
   "codemirror_mode": {
    "name": "ipython",
    "version": 3
   },
   "file_extension": ".py",
   "mimetype": "text/x-python",
   "name": "python",
   "nbconvert_exporter": "python",
   "pygments_lexer": "ipython3",
   "version": "3.8.18"
  }
 },
 "nbformat": 4,
 "nbformat_minor": 2
}
