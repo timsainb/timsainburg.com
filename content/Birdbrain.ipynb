{
 "cells": [
  {
   "cell_type": "markdown",
   "metadata": {},
   "source": [
    "- Title: birdbrain: a library for viewing songbird (and bat) brain atlases\n",
    "- Date: 2019-03-15 10:01\n",
    "- Category: Birdsong\n",
    "- Tags: MRI, atlas, songbird, canary, zebra finch, mustached bat, european starling, pigeon, brain, python\n",
    "- Slug: birdbrain-library-python\n",
    "- Authors: Tim Sainburg\n",
    "- githuburl: https://github.com/timsainb/birdbrain\n",
    "- Summary: https://github.com/timsainb/birdbrain"
   ]
  },
  {
   "cell_type": "markdown",
   "metadata": {},
   "source": [
    "### birdbrain\n",
    "I wrote a small [python library called birdbrain](https://github.com/timsainb/birdbrain) for viewing the [songbird/bat brain atlas' made available from the Bio-Imaging Lab at the University of Antwerp](https://www.uantwerpen.be/en/research-groups/bio-imaging-lab/research/mri-atlases/starling-brain-atlas/). It is currently a work-in-progress, but it works with all of the atlases currently on their website. "
   ]
  },
  {
   "cell_type": "markdown",
   "metadata": {},
   "source": [
    "<div style=\"text-align:center\">\n",
    "<img src=\"assets/img/navigation-example.gif\"  style=\"width:100%;max-width:900px; text-align:center!important; margin:0 auto\" />\n",
    "</div>   \n",
    "<p div=\"text-align:center;font-style:italic\">An example navigation of the European starling dataset</p> "
   ]
  },
  {
   "cell_type": "markdown",
   "metadata": {},
   "source": [
    "It is [available on pip](https://pypi.org/project/birdbrain/), and can easily be installed as `pip install birdbrain`. There are a number of examples and demonstrations that can be accessed without having to install any software, or know any python. [They can be accessed through Binder](https://mybinder.org/v2/gh/timsainb/birdbrain/master?filepath=Index.ipynb). I'm still working on some features - For example I would like to be able to\n",
    "- Estimate nuclei locations in one songbird brain based upon another\n",
    "- Easily add new structures to the atlases\n",
    "- Export high resolution plots of recording sites mapped onto the 2D and 3D images. \n",
    "\n",
    "If you're interested in any of these, or have new ideas to add to package, let me know!"
   ]
  },
  {
   "cell_type": "markdown",
   "metadata": {},
   "source": [
    "<div style=\"text-align:center\">\n",
    "<p align=\"center\">\n",
    "  <img src=\"https://raw.githubusercontent.com/timsainb/birdbrain/master/assets/img/starling_skull_rotation.gif\", width=\"45%\">\n",
    "  <img src=\"https://raw.githubusercontent.com/timsainb/birdbrain/master/assets/img/field_l.png\", width=\"45%\">\n",
    "</p>\n",
    "</div>"
   ]
  }
 ],
 "metadata": {
  "kernelspec": {
   "display_name": "Python 3",
   "language": "python",
   "name": "python3"
  },
  "language_info": {
   "codemirror_mode": {
    "name": "ipython",
    "version": 3
   },
   "file_extension": ".py",
   "mimetype": "text/x-python",
   "name": "python",
   "nbconvert_exporter": "python",
   "pygments_lexer": "ipython3",
   "version": "3.6.8"
  },
  "toc": {
   "base_numbering": 1,
   "nav_menu": {},
   "number_sections": true,
   "sideBar": true,
   "skip_h1_title": false,
   "title_cell": "Table of Contents",
   "title_sidebar": "Contents",
   "toc_cell": false,
   "toc_position": {},
   "toc_section_display": true,
   "toc_window_display": false
  }
 },
 "nbformat": 4,
 "nbformat_minor": 2
}
