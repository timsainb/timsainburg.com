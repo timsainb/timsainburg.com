{
 "cells": [
  {
   "cell_type": "markdown",
   "metadata": {},
   "source": [
    "- Title: Computational Cognitive Neuroscience 2018 (CCN 2018) Conference presentation: Learned context dependent categorical perception in a songbird\n",
    "- Date: 2019-3-19 10:01\n",
    "- Category: birdsong\n",
    "- Tags: birdsong, machine learning, variational autoencoder, context, category learning\n",
    "- Slug: CCN2018\n",
    "- Authors: Tim Sainburg\n",
    "- githuburl: \n",
    "- Summary: My conference poster and oral presentation from CCN 2018 on the context dependent categorical perception behavior I designed for songbirds"
   ]
  },
  {
   "cell_type": "markdown",
   "metadata": {
    "ExecuteTime": {
     "end_time": "2019-03-19T21:46:34.340229Z",
     "start_time": "2019-03-19T21:46:34.331273Z"
    }
   },
   "source": [
    "In September I published a short conference paper at [CCN](https://ccneuro.org/2019/) 2018, which is a new (2017) conference that is focused on the interface between computational neuroscience, cognitive science, and arfficial intelligence. \n",
    "\n",
    "[My conference paper](https://ccneuro.org/2018/Papers/ViewPapers.asp?PaperNum=1147) was selected for an oral presentation, which is embedded below. The topic of the presentation is part of my PhD thesis, and explores the role of context in categorization, perception, and decision making. We use a novel set of tools that I developed (now located at [github.com/timsainb/AVGN](https://github.com/timsainb/AVGN)), where latent representations (from variational autoencoders) of birdsong are linearly sampled from to produce smoothly varying stimuli for a category learning task. In this task, we were successfully able to bias categorical perception in songbirds based upon contextual information, and are currently in the process of studying the neural mechanisms underlying that contextual bias in perception. "
   ]
  },
  {
   "cell_type": "markdown",
   "metadata": {
    "ExecuteTime": {
     "end_time": "2019-03-19T21:44:26.884979Z",
     "start_time": "2019-03-19T21:44:26.877130Z"
    }
   },
   "source": [
    "<div style=\"text-align:center\">\n",
    "<iframe width=\"560\" height=\"315\" src=\"https://www.youtube.com/embed/XAU-CKGback\"></iframe>\n",
    "</div>   \n",
    "<p style=\"text-align:center;font-style:italic\">My presentation at Birdsong 2018</p>"
   ]
  },
  {
   "cell_type": "markdown",
   "metadata": {},
   "source": [
    "I also co-authored [a second paper](https://ccneuro.org/2018/Papers/ViewPapers.asp?PaperNum=1247) at the same conference with the lead author Marvin Thielk, that goes more into depth about the perceptual and neural representations of acoustic categories in European starlings. Other [videos](https://ccneuro.org/2018/videos.asp) and [papers](https://ccneuro.org/2018/Papers/AcceptedPapers.asp) from the conference are available on the CCN website as well!"
   ]
  }
 ],
 "metadata": {
  "kernelspec": {
   "display_name": "Python 3",
   "language": "python",
   "name": "python3"
  },
  "language_info": {
   "codemirror_mode": {
    "name": "ipython",
    "version": 3
   },
   "file_extension": ".py",
   "mimetype": "text/x-python",
   "name": "python",
   "nbconvert_exporter": "python",
   "pygments_lexer": "ipython3",
   "version": "3.6.8"
  }
 },
 "nbformat": 4,
 "nbformat_minor": 2
}
