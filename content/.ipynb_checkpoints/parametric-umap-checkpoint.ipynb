{
 "cells": [
  {
   "cell_type": "markdown",
   "metadata": {},
   "source": [
    "- Title: Parametric UMAP\n",
    "- Date: 2020-10-03 10:01\n",
    "- Category: Machine Learning\n",
    "- Tags: UMAP, Parametric UMAP, Dimensionality Reduction\n",
    "- Slug: parametric-umap\n",
    "- Authors: Tim Sainburg\n",
    "- githuburl: https://github.com/timsainb/ParametricUMAP_paper\n",
    "- Summary: Our new paper, \"Parametric UMAP: learning embeddings with deep neural networks for representation and semi-supervised learning\" is on arXiv. "
   ]
  },
  {
   "cell_type": "markdown",
   "metadata": {},
   "source": [
    "Our new paper, <a href=\"https://arxiv.org/abs/2009.12981\">\"Parametric UMAP: learning embeddings with deep neural networks for representation and semi-supervised learning\" (Sainburg, McInnes, Gentner, 2020)</a> is posted on arXiv. In the paper, we propose a parametric variation of UMAP, which is normally a non-parametric algorithm. \n",
    "\n",
    "The idea is simple: instead of optimizing UMAP over embeddings we optimize over a neural network. "
   ]
  },
  {
   "cell_type": "markdown",
   "metadata": {
    "ExecuteTime": {
     "end_time": "2020-10-05T00:21:14.641537Z",
     "start_time": "2020-10-05T00:21:14.636260Z"
    }
   },
   "source": [
    "<div style=\"text-align:center; clear:both\">\n",
    "      <img src=\"assets/img/parametric-umap.png\" style=\"display:inline-block\">\n",
    "\n",
    "<p style=\"text-align:center;font-style:italic\">Overview of UMAP (A → B) and Parametric UMAP (A → C). See paper for more info.</p> \n",
    "</div>"
   ]
  },
  {
   "cell_type": "markdown",
   "metadata": {},
   "source": [
    "In the paper, we explain how it was done, and why UMAP is so well suited to deep learning applications. \n",
    "\n",
    "After exploring and characterizing Parametric UMAP's embeddings (speed, embeding quality, downstream tasks), we looked at how Parametric UMAP could be extended to novel deep learning applications like classification and autoencoding. "
   ]
  },
  {
   "cell_type": "markdown",
   "metadata": {},
   "source": [
    "<div style=\"text-align:center; clear:both\">\n",
    "      <img src=\"assets/img/parametric-umap-extensions.png\" style=\"display:inline-block\">\n",
    "\n",
    "<p style=\"text-align:center;font-style:italic\">Extending Parametric UMAP. See paper for more info.</p> \n",
    "</div>"
   ]
  },
  {
   "cell_type": "markdown",
   "metadata": {},
   "source": [
    "Here's a twitter thread going into some detail:"
   ]
  },
  {
   "cell_type": "markdown",
   "metadata": {},
   "source": [
    "<div style=\"text-align:center\">\n",
    "<div class=\"centerblock\" style=\"display:inline-block\">\n",
    "<blockquote class=\"twitter-tweet\"><p lang=\"en\" dir=\"ltr\">New paper &quot;Parametric UMAP: learning embeddings with deep neural networks for representation and semi-supervised learning&quot; with <a href=\"https://twitter.com/leland_mcinnes?ref_src=twsrc%5Etfw\">@leland_mcinnes</a> and <a href=\"https://twitter.com/TqGentner?ref_src=twsrc%5Etfw\">@TqGentner</a>! 1/<a href=\"https://t.co/2x5YTZPSXU\">https://t.co/2x5YTZPSXU</a> <a href=\"https://t.co/WJ7ECE0DI4\">pic.twitter.com/WJ7ECE0DI4</a></p>&mdash; Tim Sainburg (@tim_sainburg) <a href=\"https://twitter.com/tim_sainburg/status/1310975420271980551?ref_src=twsrc%5Etfw\">September 29, 2020</a></blockquote> <script async src=\"https://platform.twitter.com/widgets.js\" charset=\"utf-8\"></script>  \n",
    "</div>    \n",
    "</div>"
   ]
  },
  {
   "cell_type": "markdown",
   "metadata": {},
   "source": [
    "The code for then paper is <a href=\"https://github.com/timsainb/ParametricUMAP_paper\">available online</a> and is added to <a href=\"https://github.com/lmcinnes/umap/tree/0.5dev\">v0.5</a> of UMAP. "
   ]
  },
  {
   "cell_type": "markdown",
   "metadata": {},
   "source": [
    "Feel free to reach out if you have any questions!"
   ]
  }
 ],
 "metadata": {
  "kernelspec": {
   "display_name": "Python 3",
   "language": "python",
   "name": "python3"
  },
  "language_info": {
   "codemirror_mode": {
    "name": "ipython",
    "version": 3
   },
   "file_extension": ".py",
   "mimetype": "text/x-python",
   "name": "python",
   "nbconvert_exporter": "python",
   "pygments_lexer": "ipython3",
   "version": "3.6.7"
  },
  "toc": {
   "base_numbering": 1,
   "nav_menu": {},
   "number_sections": true,
   "sideBar": true,
   "skip_h1_title": false,
   "title_cell": "Table of Contents",
   "title_sidebar": "Contents",
   "toc_cell": false,
   "toc_position": {},
   "toc_section_display": true,
   "toc_window_display": false
  }
 },
 "nbformat": 4,
 "nbformat_minor": 2
}
