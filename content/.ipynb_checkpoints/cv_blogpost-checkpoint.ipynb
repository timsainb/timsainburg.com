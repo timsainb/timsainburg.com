{
 "cells": [
  {
   "cell_type": "markdown",
   "metadata": {},
   "source": [
    "- Title: Making an HTML CV in Python using Jinja\n",
    "- Date: 2019-06-7 10:01\n",
    "- Category: python\n",
    "- Tags: python, cv, curriculum vitae, jinja, html, css, json\n",
    "- Slug: curriculum-vitae-in-python-html-jinja\n",
    "- Authors: Tim Sainburg\n",
    "- githuburl: https://github.com/timsainb/curriculum_vitae\n",
    "- Summary: An quick explanation of how to generate a CV using Python and Jinja"
   ]
  },
  {
   "cell_type": "markdown",
   "metadata": {
    "ExecuteTime": {
     "end_time": "2019-06-07T20:00:16.597149Z",
     "start_time": "2019-06-07T20:00:16.588249Z"
    }
   },
   "source": [
    "<a href=\"https://github.com/timsainb/curriculum_vitae\"><img src=\"assets/img/resume.png\" style=\"width:100%;max-width:1000pz; text-align:center!important; margin:0 auto\" /></a>"
   ]
  },
  {
   "cell_type": "markdown",
   "metadata": {},
   "source": [
    "### Motivation"
   ]
  },
  {
   "cell_type": "markdown",
   "metadata": {},
   "source": [
    "This blog post will walk you through the basics of generating your CV using Python and Jinja. In addition, [I have a GitHub repo with a full example](https://github.com/timsainb/curriculum_vitae). To see a finished product, [go here](https://timsainburg.com/pages/cv.html#cv).\n",
    "\n",
    "I have previously created my Curriculum Vitae (CV) in both Word and LaTeX, and found that neither had the flexibility that I wanted. Ideally, I want to future-proof my CV so that it's easy to do things like change formatting without having to manually edit every entry into the CV. To do that, it seems intuitive that you would want a standardized data format to carry your CV <i>data</i> and a template to format that code into your CV design. The data format should look something like json or YAML:"
   ]
  },
  {
   "cell_type": "markdown",
   "metadata": {},
   "source": [
    "```\n",
    "{\"education\":\n",
    "    [\n",
    "        {\n",
    "            \"place\": \"University of California, San Diego, CA\",\n",
    "            \"start\": \"2015\",\n",
    "            \"end\": \"now\",\n",
    "            \"degree\": \"Ph.D. in Psychology with a Specialization in Anthropogeny\",\n",
    "            \"lab\": \"Auditory Neuroscience Laboratory\",\n",
    "            \"advisor\": \"Timothy Q. Gentner\"\n",
    "        },\n",
    "        {\n",
    "            \"place\": \"The Pennsylvania State University, State College, PA\",\n",
    "            \"start\": \"2010\",\n",
    "            \"end\": \"2014\",\n",
    "            \"degree\": \"B.A. in Psychology with a Minor in Biology\"\n",
    "        }\n",
    "    ]\n",
    "}\n",
    "\n",
    "```"
   ]
  },
  {
   "cell_type": "markdown",
   "metadata": {},
   "source": [
    "The ideal CV should be fairly future proof: \n",
    "1. It shouldn't rely on software that isn't very well supported.\n",
    "2. The data format should be standardized.\n",
    "3. It should be really easy to make changes. "
   ]
  },
  {
   "cell_type": "markdown",
   "metadata": {},
   "source": [
    "When I searched around I found a few examples that I really liked. The three implementations I liked best were: \n",
    "1. **[JSON resume](https://jsonresume.org/)**, takes your resume as a JSON file, and can generate your resume in many different formats. This is probably the most full featured resume builder I found. \n",
    "2. **[Brandon Amos's Resume](http://bamos.github.io/)** ([example](http://bamos.github.io/)) takes in YAML files and generates MD, LaTeX, PDF, and HTML files from the YAML. \n",
    "3. **[Colin Rafel's CV](https://github.com/craffel/craffel.github.io)** ([example](https://colinraffel.com/)) takes your CV as a JSON file and generates an HTML file from the JSON in Python using Jinja. \n",
    "\n",
    "The three methods are all pretty similar. I ended up using the Colin Rafel method as the basis for my CV because I wanted to rely only on code that is either (1) self-contained within the repository or (2) very well supported external software. All this code relies upon is (1) Python and (2) [Jinja2](http://jinja.pocoo.org/). "
   ]
  },
  {
   "cell_type": "markdown",
   "metadata": {},
   "source": [
    "### A quick introduction"
   ]
  },
  {
   "cell_type": "markdown",
   "metadata": {},
   "source": [
    "The resume in formatted around a template file (here `.tpl`) that is basically just HTML:"
   ]
  },
  {
   "cell_type": "code",
   "execution_count": null,
   "metadata": {},
   "outputs": [],
   "source": [
    "<html xmlns=\"http://www.w3.org/1999/xhtml\" xml:lang=\"en\" lang=\"en\">\n",
    "    <head>\n",
    "        <title>Tim Sainburg: Curriculum Vitae</title>\n",
    "    </head>\n",
    "    <body>\n",
    "        <h2>Education</h2>\n",
    "        <div class=\"block\">\n",
    "            {% for item in education %}\n",
    "            <div class=\"item\">\n",
    "                <div class=\"yearrange\">{{item.start}}&#8211;{{item.end}}</div>\n",
    "                <div class=\"yearright\">\n",
    "                    <strong>{{item.place}}</strong><br />\n",
    "                    {{item.degree}}<br />\n",
    "                    {% if item.lab %}{{item.lab}}<br />{% endif %}\n",
    "                    {% if item.advisor %}Advisor: {{item.advisor}}<br />{% endif %}\n",
    "                </div>\n",
    "            </div>\n",
    "            {% endfor %}\n",
    "        </div>\n",
    "    </body>\n",
    "</html>"
   ]
  },
  {
   "cell_type": "markdown",
   "metadata": {},
   "source": [
    "Resume data is stored in a JSON, like this:"
   ]
  },
  {
   "cell_type": "code",
   "execution_count": null,
   "metadata": {},
   "outputs": [],
   "source": [
    "{\"research\":\n",
    "    [\n",
    "        \n",
    "        {\n",
    "            \"Organization\": \"University of California, San Diego\",\n",
    "            \"lab\": \"Auditory Neurscience Laboratory\",\n",
    "            \"location\": \"La Jolla, CA\",\n",
    "            \"advisor\": \"Timothy Q Gentner\",\n",
    "            \"start\": \"2015\",\n",
    "            \"end\": \"now\",\n",
    "            \"title\": \"PhD Student\"\n",
    "        }\n",
    "    ]\n",
    "}"
   ]
  },
  {
   "cell_type": "markdown",
   "metadata": {},
   "source": [
    "Python and Jinja read the resume data in the json, and generate an HTML file from the template:"
   ]
  },
  {
   "cell_type": "code",
   "execution_count": null,
   "metadata": {},
   "outputs": [],
   "source": [
    "data = json.load('MYJSONFILE.JSON')\n",
    "\n",
    "env = jinja2.environment.Environment(\n",
    "    loader=jinja2.FileSystemLoader('/MY/TEMPLATE/PATH')\n",
    ")\n",
    "template = env.get_template('MYTEMPLATE.TPL')\n",
    "with open('/MY/OUTPUT/PATH/MYTEMPLATE.HTML', \"w\") as f:\n",
    "    f.write(template.render(**data))"
   ]
  },
  {
   "cell_type": "markdown",
   "metadata": {},
   "source": [
    "**That's basically it.** There is a bunch you can do from there, but so long as you know some basic Python, HTML, and CSS, you can make a great resume or CV. For a full CV example check out either [my repo on GitHub](https://github.com/timsainb/curriculum_vitae), or the [one I based mine off of](https://github.com/craffel/craffel.github.io). "
   ]
  },
  {
   "cell_type": "code",
   "execution_count": null,
   "metadata": {},
   "outputs": [],
   "source": []
  }
 ],
 "metadata": {
  "gist": {
   "data": {
    "description": "A gist example using libtfr",
    "public": true
   },
   "id": ""
  },
  "kernelspec": {
   "display_name": "Python 3",
   "language": "python",
   "name": "python3"
  },
  "language_info": {
   "codemirror_mode": {
    "name": "ipython",
    "version": 3
   },
   "file_extension": ".py",
   "mimetype": "text/x-python",
   "name": "python",
   "nbconvert_exporter": "python",
   "pygments_lexer": "ipython3",
   "version": "3.6.8"
  }
 },
 "nbformat": 4,
 "nbformat_minor": 2
}
