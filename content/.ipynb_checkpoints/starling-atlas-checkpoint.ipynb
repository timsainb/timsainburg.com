{
 "cells": [
  {
   "cell_type": "markdown",
   "metadata": {},
   "source": [
    "- Title: starling-atlas\n",
    "- Date: 2019-03-15 10:01\n",
    "- Category: Birdsong\n",
    "- Tags: test\n",
    "- Slug: starling-atlas\n",
    "- Authors: Tim Sainburg\n",
    "- githuburl: \n",
    "- Summary: starling-atlas\n",
    "- Status: draft"
   ]
  },
  {
   "cell_type": "code",
   "execution_count": 1,
   "metadata": {
    "ExecuteTime": {
     "end_time": "2019-09-08T21:50:05.235556Z",
     "start_time": "2019-09-08T21:50:05.213817Z"
    }
   },
   "outputs": [],
   "source": [
    "%load_ext autoreload\n",
    "%autoreload 2"
   ]
  },
  {
   "cell_type": "code",
   "execution_count": 2,
   "metadata": {
    "ExecuteTime": {
     "end_time": "2019-09-08T21:50:05.376515Z",
     "start_time": "2019-09-08T21:50:05.237430Z"
    }
   },
   "outputs": [
    {
     "data": {
      "text/plain": [
       "'/mnt/cube/tsainbur/Projects/github_repos/birdbrain/birdbrain/__init__.py'"
      ]
     },
     "execution_count": 2,
     "metadata": {},
     "output_type": "execute_result"
    }
   ],
   "source": [
    "import birdbrain\n",
    "birdbrain.__file__"
   ]
  },
  {
   "cell_type": "code",
   "execution_count": 4,
   "metadata": {
    "ExecuteTime": {
     "end_time": "2019-09-08T21:51:08.451000Z",
     "start_time": "2019-09-08T21:51:07.055285Z"
    }
   },
   "outputs": [],
   "source": [
    "from birdbrain.atlas import atlas\n",
    "from birdbrain.utils import um_to_vox\n",
    "import numpy as np\n",
    "from birdbrain.visualization.plotting_3d import plot_regions_3d, rotate_plot"
   ]
  },
  {
   "cell_type": "code",
   "execution_count": 5,
   "metadata": {
    "ExecuteTime": {
     "end_time": "2019-09-08T21:51:36.526874Z",
     "start_time": "2019-09-08T21:51:09.457715Z"
    }
   },
   "outputs": [
    {
     "name": "stderr",
     "output_type": "stream",
     "text": [
      "qform_code 32 not valid; setting to 0\n",
      "qform_code 32 not valid; setting to 0\n"
     ]
    },
    {
     "name": "stdout",
     "output_type": "stream",
     "text": [
      "Data already download\n",
      "Loading brain labels...\n",
      "Getting voxel data from .img files...\n"
     ]
    },
    {
     "name": "stderr",
     "output_type": "stream",
     "text": [
      "qform_code 32 not valid; setting to 0\n",
      "qform_code 32 not valid; setting to 0\n"
     ]
    },
    {
     "data": {
      "application/vnd.jupyter.widget-view+json": {
       "model_id": "",
       "version_major": 2,
       "version_minor": 0
      },
      "text/plain": [
       "HBox(children=(IntProgress(value=0, max=1), HTML(value='')))"
      ]
     },
     "metadata": {},
     "output_type": "display_data"
    },
    {
     "name": "stdout",
     "output_type": "stream",
     "text": [
      "\r"
     ]
    },
    {
     "data": {
      "application/vnd.jupyter.widget-view+json": {
       "model_id": "",
       "version_major": 2,
       "version_minor": 0
      },
      "text/plain": [
       "HBox(children=(IntProgress(value=0, max=22), HTML(value='')))"
      ]
     },
     "metadata": {},
     "output_type": "display_data"
    },
    {
     "name": "stdout",
     "output_type": "stream",
     "text": [
      "\r"
     ]
    },
    {
     "data": {
      "application/vnd.jupyter.widget-view+json": {
       "model_id": "",
       "version_major": 2,
       "version_minor": 0
      },
      "text/plain": [
       "HBox(children=(IntProgress(value=0, max=12), HTML(value='')))"
      ]
     },
     "metadata": {},
     "output_type": "display_data"
    },
    {
     "name": "stdout",
     "output_type": "stream",
     "text": [
      "\r",
      "Getting location for each nucleus/region from voxel data...\n"
     ]
    },
    {
     "data": {
      "application/vnd.jupyter.widget-view+json": {
       "model_id": "",
       "version_major": 2,
       "version_minor": 0
      },
      "text/plain": [
       "HBox(children=(IntProgress(value=0, max=45), HTML(value='')))"
      ]
     },
     "metadata": {},
     "output_type": "display_data"
    },
    {
     "name": "stdout",
     "output_type": "stream",
     "text": [
      "\r",
      "Atlas created\n"
     ]
    }
   ],
   "source": [
    "dset_dir = '/mnt/cube/tsainbur/Projects/github_repos/birdbrain/data/processed/starling/'\n",
    "\n",
    "starling_atlas = atlas(\n",
    "    species = 'starling',\n",
    "    dset_dir = dset_dir,\n",
    "    um_mult = 100,\n",
    "    smoothing = ['Brain', 'Nuclei', 'Tracts'],\n",
    "    updated_y_sinus = [0, 1500, 0]\n",
    ")"
   ]
  },
  {
   "cell_type": "code",
   "execution_count": 6,
   "metadata": {
    "ExecuteTime": {
     "end_time": "2019-09-08T21:51:36.966708Z",
     "start_time": "2019-09-08T21:51:36.530964Z"
    }
   },
   "outputs": [],
   "source": [
    "tracts = [\n",
    "    [reg, \"Tracts\"]\n",
    "    for reg in list(\n",
    "        starling_atlas.brain_labels[\n",
    "            starling_atlas.brain_labels.type_ == \"Tracts\"\n",
    "        ].region.values\n",
    "    )\n",
    "]\n",
    "nuclei = [\n",
    "    [reg, \"Nuclei\"]\n",
    "    for reg in list(\n",
    "        starling_atlas.brain_labels[\n",
    "            starling_atlas.brain_labels.type_ == \"Nuclei\"\n",
    "        ].region.values\n",
    "    )\n",
    "]\n",
    "brain_regions = [\n",
    "    [reg, \"Brainregions\"]\n",
    "    for reg in list(\n",
    "        starling_atlas.brain_labels[\n",
    "            starling_atlas.brain_labels.type_ == \"Brainregions\"\n",
    "        ].region.values\n",
    "    )\n",
    "]"
   ]
  },
  {
   "cell_type": "code",
   "execution_count": 31,
   "metadata": {
    "ExecuteTime": {
     "end_time": "2019-09-08T22:07:49.273065Z",
     "start_time": "2019-09-08T22:07:44.738238Z"
    }
   },
   "outputs": [
    {
     "data": {
      "application/vnd.jupyter.widget-view+json": {
       "model_id": "",
       "version_major": 2,
       "version_minor": 0
      },
      "text/plain": [
       "HBox(children=(IntProgress(value=0, max=3), HTML(value='')))"
      ]
     },
     "metadata": {},
     "output_type": "display_data"
    },
    {
     "name": "stdout",
     "output_type": "stream",
     "text": [
      "\r"
     ]
    },
    {
     "data": {
      "application/vnd.jupyter.widget-view+json": {
       "model_id": "e6b99bb0d3f846bdb075f498878b40fa",
       "version_major": 2,
       "version_minor": 0
      },
      "text/plain": [
       "Output()"
      ]
     },
     "metadata": {},
     "output_type": "display_data"
    },
    {
     "data": {
      "application/vnd.jupyter.widget-view+json": {
       "model_id": "28a186c234ab43eaba81ffcb9a3ffe44",
       "version_major": 2,
       "version_minor": 0
      },
      "text/plain": [
       "FloatSlider(value=0.0, description='medial-lateral:', max=10937.0, min=-10737.0, step=100.0)"
      ]
     },
     "metadata": {},
     "output_type": "display_data"
    },
    {
     "data": {
      "application/vnd.jupyter.widget-view+json": {
       "model_id": "f618d7b8249c41dbb27c245054c323fe",
       "version_major": 2,
       "version_minor": 0
      },
      "text/plain": [
       "FloatSlider(value=0.0, description='posterior-anterior:', max=13337.0, min=-8337.0, step=100.0)"
      ]
     },
     "metadata": {},
     "output_type": "display_data"
    },
    {
     "data": {
      "application/vnd.jupyter.widget-view+json": {
       "model_id": "909949b7d7c34af38cf9e7a004c4e187",
       "version_major": 2,
       "version_minor": 0
      },
      "text/plain": [
       "FloatSlider(value=0.0, description='ventral-dorsal:', max=4237.0, min=-17437.0, step=100.0)"
      ]
     },
     "metadata": {},
     "output_type": "display_data"
    },
    {
     "data": {
      "application/vnd.jupyter.widget-view+json": {
       "model_id": "47add67d327b4b8ab35f2f7eda87e1c5",
       "version_major": 2,
       "version_minor": 0
      },
      "text/plain": [
       "Dropdown(description='Region:', index=3, options=('Field_L', 'NCM', 'Ov', 'y_sinus'), value='y_sinus')"
      ]
     },
     "metadata": {},
     "output_type": "display_data"
    }
   ],
   "source": [
    "plot, vec = plot_regions_3d(starling_atlas, regions_to_plot = nuclei[:3], downsample_pct = 1,\n",
    "                             polygon_simplification = 0,\n",
    "                             verbose=False, height=800)"
   ]
  },
  {
   "cell_type": "code",
   "execution_count": 13,
   "metadata": {
    "ExecuteTime": {
     "end_time": "2019-09-08T21:59:41.341630Z",
     "start_time": "2019-09-08T21:59:40.503831Z"
    }
   },
   "outputs": [
    {
     "data": {
      "text/plain": [
       "[['Field_L', 'Nuclei'], ['NCM', 'Nuclei']]"
      ]
     },
     "execution_count": 13,
     "metadata": {},
     "output_type": "execute_result"
    }
   ],
   "source": [
    "nuclei[:2]"
   ]
  },
  {
   "cell_type": "code",
   "execution_count": 26,
   "metadata": {
    "ExecuteTime": {
     "end_time": "2019-09-08T22:05:42.960789Z",
     "start_time": "2019-09-08T22:05:42.408807Z"
    }
   },
   "outputs": [
    {
     "data": {
      "text/plain": [
       "region                                 Field_L\n",
       "type_                                   Nuclei\n",
       "reg_ID                                       1\n",
       "region_bounds    [89, 165, 112, 133, 167, 196]\n",
       "coords_vox                     [149, 124, 181]\n",
       "Name: Field_L, dtype: object"
      ]
     },
     "execution_count": 26,
     "metadata": {},
     "output_type": "execute_result"
    }
   ],
   "source": [
    "starling_atlas.region_vox.loc['Field_L']"
   ]
  },
  {
   "cell_type": "code",
   "execution_count": 30,
   "metadata": {
    "ExecuteTime": {
     "end_time": "2019-09-08T22:06:11.219075Z",
     "start_time": "2019-09-08T22:06:11.148888Z"
    }
   },
   "outputs": [
    {
     "data": {
      "text/plain": [
       "22.0"
      ]
     },
     "execution_count": 30,
     "metadata": {},
     "output_type": "execute_result"
    }
   ],
   "source": [
    "(starling_atlas.region_vox.loc['Field_L'].region_bounds[3] - starling_atlas.region_vox.loc['Field_L'].region_bounds[0])/2"
   ]
  },
  {
   "cell_type": "code",
   "execution_count": 15,
   "metadata": {
    "ExecuteTime": {
     "end_time": "2019-09-08T22:00:17.927841Z",
     "start_time": "2019-09-08T22:00:17.800857Z"
    }
   },
   "outputs": [
    {
     "data": {
      "text/html": [
       "<div>\n",
       "<style scoped>\n",
       "    .dataframe tbody tr th:only-of-type {\n",
       "        vertical-align: middle;\n",
       "    }\n",
       "\n",
       "    .dataframe tbody tr th {\n",
       "        vertical-align: top;\n",
       "    }\n",
       "\n",
       "    .dataframe thead th {\n",
       "        text-align: right;\n",
       "    }\n",
       "</style>\n",
       "<table border=\"1\" class=\"dataframe\">\n",
       "  <thead>\n",
       "    <tr style=\"text-align: right;\">\n",
       "      <th></th>\n",
       "      <th>region</th>\n",
       "      <th>type_</th>\n",
       "      <th>reg_ID</th>\n",
       "      <th>region_bounds</th>\n",
       "      <th>coords_vox</th>\n",
       "    </tr>\n",
       "    <tr>\n",
       "      <th>region</th>\n",
       "      <th></th>\n",
       "      <th></th>\n",
       "      <th></th>\n",
       "      <th></th>\n",
       "      <th></th>\n",
       "    </tr>\n",
       "  </thead>\n",
       "  <tbody>\n",
       "    <tr>\n",
       "      <th>Nidopallium</th>\n",
       "      <td>Nidopallium</td>\n",
       "      <td>Brainregions</td>\n",
       "      <td>1</td>\n",
       "      <td>[21, 235, 52, 191, 91, 213]</td>\n",
       "      <td>[183, 119, 153]</td>\n",
       "    </tr>\n",
       "    <tr>\n",
       "      <th>Mesopallium</th>\n",
       "      <td>Mesopallium</td>\n",
       "      <td>Brainregions</td>\n",
       "      <td>2</td>\n",
       "      <td>[23, 235, 102, 208, 90, 205]</td>\n",
       "      <td>[184, 157, 154]</td>\n",
       "    </tr>\n",
       "    <tr>\n",
       "      <th>Arcopallium</th>\n",
       "      <td>Arcopallium</td>\n",
       "      <td>Brainregions</td>\n",
       "      <td>3</td>\n",
       "      <td>[66, 194, 66, 106, 127, 175]</td>\n",
       "      <td>[172, 89, 154]</td>\n",
       "    </tr>\n",
       "    <tr>\n",
       "      <th>Hyperpallium</th>\n",
       "      <td>Hyperpallium</td>\n",
       "      <td>Brainregions</td>\n",
       "      <td>4</td>\n",
       "      <td>[45, 204, 131, 216, 87, 210]</td>\n",
       "      <td>[152, 184, 147]</td>\n",
       "    </tr>\n",
       "    <tr>\n",
       "      <th>Hippocampus</th>\n",
       "      <td>Hippocampus</td>\n",
       "      <td>Brainregions</td>\n",
       "      <td>5</td>\n",
       "      <td>[87, 160, 77, 144, 171, 214]</td>\n",
       "      <td>[140, 112, 201]</td>\n",
       "    </tr>\n",
       "    <tr>\n",
       "      <th>Striatum</th>\n",
       "      <td>Striatum</td>\n",
       "      <td>Brainregions</td>\n",
       "      <td>7</td>\n",
       "      <td>[56, 199, 97, 178, 91, 171]</td>\n",
       "      <td>[156, 145, 129]</td>\n",
       "    </tr>\n",
       "    <tr>\n",
       "      <th>Olfactory_Bulb</th>\n",
       "      <td>Olfactory_Bulb</td>\n",
       "      <td>Brainregions</td>\n",
       "      <td>8</td>\n",
       "      <td>[112, 138, 189, 214, 80, 98]</td>\n",
       "      <td>[130, 203, 89]</td>\n",
       "    </tr>\n",
       "    <tr>\n",
       "      <th>Midbrain</th>\n",
       "      <td>Midbrain</td>\n",
       "      <td>Brainregions</td>\n",
       "      <td>9</td>\n",
       "      <td>[55, 205, 61, 191, 63, 166]</td>\n",
       "      <td>[168, 95, 105]</td>\n",
       "    </tr>\n",
       "    <tr>\n",
       "      <th>Diencephalon</th>\n",
       "      <td>Diencephalon</td>\n",
       "      <td>Brainregions</td>\n",
       "      <td>10</td>\n",
       "      <td>[79, 174, 97, 138, 88, 167]</td>\n",
       "      <td>[143, 116, 120]</td>\n",
       "    </tr>\n",
       "    <tr>\n",
       "      <th>Cerebellum</th>\n",
       "      <td>Cerebellum</td>\n",
       "      <td>Brainregions</td>\n",
       "      <td>11</td>\n",
       "      <td>[83, 174, 14, 205, 116, 214]</td>\n",
       "      <td>[139, 58, 162]</td>\n",
       "    </tr>\n",
       "    <tr>\n",
       "      <th>Pont</th>\n",
       "      <td>Pont</td>\n",
       "      <td>Brainregions</td>\n",
       "      <td>12</td>\n",
       "      <td>[97, 168, 0, 97, 76, 135]</td>\n",
       "      <td>[142, 57, 103]</td>\n",
       "    </tr>\n",
       "    <tr>\n",
       "      <th>TrsM</th>\n",
       "      <td>TrsM</td>\n",
       "      <td>Tracts</td>\n",
       "      <td>1</td>\n",
       "      <td>[105, 150, 127, 152, 111, 153]</td>\n",
       "      <td>[134, 140, 131]</td>\n",
       "    </tr>\n",
       "    <tr>\n",
       "      <th>CoA</th>\n",
       "      <td>CoA</td>\n",
       "      <td>Tracts</td>\n",
       "      <td>2</td>\n",
       "      <td>[112, 144, 118, 126, 137, 146]</td>\n",
       "      <td>[134, 122, 142]</td>\n",
       "    </tr>\n",
       "    <tr>\n",
       "      <th>CoP</th>\n",
       "      <td>CoP</td>\n",
       "      <td>Tracts</td>\n",
       "      <td>3</td>\n",
       "      <td>[115, 145, 93, 102, 135, 145]</td>\n",
       "      <td>[134, 98, 140]</td>\n",
       "    </tr>\n",
       "    <tr>\n",
       "      <th>N3</th>\n",
       "      <td>N3</td>\n",
       "      <td>Tracts</td>\n",
       "      <td>4</td>\n",
       "      <td>[122, 137, 91, 104, 89, 119]</td>\n",
       "      <td>[130, 98, 106]</td>\n",
       "    </tr>\n",
       "    <tr>\n",
       "      <th>OM</th>\n",
       "      <td>OM</td>\n",
       "      <td>Tracts</td>\n",
       "      <td>5</td>\n",
       "      <td>[91, 169, 94, 125, 124, 160]</td>\n",
       "      <td>[151, 112, 142]</td>\n",
       "    </tr>\n",
       "    <tr>\n",
       "      <th>MFB</th>\n",
       "      <td>MFB</td>\n",
       "      <td>Tracts</td>\n",
       "      <td>6</td>\n",
       "      <td>[140, 149, 123, 131, 112, 122]</td>\n",
       "      <td>[144, 127, 117]</td>\n",
       "    </tr>\n",
       "    <tr>\n",
       "      <th>LFB</th>\n",
       "      <td>LFB</td>\n",
       "      <td>Tracts</td>\n",
       "      <td>7</td>\n",
       "      <td>[147, 169, 129, 139, 112, 127]</td>\n",
       "      <td>[159, 134, 120]</td>\n",
       "    </tr>\n",
       "    <tr>\n",
       "      <th>QF</th>\n",
       "      <td>QF</td>\n",
       "      <td>Tracts</td>\n",
       "      <td>8</td>\n",
       "      <td>[169, 176, 131, 137, 116, 124]</td>\n",
       "      <td>[172, 134, 120]</td>\n",
       "    </tr>\n",
       "    <tr>\n",
       "      <th>FA</th>\n",
       "      <td>FA</td>\n",
       "      <td>Tracts</td>\n",
       "      <td>9</td>\n",
       "      <td>[61, 197, 78, 122, 105, 148]</td>\n",
       "      <td>[191, 98, 126]</td>\n",
       "    </tr>\n",
       "    <tr>\n",
       "      <th>Opt</th>\n",
       "      <td>Opt</td>\n",
       "      <td>Tracts</td>\n",
       "      <td>10</td>\n",
       "      <td>[70, 189, 68, 140, 69, 137]</td>\n",
       "      <td>[161, 122, 98]</td>\n",
       "    </tr>\n",
       "    <tr>\n",
       "      <th>DSD</th>\n",
       "      <td>DSD</td>\n",
       "      <td>Tracts</td>\n",
       "      <td>11</td>\n",
       "      <td>[121, 135, 124, 133, 103, 112]</td>\n",
       "      <td>[130, 128, 107]</td>\n",
       "    </tr>\n",
       "    <tr>\n",
       "      <th>HiC</th>\n",
       "      <td>HiC</td>\n",
       "      <td>Tracts</td>\n",
       "      <td>12</td>\n",
       "      <td>[127, 131, 112, 116, 153, 158]</td>\n",
       "      <td>[129, 114, 156]</td>\n",
       "    </tr>\n",
       "    <tr>\n",
       "      <th>Field_L</th>\n",
       "      <td>Field_L</td>\n",
       "      <td>Nuclei</td>\n",
       "      <td>1</td>\n",
       "      <td>[89, 165, 112, 133, 167, 196]</td>\n",
       "      <td>[149, 124, 181]</td>\n",
       "    </tr>\n",
       "    <tr>\n",
       "      <th>NCM</th>\n",
       "      <td>NCM</td>\n",
       "      <td>Nuclei</td>\n",
       "      <td>2</td>\n",
       "      <td>[107, 147, 91, 131, 161, 201]</td>\n",
       "      <td>[138, 111, 181]</td>\n",
       "    </tr>\n",
       "    <tr>\n",
       "      <th>Ov</th>\n",
       "      <td>Ov</td>\n",
       "      <td>Nuclei</td>\n",
       "      <td>3</td>\n",
       "      <td>[104, 154, 105, 114, 128, 139]</td>\n",
       "      <td>[149, 110, 134]</td>\n",
       "    </tr>\n",
       "    <tr>\n",
       "      <th>MLd</th>\n",
       "      <td>MLd</td>\n",
       "      <td>Nuclei</td>\n",
       "      <td>4</td>\n",
       "      <td>[78, 176, 81, 95, 111, 127]</td>\n",
       "      <td>[170, 89, 120]</td>\n",
       "    </tr>\n",
       "    <tr>\n",
       "      <th>CMM</th>\n",
       "      <td>CMM</td>\n",
       "      <td>Nuclei</td>\n",
       "      <td>5</td>\n",
       "      <td>[108, 147, 123, 149, 173, 199]</td>\n",
       "      <td>[140, 137, 185]</td>\n",
       "    </tr>\n",
       "    <tr>\n",
       "      <th>TeO</th>\n",
       "      <td>TeO</td>\n",
       "      <td>Nuclei</td>\n",
       "      <td>6</td>\n",
       "      <td>[55, 200, 61, 127, 68, 147]</td>\n",
       "      <td>[177, 93, 100]</td>\n",
       "    </tr>\n",
       "    <tr>\n",
       "      <th>Entopallium</th>\n",
       "      <td>Entopallium</td>\n",
       "      <td>Nuclei</td>\n",
       "      <td>7</td>\n",
       "      <td>[50, 203, 116, 146, 102, 148]</td>\n",
       "      <td>[193, 132, 124]</td>\n",
       "    </tr>\n",
       "    <tr>\n",
       "      <th>Rt</th>\n",
       "      <td>Rt</td>\n",
       "      <td>Nuclei</td>\n",
       "      <td>8</td>\n",
       "      <td>[98, 157, 116, 127, 105, 117]</td>\n",
       "      <td>[153, 122, 111]</td>\n",
       "    </tr>\n",
       "    <tr>\n",
       "      <th>HVC</th>\n",
       "      <td>HVC</td>\n",
       "      <td>Nuclei</td>\n",
       "      <td>9</td>\n",
       "      <td>[75, 184, 89, 119, 193, 214]</td>\n",
       "      <td>[163, 104, 203]</td>\n",
       "    </tr>\n",
       "    <tr>\n",
       "      <th>Area_X</th>\n",
       "      <td>Area_X</td>\n",
       "      <td>Nuclei</td>\n",
       "      <td>10</td>\n",
       "      <td>[85, 174, 142, 174, 106, 142]</td>\n",
       "      <td>[157, 161, 126]</td>\n",
       "    </tr>\n",
       "    <tr>\n",
       "      <th>RA</th>\n",
       "      <td>RA</td>\n",
       "      <td>Nuclei</td>\n",
       "      <td>11</td>\n",
       "      <td>[86, 175, 76, 94, 162, 176]</td>\n",
       "      <td>[166, 87, 169]</td>\n",
       "    </tr>\n",
       "    <tr>\n",
       "      <th>DLM</th>\n",
       "      <td>DLM</td>\n",
       "      <td>Nuclei</td>\n",
       "      <td>12</td>\n",
       "      <td>[102, 153, 103, 114, 137, 146]</td>\n",
       "      <td>[147, 110, 143]</td>\n",
       "    </tr>\n",
       "    <tr>\n",
       "      <th>MAN</th>\n",
       "      <td>MAN</td>\n",
       "      <td>Nuclei</td>\n",
       "      <td>13</td>\n",
       "      <td>[89, 162, 164, 175, 133, 152]</td>\n",
       "      <td>[146, 171, 143]</td>\n",
       "    </tr>\n",
       "    <tr>\n",
       "      <th>Olfactory_Bulb_Nuclei</th>\n",
       "      <td>Olfactory_Bulb_Nuclei</td>\n",
       "      <td>Nuclei</td>\n",
       "      <td>14</td>\n",
       "      <td>[117, 133, 188, 210, 82, 98]</td>\n",
       "      <td>[129, 200, 89]</td>\n",
       "    </tr>\n",
       "    <tr>\n",
       "      <th>POM</th>\n",
       "      <td>POM</td>\n",
       "      <td>Nuclei</td>\n",
       "      <td>15</td>\n",
       "      <td>[120, 137, 119, 128, 128, 140]</td>\n",
       "      <td>[131, 124, 134]</td>\n",
       "    </tr>\n",
       "    <tr>\n",
       "      <th>TnA</th>\n",
       "      <td>TnA</td>\n",
       "      <td>Nuclei</td>\n",
       "      <td>16</td>\n",
       "      <td>[90, 167, 83, 98, 143, 163]</td>\n",
       "      <td>[157, 91, 154]</td>\n",
       "    </tr>\n",
       "    <tr>\n",
       "      <th>GCt</th>\n",
       "      <td>GCt</td>\n",
       "      <td>Nuclei</td>\n",
       "      <td>17</td>\n",
       "      <td>[117, 140, 91, 99, 130, 140]</td>\n",
       "      <td>[133, 95, 135]</td>\n",
       "    </tr>\n",
       "    <tr>\n",
       "      <th>LS</th>\n",
       "      <td>LS</td>\n",
       "      <td>Nuclei</td>\n",
       "      <td>18</td>\n",
       "      <td>[116, 142, 120, 129, 150, 164]</td>\n",
       "      <td>[137, 125, 157]</td>\n",
       "    </tr>\n",
       "    <tr>\n",
       "      <th>MS</th>\n",
       "      <td>MS</td>\n",
       "      <td>Nuclei</td>\n",
       "      <td>19</td>\n",
       "      <td>[121, 136, 120, 130, 147, 159]</td>\n",
       "      <td>[131, 125, 153]</td>\n",
       "    </tr>\n",
       "    <tr>\n",
       "      <th>PVN</th>\n",
       "      <td>PVN</td>\n",
       "      <td>Nuclei</td>\n",
       "      <td>20</td>\n",
       "      <td>[123, 134, 119, 124, 118, 127]</td>\n",
       "      <td>[130, 122, 122]</td>\n",
       "    </tr>\n",
       "    <tr>\n",
       "      <th>VMH</th>\n",
       "      <td>VMH</td>\n",
       "      <td>Nuclei</td>\n",
       "      <td>21</td>\n",
       "      <td>[122, 134, 119, 124, 106, 115]</td>\n",
       "      <td>[132, 122, 110]</td>\n",
       "    </tr>\n",
       "    <tr>\n",
       "      <th>VTA</th>\n",
       "      <td>VTA</td>\n",
       "      <td>Nuclei</td>\n",
       "      <td>22</td>\n",
       "      <td>[111, 148, 96, 98, 105, 112]</td>\n",
       "      <td>[146, 97, 109]</td>\n",
       "    </tr>\n",
       "    <tr>\n",
       "      <th>y_sinus</th>\n",
       "      <td>y_sinus</td>\n",
       "      <td>y_sinus</td>\n",
       "      <td>NaN</td>\n",
       "      <td>NaN</td>\n",
       "      <td>[126, 98, 205]</td>\n",
       "    </tr>\n",
       "  </tbody>\n",
       "</table>\n",
       "</div>"
      ],
      "text/plain": [
       "                                      region         type_ reg_ID  \\\n",
       "region                                                              \n",
       "Nidopallium                      Nidopallium  Brainregions      1   \n",
       "Mesopallium                      Mesopallium  Brainregions      2   \n",
       "Arcopallium                      Arcopallium  Brainregions      3   \n",
       "Hyperpallium                    Hyperpallium  Brainregions      4   \n",
       "Hippocampus                      Hippocampus  Brainregions      5   \n",
       "Striatum                            Striatum  Brainregions      7   \n",
       "Olfactory_Bulb                Olfactory_Bulb  Brainregions      8   \n",
       "Midbrain                            Midbrain  Brainregions      9   \n",
       "Diencephalon                    Diencephalon  Brainregions     10   \n",
       "Cerebellum                        Cerebellum  Brainregions     11   \n",
       "Pont                                    Pont  Brainregions     12   \n",
       "TrsM                                    TrsM        Tracts      1   \n",
       "CoA                                      CoA        Tracts      2   \n",
       "CoP                                      CoP        Tracts      3   \n",
       "N3                                        N3        Tracts      4   \n",
       "OM                                        OM        Tracts      5   \n",
       "MFB                                      MFB        Tracts      6   \n",
       "LFB                                      LFB        Tracts      7   \n",
       "QF                                        QF        Tracts      8   \n",
       "FA                                        FA        Tracts      9   \n",
       "Opt                                      Opt        Tracts     10   \n",
       "DSD                                      DSD        Tracts     11   \n",
       "HiC                                      HiC        Tracts     12   \n",
       "Field_L                              Field_L        Nuclei      1   \n",
       "NCM                                      NCM        Nuclei      2   \n",
       "Ov                                        Ov        Nuclei      3   \n",
       "MLd                                      MLd        Nuclei      4   \n",
       "CMM                                      CMM        Nuclei      5   \n",
       "TeO                                      TeO        Nuclei      6   \n",
       "Entopallium                      Entopallium        Nuclei      7   \n",
       "Rt                                        Rt        Nuclei      8   \n",
       "HVC                                      HVC        Nuclei      9   \n",
       "Area_X                                Area_X        Nuclei     10   \n",
       "RA                                        RA        Nuclei     11   \n",
       "DLM                                      DLM        Nuclei     12   \n",
       "MAN                                      MAN        Nuclei     13   \n",
       "Olfactory_Bulb_Nuclei  Olfactory_Bulb_Nuclei        Nuclei     14   \n",
       "POM                                      POM        Nuclei     15   \n",
       "TnA                                      TnA        Nuclei     16   \n",
       "GCt                                      GCt        Nuclei     17   \n",
       "LS                                        LS        Nuclei     18   \n",
       "MS                                        MS        Nuclei     19   \n",
       "PVN                                      PVN        Nuclei     20   \n",
       "VMH                                      VMH        Nuclei     21   \n",
       "VTA                                      VTA        Nuclei     22   \n",
       "y_sinus                              y_sinus       y_sinus    NaN   \n",
       "\n",
       "                                        region_bounds       coords_vox  \n",
       "region                                                                  \n",
       "Nidopallium               [21, 235, 52, 191, 91, 213]  [183, 119, 153]  \n",
       "Mesopallium              [23, 235, 102, 208, 90, 205]  [184, 157, 154]  \n",
       "Arcopallium              [66, 194, 66, 106, 127, 175]   [172, 89, 154]  \n",
       "Hyperpallium             [45, 204, 131, 216, 87, 210]  [152, 184, 147]  \n",
       "Hippocampus              [87, 160, 77, 144, 171, 214]  [140, 112, 201]  \n",
       "Striatum                  [56, 199, 97, 178, 91, 171]  [156, 145, 129]  \n",
       "Olfactory_Bulb           [112, 138, 189, 214, 80, 98]   [130, 203, 89]  \n",
       "Midbrain                  [55, 205, 61, 191, 63, 166]   [168, 95, 105]  \n",
       "Diencephalon              [79, 174, 97, 138, 88, 167]  [143, 116, 120]  \n",
       "Cerebellum               [83, 174, 14, 205, 116, 214]   [139, 58, 162]  \n",
       "Pont                        [97, 168, 0, 97, 76, 135]   [142, 57, 103]  \n",
       "TrsM                   [105, 150, 127, 152, 111, 153]  [134, 140, 131]  \n",
       "CoA                    [112, 144, 118, 126, 137, 146]  [134, 122, 142]  \n",
       "CoP                     [115, 145, 93, 102, 135, 145]   [134, 98, 140]  \n",
       "N3                       [122, 137, 91, 104, 89, 119]   [130, 98, 106]  \n",
       "OM                       [91, 169, 94, 125, 124, 160]  [151, 112, 142]  \n",
       "MFB                    [140, 149, 123, 131, 112, 122]  [144, 127, 117]  \n",
       "LFB                    [147, 169, 129, 139, 112, 127]  [159, 134, 120]  \n",
       "QF                     [169, 176, 131, 137, 116, 124]  [172, 134, 120]  \n",
       "FA                       [61, 197, 78, 122, 105, 148]   [191, 98, 126]  \n",
       "Opt                       [70, 189, 68, 140, 69, 137]   [161, 122, 98]  \n",
       "DSD                    [121, 135, 124, 133, 103, 112]  [130, 128, 107]  \n",
       "HiC                    [127, 131, 112, 116, 153, 158]  [129, 114, 156]  \n",
       "Field_L                 [89, 165, 112, 133, 167, 196]  [149, 124, 181]  \n",
       "NCM                     [107, 147, 91, 131, 161, 201]  [138, 111, 181]  \n",
       "Ov                     [104, 154, 105, 114, 128, 139]  [149, 110, 134]  \n",
       "MLd                       [78, 176, 81, 95, 111, 127]   [170, 89, 120]  \n",
       "CMM                    [108, 147, 123, 149, 173, 199]  [140, 137, 185]  \n",
       "TeO                       [55, 200, 61, 127, 68, 147]   [177, 93, 100]  \n",
       "Entopallium             [50, 203, 116, 146, 102, 148]  [193, 132, 124]  \n",
       "Rt                      [98, 157, 116, 127, 105, 117]  [153, 122, 111]  \n",
       "HVC                      [75, 184, 89, 119, 193, 214]  [163, 104, 203]  \n",
       "Area_X                  [85, 174, 142, 174, 106, 142]  [157, 161, 126]  \n",
       "RA                        [86, 175, 76, 94, 162, 176]   [166, 87, 169]  \n",
       "DLM                    [102, 153, 103, 114, 137, 146]  [147, 110, 143]  \n",
       "MAN                     [89, 162, 164, 175, 133, 152]  [146, 171, 143]  \n",
       "Olfactory_Bulb_Nuclei    [117, 133, 188, 210, 82, 98]   [129, 200, 89]  \n",
       "POM                    [120, 137, 119, 128, 128, 140]  [131, 124, 134]  \n",
       "TnA                       [90, 167, 83, 98, 143, 163]   [157, 91, 154]  \n",
       "GCt                      [117, 140, 91, 99, 130, 140]   [133, 95, 135]  \n",
       "LS                     [116, 142, 120, 129, 150, 164]  [137, 125, 157]  \n",
       "MS                     [121, 136, 120, 130, 147, 159]  [131, 125, 153]  \n",
       "PVN                    [123, 134, 119, 124, 118, 127]  [130, 122, 122]  \n",
       "VMH                    [122, 134, 119, 124, 106, 115]  [132, 122, 110]  \n",
       "VTA                      [111, 148, 96, 98, 105, 112]   [146, 97, 109]  \n",
       "y_sinus                                           NaN   [126, 98, 205]  "
      ]
     },
     "execution_count": 15,
     "metadata": {},
     "output_type": "execute_result"
    }
   ],
   "source": [
    "starling_atlas.region_vox['reg'].coords_vox"
   ]
  },
  {
   "cell_type": "code",
   "execution_count": null,
   "metadata": {},
   "outputs": [],
   "source": []
  }
 ],
 "metadata": {
  "kernelspec": {
   "display_name": "Python 3",
   "language": "python",
   "name": "python3"
  },
  "language_info": {
   "codemirror_mode": {
    "name": "ipython",
    "version": 3
   },
   "file_extension": ".py",
   "mimetype": "text/x-python",
   "name": "python",
   "nbconvert_exporter": "python",
   "pygments_lexer": "ipython3",
   "version": "3.6.7"
  },
  "toc": {
   "base_numbering": 1,
   "nav_menu": {},
   "number_sections": true,
   "sideBar": true,
   "skip_h1_title": false,
   "title_cell": "Table of Contents",
   "title_sidebar": "Contents",
   "toc_cell": false,
   "toc_position": {},
   "toc_section_display": true,
   "toc_window_display": false
  }
 },
 "nbformat": 4,
 "nbformat_minor": 2
}
