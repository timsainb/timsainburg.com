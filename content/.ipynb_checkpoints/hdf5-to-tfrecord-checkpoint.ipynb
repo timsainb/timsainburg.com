{
 "cells": [
  {
   "cell_type": "markdown",
   "metadata": {},
   "source": [
    "- Title: Converting from HDF5 to tfrecord and reading into in tensorflow\n",
    "- Date: 2019-04-29 10:01\n",
    "- Category: Tensorflow\n",
    "- Tags: tensorflow hdf5, tfrecord, convert\n",
    "- Slug: convert-hdf5-tfrecord\n",
    "- Authors: Tim Sainburg\n",
    "- githuburl: https://github.com/timsainb/noisereduce\n",
    "- Summary: How to convert tfrecord files to hdf5 files, and read them into tensorflow. "
   ]
  },
  {
   "cell_type": "markdown",
   "metadata": {},
   "source": [
    "# Converting from HDF5 to tfrecord in tensorflow (in tensorflow 2.X and 1.X)\n",
    "HDF5 is a popular file format for handling large complex datasets, often the type of datasets we want to use to train machine learning models in tensorflow. This example was made because I had to piece together several resources to convert my dataset and read it into tensorflow, so I wanted to put online a very simple and quick example for others. "
   ]
  },
  {
   "cell_type": "markdown",
   "metadata": {},
   "source": [
    "### Making an example hdf5 dataset\n",
    "First, lets make a quick hdf5 dataset out of fashion-MNIST (which we can import from the tensorflow). To make the dataset diverse, we'll use some `uint8`, `float32`, `int64`, and `string` type data."
   ]
  },
  {
   "cell_type": "code",
   "execution_count": 19,
   "metadata": {
    "ExecuteTime": {
     "end_time": "2019-05-01T20:04:15.826079Z",
     "start_time": "2019-05-01T20:04:15.464110Z"
    }
   },
   "outputs": [],
   "source": [
    "import tensorflow as tf\n",
    "# load dataset\n",
    "(train_images, train_labels), _ = tf.keras.datasets.mnist.load_data()"
   ]
  },
  {
   "cell_type": "code",
   "execution_count": 20,
   "metadata": {
    "ExecuteTime": {
     "end_time": "2019-05-01T20:04:17.998165Z",
     "start_time": "2019-05-01T20:04:17.988517Z"
    }
   },
   "outputs": [
    {
     "data": {
      "text/plain": [
       "((60000, 28, 28), dtype('uint8'), (60000,), dtype('uint8'))"
      ]
     },
     "execution_count": 20,
     "metadata": {},
     "output_type": "execute_result"
    }
   ],
   "source": [
    "# take a look at the data\n",
    "import numpy as np\n",
    "np.shape(train_images), train_images.dtype, np.shape(train_labels), train_labels.dtype"
   ]
  },
  {
   "cell_type": "code",
   "execution_count": 23,
   "metadata": {
    "ExecuteTime": {
     "end_time": "2019-05-01T20:04:57.494582Z",
     "start_time": "2019-05-01T20:04:57.253285Z"
    }
   },
   "outputs": [
    {
     "data": {
      "text/plain": [
       "['five', 'zero', 'four']"
      ]
     },
     "execution_count": 23,
     "metadata": {},
     "output_type": "execute_result"
    }
   ],
   "source": [
    "# lets make some text labels for our dataset\n",
    "text_label_dict = {0:\"zero\", 1:\"one\", 2:\"two\", 3:\"three\", 4:\"four\", 5:\"five\", 6:\"six\", 7:\"seven\", 8:\"eight\", 9:\"nine\"}\n",
    "text_labels = [text_label_dict[i] for i in train_labels]\n",
    "text_labels[:3]"
   ]
  },
  {
   "cell_type": "code",
   "execution_count": 27,
   "metadata": {
    "ExecuteTime": {
     "end_time": "2019-05-01T20:06:41.195466Z",
     "start_time": "2019-05-01T20:06:41.187548Z"
    }
   },
   "outputs": [],
   "source": [
    "# lets get everything into a dictionary so we can save it using deepdish\n",
    "hdf5_dict = {\n",
    "    \"text_labels\": text_labels,\n",
    "    \"train_images\": train_images,\n",
    "    \"float32_labels\": train_labels.astype(np.float32),\n",
    "    \"int64_labels\": train_labels.astype(np.int64)\n",
    "}"
   ]
  },
  {
   "cell_type": "code",
   "execution_count": 30,
   "metadata": {
    "ExecuteTime": {
     "end_time": "2019-05-01T20:08:04.952127Z",
     "start_time": "2019-05-01T20:08:04.409560Z"
    }
   },
   "outputs": [],
   "source": [
    "# now lets save it as hdf5 using deepdish for simplicity\n",
    "import deepdish as dd\n",
    "dd.io.save(\"myhdf5.hdf5\", hdf5_dict, compression=None)"
   ]
  },
  {
   "cell_type": "markdown",
   "metadata": {},
   "source": [
    "### converting the HDF5 to tfrecord\n",
    "Now that our data is HDF5 format, lets load it back up and convert it to tfrecord. First, we need to define functions to convert each \"feature\" (e.g. \"one\", 1, or a handwritten digit) into a tensorflow feature object. There are three types of objects, `_bytes_feature`, `_float_feature`, or `_int64_feature`. All of our data needs to be converted into this format. "
   ]
  },
  {
   "cell_type": "code",
   "execution_count": 31,
   "metadata": {
    "ExecuteTime": {
     "end_time": "2019-05-01T20:11:15.597425Z",
     "start_time": "2019-05-01T20:11:15.585084Z"
    }
   },
   "outputs": [],
   "source": [
    "def _bytes_feature(value):\n",
    "    \"\"\"Returns a bytes_list from a string / byte.\"\"\"\n",
    "    return tf.train.Feature(bytes_list=tf.train.BytesList(value=[value]))\n",
    "\n",
    "\n",
    "def _float_feature(value):\n",
    "    \"\"\"Returns a float_list from a float / double.\"\"\"\n",
    "    return tf.train.Feature(float_list=tf.train.FloatList(value=[value]))\n",
    "\n",
    "\n",
    "def _int64_feature(value):\n",
    "    \"\"\"Returns an int64_list from a bool / enum / int / uint.\"\"\"\n",
    "    return tf.train.Feature(int64_list=tf.train.Int64List(value=[value]))"
   ]
  },
  {
   "cell_type": "code",
   "execution_count": 34,
   "metadata": {
    "ExecuteTime": {
     "end_time": "2019-05-01T20:12:05.693512Z",
     "start_time": "2019-05-01T20:12:05.241001Z"
    }
   },
   "outputs": [
    {
     "data": {
      "text/plain": [
       "dict_keys(['float32_labels', 'int64_labels', 'text_labels', 'train_images'])"
      ]
     },
     "execution_count": 34,
     "metadata": {},
     "output_type": "execute_result"
    }
   ],
   "source": [
    "# lets load our data back up\n",
    "mydata = dd.io.load(\"myhdf5.hdf5\")\n",
    "mydata.keys()"
   ]
  },
  {
   "cell_type": "code",
   "execution_count": 43,
   "metadata": {
    "ExecuteTime": {
     "end_time": "2019-05-01T20:13:26.420043Z",
     "start_time": "2019-05-01T20:13:26.412487Z"
    }
   },
   "outputs": [
    {
     "name": "stdout",
     "output_type": "stream",
     "text": [
      "5.0 <class 'tensorflow.core.example.feature_pb2.Feature'>\n"
     ]
    }
   ],
   "source": [
    "# lets see what it looks like to convert one sample into a feature\n",
    "print(mydata['float32_labels'][0], type(_float_feature(mydata['float32_labels'][0])))"
   ]
  },
  {
   "cell_type": "markdown",
   "metadata": {},
   "source": [
    "Now, to convert a whole row of samples from our dataset into features, we need to serialize that example. To do this, I wrote a the function `serialize_example`, which takes as an argument the data, its name, and what type of feature it will be written as. "
   ]
  },
  {
   "cell_type": "code",
   "execution_count": 60,
   "metadata": {
    "ExecuteTime": {
     "end_time": "2019-05-01T20:30:49.707740Z",
     "start_time": "2019-05-01T20:30:49.697845Z"
    }
   },
   "outputs": [],
   "source": [
    "def serialize_example(example):\n",
    "    \"\"\"Serialize an item in a dataset\n",
    "    Arguments:\n",
    "      example {[list]} -- list of dictionaries with fields \"name\" , \"_type\", and \"data\"\n",
    "\n",
    "    Returns:\n",
    "      [type] -- [description]\n",
    "    \"\"\"\n",
    "    dset_item = {}\n",
    "    for feature in example.keys():\n",
    "        dset_item[feature] = example[feature][\"_type\"](example[feature][\"data\"])\n",
    "        example_proto = tf.train.Example(features=tf.train.Features(feature=dset_item))\n",
    "    return example_proto.SerializeToString()\n"
   ]
  },
  {
   "cell_type": "markdown",
   "metadata": {},
   "source": [
    "#### Lets test it on a single row:"
   ]
  },
  {
   "cell_type": "code",
   "execution_count": 58,
   "metadata": {
    "ExecuteTime": {
     "end_time": "2019-05-01T20:30:28.000702Z",
     "start_time": "2019-05-01T20:30:27.988054Z"
    }
   },
   "outputs": [],
   "source": [
    "row = 0\n",
    "example = serialize_example(\n",
    "    {\n",
    "        \"float32_labels\": {\n",
    "            \"data\": mydata[\"float32_labels\"][row],\n",
    "            \"_type\": _float_feature,\n",
    "        },\n",
    "        \"int64_labels\": {\n",
    "            \"data\": mydata[\"int64_labels\"][row],\n",
    "            \"_type\": _int64_feature,\n",
    "        },\n",
    "        \"text_labels\": {\n",
    "            \"data\": np.string_(mydata[\"text_labels\"][row]).astype(\"|S7\"),\n",
    "            \"_type\": _bytes_feature,\n",
    "        },\n",
    "        \"train_images\": {\n",
    "            \"data\": mydata[\"train_images\"][row].flatten().tobytes(),\n",
    "            \"_type\": _bytes_feature,\n",
    "        },\n",
    "    }\n",
    ")"
   ]
  },
  {
   "cell_type": "code",
   "execution_count": 65,
   "metadata": {
    "ExecuteTime": {
     "end_time": "2019-05-01T20:31:51.405965Z",
     "start_time": "2019-05-01T20:31:51.401217Z"
    }
   },
   "outputs": [
    {
     "name": "stdout",
     "output_type": "stream",
     "text": [
      "b'\\n\\xf6\\x06\\n\\xa7\\x06\\n\\x0ctrain_images\\x12\\x96\\x06\\n\\x93\\x06\\n\\x90\\x06\\x00\\x00\\x00\\x00\\x00\\x00\\x00\\x00\\x00\\x00\\x00\\x00\\x00\\x00\\x00\\x00\\x00\\x00\\x00\\x00\\x00\\x00\\x00\\x00\\x00\\x00\\x00\\x00\\x00\\x00\\x00\\x00\\x00\\x00\\x00\\x00\\x00\\x00\\x00\\x00\\x00\\x00\\x00\\x00\\x00\\x00\\x00\\x00\\x00\\x00\\x00\\x00\\x00\\x00\\x00\\x00\\x00\\x00\\x00\\x00\\x00\\x00\\x00\\x00\\x00\\x00\\x00\\x00\\x00\\x00\\x00'...\n"
     ]
    }
   ],
   "source": [
    "print('{}...'.format(example[:100]))"
   ]
  },
  {
   "cell_type": "markdown",
   "metadata": {},
   "source": [
    "### Write to a tfrecord file"
   ]
  },
  {
   "cell_type": "code",
   "execution_count": 96,
   "metadata": {
    "ExecuteTime": {
     "end_time": "2019-05-01T20:39:18.442657Z",
     "start_time": "2019-05-01T20:39:06.327405Z"
    }
   },
   "outputs": [
    {
     "data": {
      "application/vnd.jupyter.widget-view+json": {
       "model_id": "952c83e192e34f8f9c6f77a1ae47efae",
       "version_major": 2,
       "version_minor": 0
      },
      "text/plain": [
       "HBox(children=(IntProgress(value=0, max=60000), HTML(value='')))"
      ]
     },
     "metadata": {},
     "output_type": "display_data"
    },
    {
     "name": "stdout",
     "output_type": "stream",
     "text": [
      "\n"
     ]
    }
   ],
   "source": [
    "from tqdm.autonotebook import tqdm # just a progressbar\n",
    "n_observations = len(mydata[\"float32_labels\"])  # how many items are in your dataset\n",
    "# loop through hdf5 of examples, save to tfrecord\n",
    "with tf.io.TFRecordWriter(str('myfile.tfrecord')) as writer:\n",
    "    # for each example\n",
    "    for exi in tqdm(range(n_observations)):\n",
    "        # create an item in the datset converted to the correct formats (float, int, byte)\n",
    "        example = serialize_example(\n",
    "            {\n",
    "                \"float32_labels\": {\n",
    "                    \"data\": mydata[\"float32_labels\"][exi],\n",
    "                    \"_type\": _float_feature,\n",
    "                },\n",
    "                \"int64_labels\": {\n",
    "                    \"data\": mydata[\"int64_labels\"][exi],\n",
    "                    \"_type\": _int64_feature,\n",
    "                },\n",
    "                \"text_labels\": {\n",
    "                    \"data\": np.string_(mydata[\"text_labels\"][exi]).astype(\"|S7\"),\n",
    "                    \"_type\": _bytes_feature,\n",
    "                },\n",
    "                \"train_images\": {\n",
    "                    \"data\": mydata[\"train_images\"][exi].flatten().tobytes(),\n",
    "                    \"_type\": _bytes_feature,\n",
    "                },\n",
    "            }\n",
    "        )\n",
    "        # write the defined example into the dataset\n",
    "        writer.write(example)"
   ]
  },
  {
   "cell_type": "markdown",
   "metadata": {},
   "source": [
    "## Reading the data back"
   ]
  },
  {
   "cell_type": "markdown",
   "metadata": {},
   "source": [
    "### A few ways to read the dataset"
   ]
  },
  {
   "cell_type": "markdown",
   "metadata": {},
   "source": [
    "#### Read dataset with numpy + ParseFromString"
   ]
  },
  {
   "cell_type": "code",
   "execution_count": 102,
   "metadata": {
    "ExecuteTime": {
     "end_time": "2019-05-01T20:40:55.488512Z",
     "start_time": "2019-05-01T20:40:55.470663Z"
    }
   },
   "outputs": [],
   "source": [
    "# dataset class https://www.tensorflow.org/api_docs/python/tf/data/TFRecordDataset\n",
    "raw_dataset = tf.data.TFRecordDataset([str(\"myfile.tfrecord\")])"
   ]
  },
  {
   "cell_type": "code",
   "execution_count": 103,
   "metadata": {
    "ExecuteTime": {
     "end_time": "2019-05-01T20:40:55.619134Z",
     "start_time": "2019-05-01T20:40:55.613859Z"
    }
   },
   "outputs": [],
   "source": [
    "# create a 'Dataset' with at most 'count' elements\n",
    "dset = raw_dataset.take(count=10)"
   ]
  },
  {
   "cell_type": "code",
   "execution_count": 104,
   "metadata": {
    "ExecuteTime": {
     "end_time": "2019-05-01T20:40:55.981887Z",
     "start_time": "2019-05-01T20:40:55.956714Z"
    }
   },
   "outputs": [
    {
     "data": {
      "text/plain": [
       "['float32_labels', 'int64_labels', 'text_labels', 'train_images']"
      ]
     },
     "execution_count": 104,
     "metadata": {},
     "output_type": "execute_result"
    }
   ],
   "source": [
    "# grab a single element from that dataset\n",
    "element = list(dset)[1]\n",
    "# a \"Feature message\" https://www.tensorflow.org/api_docs/python/tf/train/Example\n",
    "example = tf.train.Example()\n",
    "# parse the element in to the example message\n",
    "example.ParseFromString(element.numpy())\n",
    "list(example.features.feature)"
   ]
  },
  {
   "cell_type": "code",
   "execution_count": 105,
   "metadata": {
    "ExecuteTime": {
     "end_time": "2019-05-01T20:40:56.053998Z",
     "start_time": "2019-05-01T20:40:55.985977Z"
    }
   },
   "outputs": [],
   "source": [
    "import matplotlib.pyplot as plt\n",
    "%matplotlib inline"
   ]
  },
  {
   "cell_type": "code",
   "execution_count": 125,
   "metadata": {
    "ExecuteTime": {
     "end_time": "2019-05-01T20:49:54.511083Z",
     "start_time": "2019-05-01T20:49:53.991173Z"
    }
   },
   "outputs": [
    {
     "data": {
      "image/png": "[encoded data removed]",
      "text/plain": [
       "<Figure size 1080x216 with 5 Axes>"
      ]
     },
     "metadata": {
      "needs_background": "light"
     },
     "output_type": "display_data"
    }
   ],
   "source": [
    "fig, ax = plt.subplots(ncols = 5, figsize=(15,3))\n",
    "for i in range(5):\n",
    "    # grab a single element from that dataset\n",
    "    element = list(dset)[i]\n",
    "    # a \"Feature message\" https://www.tensorflow.org/api_docs/python/tf/train/Example\n",
    "    example = tf.train.Example()\n",
    "    # parse the element in to the example message\n",
    "    example.ParseFromString(element.numpy())\n",
    "    # subset the syllable\n",
    "    img_buff = dict(example.features.feature)['train_images']\n",
    "    # convert the buffer into a uint8\n",
    "    image = tf.io.decode_raw(img_buff.bytes_list.value[0], tf.uint8).numpy().reshape(28,28)\n",
    "    # show the image\n",
    "    ax[i].matshow(image, cmap=plt.cm.Greys)\n",
    "    string_label = (dict(example.features.feature)['text_labels'].bytes_list.value[0]).decode(\"utf-8\") \n",
    "    ax[i].set_title(string_label)\n",
    "    ax[i].axis('off')"
   ]
  },
  {
   "cell_type": "markdown",
   "metadata": {},
   "source": [
    "### read the dataset directly into tensorflow\n",
    "This will be be more useful for feeding directly into your graph. We need to parse this data back into its original data format, which tensorflow tensorflow doesnt store. The function below is taking an example from the dataset, reading it, and parsing it back into its original data type"
   ]
  },
  {
   "cell_type": "code",
   "execution_count": 128,
   "metadata": {
    "ExecuteTime": {
     "end_time": "2019-05-01T21:03:05.884732Z",
     "start_time": "2019-05-01T21:03:05.877736Z"
    }
   },
   "outputs": [],
   "source": [
    "if int(tf.__version__[0]) < 2:\n",
    "    from tensorflow import FixedLenFeature, parse_single_example\n",
    "else:\n",
    "    from tensorflow.io import FixedLenFeature, parse_single_example"
   ]
  },
  {
   "cell_type": "code",
   "execution_count": 129,
   "metadata": {
    "ExecuteTime": {
     "end_time": "2019-05-01T21:03:06.613821Z",
     "start_time": "2019-05-01T21:03:06.606927Z"
    }
   },
   "outputs": [],
   "source": [
    "def _dtype_to_tf_feattype(dtype):\n",
    "    \"\"\" convert tf dtype to correct tffeature format\n",
    "    \"\"\"\n",
    "    if dtype in [tf.float32, tf.int64]:\n",
    "        return dtype\n",
    "    else:\n",
    "        return tf.string"
   ]
  },
  {
   "cell_type": "code",
   "execution_count": 147,
   "metadata": {
    "ExecuteTime": {
     "end_time": "2019-05-01T21:13:02.762937Z",
     "start_time": "2019-05-01T21:13:02.754308Z"
    }
   },
   "outputs": [],
   "source": [
    "def _parse_function(example_proto, data_types):\n",
    "    \"\"\" parse dataset from tfrecord, and convert to correct format\n",
    "    \"\"\"\n",
    "    # list features\n",
    "    features = {\n",
    "        lab: FixedLenFeature([], _dtype_to_tf_feattype(dtype))\n",
    "        for lab, dtype in data_types.items()\n",
    "    }\n",
    "    # parse features\n",
    "    parsed_features = parse_single_example(example_proto, features)\n",
    "    feat_dtypes = [tf.float32, tf.string, tf.int64]\n",
    "    \n",
    "    # convert the features if they are in the wrong format\n",
    "    parse_list = [\n",
    "        parsed_features[lab]\n",
    "        if dtype in feat_dtypes\n",
    "        else tf.io.decode_raw(parsed_features[lab], dtype)\n",
    "        for lab, dtype in data_types.items()\n",
    "    ]\n",
    "    return parse_list"
   ]
  },
  {
   "cell_type": "code",
   "execution_count": 148,
   "metadata": {
    "ExecuteTime": {
     "end_time": "2019-05-01T21:13:02.919069Z",
     "start_time": "2019-05-01T21:13:02.898421Z"
    }
   },
   "outputs": [],
   "source": [
    "# read the dataset\n",
    "raw_dataset = tf.data.TFRecordDataset([str(\"myfile.tfrecord\")])"
   ]
  },
  {
   "cell_type": "code",
   "execution_count": 156,
   "metadata": {
    "ExecuteTime": {
     "end_time": "2019-05-01T21:14:56.187661Z",
     "start_time": "2019-05-01T21:14:56.181122Z"
    }
   },
   "outputs": [],
   "source": [
    "data_types = {\n",
    "    \"float32_labels\": tf.float32,\n",
    "    \"int64_labels\": tf.int64,\n",
    "    \"text_labels\": tf.string,\n",
    "    \"train_images\": tf.uint8,\n",
    "}"
   ]
  },
  {
   "cell_type": "code",
   "execution_count": 157,
   "metadata": {
    "ExecuteTime": {
     "end_time": "2019-05-01T21:14:56.350265Z",
     "start_time": "2019-05-01T21:14:56.315468Z"
    }
   },
   "outputs": [],
   "source": [
    "# parse each data type to the raw dataset\n",
    "dataset = raw_dataset.map(lambda x: _parse_function(x, data_types=data_types))"
   ]
  },
  {
   "cell_type": "code",
   "execution_count": 158,
   "metadata": {
    "ExecuteTime": {
     "end_time": "2019-05-01T21:14:56.470091Z",
     "start_time": "2019-05-01T21:14:56.462724Z"
    }
   },
   "outputs": [],
   "source": [
    "# shuffle the dataset\n",
    "dataset = dataset.shuffle(buffer_size=10000)\n",
    "# create batches\n",
    "dataset = dataset.batch(10)"
   ]
  },
  {
   "cell_type": "code",
   "execution_count": 160,
   "metadata": {
    "ExecuteTime": {
     "end_time": "2019-05-01T21:15:41.356443Z",
     "start_time": "2019-05-01T21:15:40.771175Z"
    }
   },
   "outputs": [],
   "source": [
    "float32_labs, int64_labs, string_labs, images  = next(iter(dataset))"
   ]
  },
  {
   "cell_type": "code",
   "execution_count": 164,
   "metadata": {
    "ExecuteTime": {
     "end_time": "2019-05-01T21:16:42.741360Z",
     "start_time": "2019-05-01T21:16:42.348451Z"
    }
   },
   "outputs": [
    {
     "data": {
      "image/png": "[encoded data removed]",
      "text/plain": [
       "<Figure size 1080x216 with 5 Axes>"
      ]
     },
     "metadata": {
      "needs_background": "light"
     },
     "output_type": "display_data"
    }
   ],
   "source": [
    "fig, ax = plt.subplots(ncols = 5, figsize=(15,3))\n",
    "for i in range(5):\n",
    "    # show the image\n",
    "    ax[i].matshow(images[i].numpy().reshape(28,28), cmap=plt.cm.Greys)\n",
    "    string_label = string_labs[i].numpy().decode(\"utf-8\") \n",
    "    ax[i].set_title(string_label)\n",
    "    ax[i].axis('off')"
   ]
  }
 ],
 "metadata": {
  "kernelspec": {
   "display_name": "Python 3",
   "language": "python",
   "name": "python3"
  },
  "language_info": {
   "codemirror_mode": {
    "name": "ipython",
    "version": 3
   },
   "file_extension": ".py",
   "mimetype": "text/x-python",
   "name": "python",
   "nbconvert_exporter": "python",
   "pygments_lexer": "ipython3",
   "version": "3.6.8"
  }
 },
 "nbformat": 4,
 "nbformat_minor": 2
}
