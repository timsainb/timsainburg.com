{
 "cells": [
  {
   "cell_type": "markdown",
   "metadata": {},
   "source": [
    "- Title: Converting from HDF5 to tfrecord and reading tfrecords into tensorflow\n",
    "- Date: 2019-04-29 10:01\n",
    "- Category: Tensorflow\n",
    "- Tags: tensorflow hdf5, tfrecord, convert\n",
    "- Slug: convert-hdf5-tfrecord\n",
    "- Authors: Tim Sainburg\n",
    "- githuburl: \n",
    "- Summary: How to convert hdf5 files to tfrecord files, and read them into tensorflow. "
   ]
  },
  {
   "cell_type": "markdown",
   "metadata": {},
   "source": [
    "HDF5 is a popular file format for handling large complex datasets, often the type of datasets we want to use to train machine learning models in tensorflow. This example was made because I had to piece together several resources to convert my dataset and read it into tensorflow, so I wanted to put online a very simple and quick example for others. "
   ]
  },
  {
   "cell_type": "markdown",
   "metadata": {},
   "source": [
    "### Making an example hdf5 dataset\n",
    "First, lets make a quick hdf5 dataset out of fashion-MNIST (which we can import from the tensorflow). To make the dataset diverse, we'll use some `uint8`, `float32`, `int64`, and `string` type data."
   ]
  },
  {
   "cell_type": "code",
   "execution_count": 1,
   "metadata": {
    "ExecuteTime": {
     "end_time": "2019-05-01T21:17:04.940234Z",
     "start_time": "2019-05-01T21:16:59.114248Z"
    }
   },
   "outputs": [],
   "source": [
    "import tensorflow as tf\n",
    "# load dataset\n",
    "(train_images, train_labels), _ = tf.keras.datasets.mnist.load_data()"
   ]
  },
  {
   "cell_type": "code",
   "execution_count": 2,
   "metadata": {
    "ExecuteTime": {
     "end_time": "2019-05-01T21:17:04.955375Z",
     "start_time": "2019-05-01T21:17:04.942479Z"
    }
   },
   "outputs": [
    {
     "data": {
      "text/plain": [
       "((60000, 28, 28), dtype('uint8'), (60000,), dtype('uint8'))"
      ]
     },
     "execution_count": 2,
     "metadata": {},
     "output_type": "execute_result"
    }
   ],
   "source": [
    "# take a look at the data\n",
    "import numpy as np\n",
    "np.shape(train_images), train_images.dtype, np.shape(train_labels), train_labels.dtype"
   ]
  },
  {
   "cell_type": "code",
   "execution_count": 3,
   "metadata": {
    "ExecuteTime": {
     "end_time": "2019-05-01T21:17:05.264515Z",
     "start_time": "2019-05-01T21:17:04.957246Z"
    }
   },
   "outputs": [
    {
     "data": {
      "text/plain": [
       "['five', 'zero', 'four']"
      ]
     },
     "execution_count": 3,
     "metadata": {},
     "output_type": "execute_result"
    }
   ],
   "source": [
    "# lets make some text labels for our dataset\n",
    "text_label_dict = {0:\"zero\", 1:\"one\", 2:\"two\", 3:\"three\", 4:\"four\", 5:\"five\", 6:\"six\", 7:\"seven\", 8:\"eight\", 9:\"nine\"}\n",
    "text_labels = [text_label_dict[i] for i in train_labels]\n",
    "text_labels[:3]"
   ]
  },
  {
   "cell_type": "code",
   "execution_count": 4,
   "metadata": {
    "ExecuteTime": {
     "end_time": "2019-05-01T21:17:05.269812Z",
     "start_time": "2019-05-01T21:17:05.266336Z"
    }
   },
   "outputs": [],
   "source": [
    "# lets get everything into a dictionary so we can save it using deepdish\n",
    "hdf5_dict = {\n",
    "    \"text_labels\": text_labels,\n",
    "    \"train_images\": train_images,\n",
    "    \"float32_labels\": train_labels.astype(np.float32),\n",
    "    \"int64_labels\": train_labels.astype(np.int64)\n",
    "}"
   ]
  },
  {
   "cell_type": "code",
   "execution_count": 5,
   "metadata": {
    "ExecuteTime": {
     "end_time": "2019-05-01T21:17:06.127431Z",
     "start_time": "2019-05-01T21:17:05.271741Z"
    }
   },
   "outputs": [],
   "source": [
    "# now lets save it as hdf5 using deepdish for simplicity\n",
    "import deepdish as dd\n",
    "dd.io.save(\"myhdf5.hdf5\", hdf5_dict, compression=None)"
   ]
  },
  {
   "cell_type": "markdown",
   "metadata": {},
   "source": [
    "### converting the HDF5 to tfrecord\n",
    "Now that our data is HDF5 format, lets load it back up and convert it to tfrecord. First, we need to define functions to convert each \"feature\" (e.g. \"one\", 1, or a handwritten digit) into a tensorflow feature object. There are three types of objects, `_bytes_feature`, `_float_feature`, or `_int64_feature`. All of our data needs to be converted into this format. "
   ]
  },
  {
   "cell_type": "code",
   "execution_count": 6,
   "metadata": {
    "ExecuteTime": {
     "end_time": "2019-05-01T21:17:06.144681Z",
     "start_time": "2019-05-01T21:17:06.132673Z"
    }
   },
   "outputs": [],
   "source": [
    "def _bytes_feature(value):\n",
    "    \"\"\"Returns a bytes_list from a string / byte.\"\"\"\n",
    "    return tf.train.Feature(bytes_list=tf.train.BytesList(value=[value]))\n",
    "\n",
    "\n",
    "def _float_feature(value):\n",
    "    \"\"\"Returns a float_list from a float / double.\"\"\"\n",
    "    return tf.train.Feature(float_list=tf.train.FloatList(value=[value]))\n",
    "\n",
    "\n",
    "def _int64_feature(value):\n",
    "    \"\"\"Returns an int64_list from a bool / enum / int / uint.\"\"\"\n",
    "    return tf.train.Feature(int64_list=tf.train.Int64List(value=[value]))"
   ]
  },
  {
   "cell_type": "code",
   "execution_count": 7,
   "metadata": {
    "ExecuteTime": {
     "end_time": "2019-05-01T21:17:06.690983Z",
     "start_time": "2019-05-01T21:17:06.147941Z"
    }
   },
   "outputs": [
    {
     "data": {
      "text/plain": [
       "dict_keys(['float32_labels', 'int64_labels', 'text_labels', 'train_images'])"
      ]
     },
     "execution_count": 7,
     "metadata": {},
     "output_type": "execute_result"
    }
   ],
   "source": [
    "# lets load our data back up\n",
    "mydata = dd.io.load(\"myhdf5.hdf5\")\n",
    "mydata.keys()"
   ]
  },
  {
   "cell_type": "code",
   "execution_count": 8,
   "metadata": {
    "ExecuteTime": {
     "end_time": "2019-05-01T21:17:06.701667Z",
     "start_time": "2019-05-01T21:17:06.694865Z"
    }
   },
   "outputs": [
    {
     "name": "stdout",
     "output_type": "stream",
     "text": [
      "5.0 <class 'tensorflow.core.example.feature_pb2.Feature'>\n"
     ]
    }
   ],
   "source": [
    "# lets see what it looks like to convert one sample into a feature\n",
    "print(mydata['float32_labels'][0], type(_float_feature(mydata['float32_labels'][0])))"
   ]
  },
  {
   "cell_type": "markdown",
   "metadata": {},
   "source": [
    "Now, to convert a whole row of samples from our dataset into features, we need to serialize that example. To do this, I wrote a the function `serialize_example`, which takes as an argument the data, its name, and what type of feature it will be written as. "
   ]
  },
  {
   "cell_type": "code",
   "execution_count": 9,
   "metadata": {
    "ExecuteTime": {
     "end_time": "2019-05-01T21:17:06.784696Z",
     "start_time": "2019-05-01T21:17:06.705527Z"
    }
   },
   "outputs": [],
   "source": [
    "def serialize_example(example):\n",
    "    \"\"\"Serialize an item in a dataset\n",
    "    Arguments:\n",
    "      example {[list]} -- list of dictionaries with fields \"name\" , \"_type\", and \"data\"\n",
    "\n",
    "    Returns:\n",
    "      [type] -- [description]\n",
    "    \"\"\"\n",
    "    dset_item = {}\n",
    "    for feature in example.keys():\n",
    "        dset_item[feature] = example[feature][\"_type\"](example[feature][\"data\"])\n",
    "        example_proto = tf.train.Example(features=tf.train.Features(feature=dset_item))\n",
    "    return example_proto.SerializeToString()\n"
   ]
  },
  {
   "cell_type": "markdown",
   "metadata": {},
   "source": [
    "#### Lets test it on a single row:"
   ]
  },
  {
   "cell_type": "code",
   "execution_count": 10,
   "metadata": {
    "ExecuteTime": {
     "end_time": "2019-05-01T21:17:06.916390Z",
     "start_time": "2019-05-01T21:17:06.787965Z"
    }
   },
   "outputs": [],
   "source": [
    "row = 0\n",
    "example = serialize_example(\n",
    "    {\n",
    "        \"float32_labels\": {\n",
    "            \"data\": mydata[\"float32_labels\"][row],\n",
    "            \"_type\": _float_feature,\n",
    "        },\n",
    "        \"int64_labels\": {\n",
    "            \"data\": mydata[\"int64_labels\"][row],\n",
    "            \"_type\": _int64_feature,\n",
    "        },\n",
    "        \"text_labels\": {\n",
    "            \"data\": np.string_(mydata[\"text_labels\"][row]).astype(\"|S7\"),\n",
    "            \"_type\": _bytes_feature,\n",
    "        },\n",
    "        \"train_images\": {\n",
    "            \"data\": mydata[\"train_images\"][row].flatten().tobytes(),\n",
    "            \"_type\": _bytes_feature,\n",
    "        },\n",
    "    }\n",
    ")"
   ]
  },
  {
   "cell_type": "code",
   "execution_count": 11,
   "metadata": {
    "ExecuteTime": {
     "end_time": "2019-05-01T21:17:06.999126Z",
     "start_time": "2019-05-01T21:17:06.919868Z"
    }
   },
   "outputs": [
    {
     "name": "stdout",
     "output_type": "stream",
     "text": [
      "b'\\n\\xf6\\x06\\n\\x1a\\n\\x0efloat32_labels\\x12\\x08\\x12\\x06\\n\\x04\\x00\\x00\\xa0@\\n\\xa7\\x06\\n\\x0ctrain_images\\x12\\x96\\x06\\n\\x93\\x06\\n\\x90\\x06\\x00\\x00\\x00\\x00\\x00\\x00\\x00\\x00\\x00\\x00\\x00\\x00\\x00\\x00\\x00\\x00\\x00\\x00\\x00\\x00\\x00\\x00\\x00\\x00\\x00\\x00\\x00\\x00\\x00\\x00\\x00\\x00\\x00\\x00\\x00\\x00\\x00\\x00\\x00\\x00\\x00\\x00\\x00'...\n"
     ]
    }
   ],
   "source": [
    "print('{}...'.format(example[:100]))"
   ]
  },
  {
   "cell_type": "markdown",
   "metadata": {},
   "source": [
    "### Write to a tfrecord file"
   ]
  },
  {
   "cell_type": "code",
   "execution_count": 12,
   "metadata": {
    "ExecuteTime": {
     "end_time": "2019-05-01T21:17:20.623704Z",
     "start_time": "2019-05-01T21:17:07.003275Z"
    }
   },
   "outputs": [
    {
     "name": "stderr",
     "output_type": "stream",
     "text": [
      "/mnt/cube/tsainbur/conda_envs/tpy3/lib/python3.6/site-packages/tqdm/autonotebook/__init__.py:14: TqdmExperimentalWarning: Using `tqdm.autonotebook.tqdm` in notebook mode. Use `tqdm.tqdm` instead to force console mode (e.g. in jupyter console)\n",
      "  \" (e.g. in jupyter console)\", TqdmExperimentalWarning)\n"
     ]
    },
    {
     "data": {
      "application/vnd.jupyter.widget-view+json": {
       "model_id": "d9788f25d63e446d874b6b406799b036",
       "version_major": 2,
       "version_minor": 0
      },
      "text/plain": [
       "HBox(children=(IntProgress(value=0, max=60000), HTML(value='')))"
      ]
     },
     "metadata": {},
     "output_type": "display_data"
    },
    {
     "name": "stdout",
     "output_type": "stream",
     "text": [
      "\n"
     ]
    }
   ],
   "source": [
    "from tqdm.autonotebook import tqdm # just a progressbar\n",
    "n_observations = len(mydata[\"float32_labels\"])  # how many items are in your dataset\n",
    "# loop through hdf5 of examples, save to tfrecord\n",
    "with tf.io.TFRecordWriter(str('myfile.tfrecord')) as writer:\n",
    "    # for each example\n",
    "    for exi in tqdm(range(n_observations)):\n",
    "        # create an item in the datset converted to the correct formats (float, int, byte)\n",
    "        example = serialize_example(\n",
    "            {\n",
    "                \"float32_labels\": {\n",
    "                    \"data\": mydata[\"float32_labels\"][exi],\n",
    "                    \"_type\": _float_feature,\n",
    "                },\n",
    "                \"int64_labels\": {\n",
    "                    \"data\": mydata[\"int64_labels\"][exi],\n",
    "                    \"_type\": _int64_feature,\n",
    "                },\n",
    "                \"text_labels\": {\n",
    "                    \"data\": np.string_(mydata[\"text_labels\"][exi]).astype(\"|S7\"),\n",
    "                    \"_type\": _bytes_feature,\n",
    "                },\n",
    "                \"train_images\": {\n",
    "                    \"data\": mydata[\"train_images\"][exi].flatten().tobytes(),\n",
    "                    \"_type\": _bytes_feature,\n",
    "                },\n",
    "            }\n",
    "        )\n",
    "        # write the defined example into the dataset\n",
    "        writer.write(example)"
   ]
  },
  {
   "cell_type": "markdown",
   "metadata": {},
   "source": [
    "## Reading the data back\n",
    "I'm showing two ways to read the dataset back. The first is a quick way to grab the data, and the second is more relevant for reading  data into your tensorflow pipeline."
   ]
  },
  {
   "cell_type": "markdown",
   "metadata": {},
   "source": [
    "#### Read dataset with numpy + ParseFromString"
   ]
  },
  {
   "cell_type": "code",
   "execution_count": 13,
   "metadata": {
    "ExecuteTime": {
     "end_time": "2019-05-01T21:17:21.415660Z",
     "start_time": "2019-05-01T21:17:20.628321Z"
    }
   },
   "outputs": [],
   "source": [
    "# dataset class https://www.tensorflow.org/api_docs/python/tf/data/TFRecordDataset\n",
    "raw_dataset = tf.data.TFRecordDataset([str(\"myfile.tfrecord\")])"
   ]
  },
  {
   "cell_type": "code",
   "execution_count": 14,
   "metadata": {
    "ExecuteTime": {
     "end_time": "2019-05-01T21:17:21.513146Z",
     "start_time": "2019-05-01T21:17:21.422382Z"
    }
   },
   "outputs": [],
   "source": [
    "# create a 'Dataset' with at most 'count' elements\n",
    "dset = raw_dataset.take(count=10)"
   ]
  },
  {
   "cell_type": "code",
   "execution_count": 15,
   "metadata": {
    "ExecuteTime": {
     "end_time": "2019-05-01T21:17:21.610196Z",
     "start_time": "2019-05-01T21:17:21.515586Z"
    }
   },
   "outputs": [
    {
     "data": {
      "text/plain": [
       "['float32_labels', 'int64_labels', 'text_labels', 'train_images']"
      ]
     },
     "execution_count": 15,
     "metadata": {},
     "output_type": "execute_result"
    }
   ],
   "source": [
    "# grab a single element from that dataset\n",
    "element = list(dset)[1]\n",
    "# a \"Feature message\" https://www.tensorflow.org/api_docs/python/tf/train/Example\n",
    "example = tf.train.Example()\n",
    "# parse the element in to the example message\n",
    "example.ParseFromString(element.numpy())\n",
    "list(example.features.feature)"
   ]
  },
  {
   "cell_type": "code",
   "execution_count": 16,
   "metadata": {
    "ExecuteTime": {
     "end_time": "2019-05-01T21:17:21.992258Z",
     "start_time": "2019-05-01T21:17:21.612599Z"
    }
   },
   "outputs": [],
   "source": [
    "import matplotlib.pyplot as plt\n",
    "%matplotlib inline"
   ]
  },
  {
   "cell_type": "code",
   "execution_count": 17,
   "metadata": {
    "ExecuteTime": {
     "end_time": "2019-05-01T21:17:22.528520Z",
     "start_time": "2019-05-01T21:17:21.994577Z"
    }
   },
   "outputs": [
    {
     "data": {
      "image/png": "[encoded data removed]",
      "text/plain": [
       "<Figure size 1080x216 with 5 Axes>"
      ]
     },
     "metadata": {
      "needs_background": "light"
     },
     "output_type": "display_data"
    }
   ],
   "source": [
    "fig, ax = plt.subplots(ncols = 5, figsize=(15,3))\n",
    "for i in range(5):\n",
    "    # grab a single element from that dataset\n",
    "    element = list(dset)[i]\n",
    "    # a \"Feature message\" https://www.tensorflow.org/api_docs/python/tf/train/Example\n",
    "    example = tf.train.Example()\n",
    "    # parse the element in to the example message\n",
    "    example.ParseFromString(element.numpy())\n",
    "    # subset the syllable\n",
    "    img_buff = dict(example.features.feature)['train_images']\n",
    "    # convert the buffer into a uint8\n",
    "    image = tf.io.decode_raw(img_buff.bytes_list.value[0], tf.uint8).numpy().reshape(28,28)\n",
    "    # show the image\n",
    "    ax[i].matshow(image, cmap=plt.cm.Greys)\n",
    "    string_label = (dict(example.features.feature)['text_labels'].bytes_list.value[0]).decode(\"utf-8\") \n",
    "    ax[i].set_title(string_label)\n",
    "    ax[i].axis('off')"
   ]
  },
  {
   "cell_type": "markdown",
   "metadata": {},
   "source": [
    "### read the dataset directly into tensorflow\n",
    "This will be be more useful for feeding directly into your graph. We need to parse this data back into its original data format, which tensorflow tensorflow doesnt store. The function below is taking an example from the dataset, reading it, and parsing it back into its original data type"
   ]
  },
  {
   "cell_type": "code",
   "execution_count": 18,
   "metadata": {
    "ExecuteTime": {
     "end_time": "2019-05-01T21:17:22.535120Z",
     "start_time": "2019-05-01T21:17:22.530470Z"
    }
   },
   "outputs": [],
   "source": [
    "if int(tf.__version__[0]) < 2:\n",
    "    from tensorflow import FixedLenFeature, parse_single_example\n",
    "else:\n",
    "    from tensorflow.io import FixedLenFeature, parse_single_example"
   ]
  },
  {
   "cell_type": "code",
   "execution_count": 19,
   "metadata": {
    "ExecuteTime": {
     "end_time": "2019-05-01T21:17:22.607473Z",
     "start_time": "2019-05-01T21:17:22.537012Z"
    }
   },
   "outputs": [],
   "source": [
    "def _dtype_to_tf_feattype(dtype):\n",
    "    \"\"\" convert tf dtype to correct tffeature format\n",
    "    \"\"\"\n",
    "    if dtype in [tf.float32, tf.int64]:\n",
    "        return dtype\n",
    "    else:\n",
    "        return tf.string"
   ]
  },
  {
   "cell_type": "code",
   "execution_count": 20,
   "metadata": {
    "ExecuteTime": {
     "end_time": "2019-05-01T21:17:22.691427Z",
     "start_time": "2019-05-01T21:17:22.609774Z"
    }
   },
   "outputs": [],
   "source": [
    "def _parse_function(example_proto, data_types):\n",
    "    \"\"\" parse dataset from tfrecord, and convert to correct format\n",
    "    \"\"\"\n",
    "    # list features\n",
    "    features = {\n",
    "        lab: FixedLenFeature([], _dtype_to_tf_feattype(dtype))\n",
    "        for lab, dtype in data_types.items()\n",
    "    }\n",
    "    # parse features\n",
    "    parsed_features = parse_single_example(example_proto, features)\n",
    "    feat_dtypes = [tf.float32, tf.string, tf.int64]\n",
    "    \n",
    "    # convert the features if they are in the wrong format\n",
    "    parse_list = [\n",
    "        parsed_features[lab]\n",
    "        if dtype in feat_dtypes\n",
    "        else tf.io.decode_raw(parsed_features[lab], dtype)\n",
    "        for lab, dtype in data_types.items()\n",
    "    ]\n",
    "    return parse_list"
   ]
  },
  {
   "cell_type": "code",
   "execution_count": 21,
   "metadata": {
    "ExecuteTime": {
     "end_time": "2019-05-01T21:17:22.791378Z",
     "start_time": "2019-05-01T21:17:22.694564Z"
    }
   },
   "outputs": [],
   "source": [
    "# read the dataset\n",
    "raw_dataset = tf.data.TFRecordDataset([str(\"myfile.tfrecord\")])"
   ]
  },
  {
   "cell_type": "code",
   "execution_count": 22,
   "metadata": {
    "ExecuteTime": {
     "end_time": "2019-05-01T21:17:22.865439Z",
     "start_time": "2019-05-01T21:17:22.794629Z"
    }
   },
   "outputs": [],
   "source": [
    "data_types = {\n",
    "    \"float32_labels\": tf.float32,\n",
    "    \"int64_labels\": tf.int64,\n",
    "    \"text_labels\": tf.string,\n",
    "    \"train_images\": tf.uint8,\n",
    "}"
   ]
  },
  {
   "cell_type": "code",
   "execution_count": 23,
   "metadata": {
    "ExecuteTime": {
     "end_time": "2019-05-01T21:17:23.007403Z",
     "start_time": "2019-05-01T21:17:22.869230Z"
    }
   },
   "outputs": [],
   "source": [
    "# parse each data type to the raw dataset\n",
    "dataset = raw_dataset.map(lambda x: _parse_function(x, data_types=data_types))"
   ]
  },
  {
   "cell_type": "code",
   "execution_count": 24,
   "metadata": {
    "ExecuteTime": {
     "end_time": "2019-05-01T21:17:23.056208Z",
     "start_time": "2019-05-01T21:17:23.010578Z"
    }
   },
   "outputs": [],
   "source": [
    "# shuffle the dataset\n",
    "dataset = dataset.shuffle(buffer_size=10000)\n",
    "# create batches\n",
    "dataset = dataset.batch(10)"
   ]
  },
  {
   "cell_type": "code",
   "execution_count": 25,
   "metadata": {
    "ExecuteTime": {
     "end_time": "2019-05-01T21:17:23.619738Z",
     "start_time": "2019-05-01T21:17:23.060551Z"
    }
   },
   "outputs": [],
   "source": [
    "float32_labs, int64_labs, string_labs, images  = next(iter(dataset))"
   ]
  },
  {
   "cell_type": "code",
   "execution_count": 26,
   "metadata": {
    "ExecuteTime": {
     "end_time": "2019-05-01T21:17:23.966140Z",
     "start_time": "2019-05-01T21:17:23.622115Z"
    }
   },
   "outputs": [
    {
     "data": {
      "image/png": "[encoded data removed]",
      "text/plain": [
       "<Figure size 1080x216 with 5 Axes>"
      ]
     },
     "metadata": {
      "needs_background": "light"
     },
     "output_type": "display_data"
    }
   ],
   "source": [
    "fig, ax = plt.subplots(ncols = 5, figsize=(15,3))\n",
    "for i in range(5):\n",
    "    # show the image\n",
    "    ax[i].matshow(images[i].numpy().reshape(28,28), cmap=plt.cm.Greys)\n",
    "    string_label = string_labs[i].numpy().decode(\"utf-8\") \n",
    "    ax[i].set_title(string_label)\n",
    "    ax[i].axis('off')"
   ]
  }
 ],
 "metadata": {
  "kernelspec": {
   "display_name": "Python 3",
   "language": "python",
   "name": "python3"
  },
  "language_info": {
   "codemirror_mode": {
    "name": "ipython",
    "version": 3
   },
   "file_extension": ".py",
   "mimetype": "text/x-python",
   "name": "python",
   "nbconvert_exporter": "python",
   "pygments_lexer": "ipython3",
   "version": "3.6.8"
  }
 },
 "nbformat": 4,
 "nbformat_minor": 2
}
