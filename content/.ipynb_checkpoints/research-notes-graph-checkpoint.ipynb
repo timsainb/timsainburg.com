{
 "cells": [
  {
   "cell_type": "markdown",
   "metadata": {},
   "source": [
    "- Title: Plotting my research notes with NetworkX and sigma.js\n",
    "- Date: 2019-09-21 10:01\n",
    "- Category: data science\n",
    "- Tags: research notes, sigma.js, network science, plotting, data science, wordpress, xml, rss\n",
    "- Slug: graph-research-notes-wordpress-networkx-sigmajs\n",
    "- Authors: Tim Sainburg\n",
    "- githuburl: https://github.com/timsainb/graph_research_notes\n",
    "- Summary: Visualizing the first four years of my PhD through a research notes graph"
   ]
  },
  {
   "cell_type": "markdown",
   "metadata": {},
   "source": [
    "<iframe src=\"assets/html/graph_network.html\" frameborder=\"0\" allowfullscreen width=\"100%\" height=\"600px\" style=\"background:#f9f9f9\"></iframe>"
   ]
  },
  {
   "cell_type": "markdown",
   "metadata": {
    "ExecuteTime": {
     "end_time": "2019-08-22T19:28:37.551965Z",
     "start_time": "2019-08-22T19:28:37.515207Z"
    }
   },
   "source": [
    "<p style=\"text-align:center\"><i>Hover over a node to see the title of the paper. Click on the node to see the connected Papers. Scroll to zoom in or out. Click and drag to move around network space. <a href=\"assets/html/graph_network.html\"> Open in full screen.</a></i></p>"
   ]
  },
  {
   "cell_type": "markdown",
   "metadata": {},
   "source": [
    "I'm finishing up the fourth year of my PhD, meaning that I've spent a fair amount of time reading papers over the past few years. In my first year, I decided I was going to try to stay consistent with the way that I read and took notes on papers, so it would be easier to look back when I needed a quick reference. To that end, I created a private wordpress.com blog, and everytime (ok, most times) I read a paper, I take some quick notes as a Wordpress post. That post contains a few bulletpoints about the idea of the paper and my take, author names, a link to the paper, a few tags (e.g. birdsong, langauge, machine learning), plus screenshots of the main figures that I want to remember. It only takes <1 minute to add the extra metadata, and makes it much easier to index. \n",
    "\n",
    "The main benefit for me is that when I'm trying to remember a paper I read recently, I can either search for it on my blog, or scroll down the page. In addition, I keep other notes, research idea, or even links to websites I like or resources I find useful as posts on the site as well. I categorize them all as either papers, datasets, research ideas, etc. If a new graduate student, or just someone looking for a good easy way to take notes, I recommend it. It's nice to have an easy cloud-based WYSIWIG editor for notes, as compared to this blog (timsainburg.com), where every post is a Jupyter notebook. \n",
    "\n",
    "Now that I've got quite a few papers on there (still fewer than I should / would have liked), it seems like a good time to look back through and reflect on what I've been reading over the years. Plus, quick, fun datascience project. "
   ]
  },
  {
   "cell_type": "markdown",
   "metadata": {},
   "source": [
    "### General stats\n",
    "\n",
    "- In total, I've created around 600 posts\n",
    "- tagged with 1,768 different tage, 543 of which are unique.\n",
    "- The 10 most frequent tags are: \n",
    "`'syntax', 'Birdsong', 'hierarchy', 'Language', 'Language Acquisition', 'sequence learning', 'Recursion', 'zebra finch', 'vocalization', 'Markov Models'\n",
    "`\n",
    "- 58% of tags are unique"
   ]
  },
  {
   "cell_type": "markdown",
   "metadata": {},
   "source": [
    "### Creating a network\n",
    "I subsetted those ~600 posts taking only posts about research papers/chapters/etc. I then created a network in (using NetworkX) of my posts. To do so, I converted the XML data from Wordpress's RSS feed (you can do this pretty easily with any RSS feed),\n",
    "\n",
    "In the network, each post is a single node, and the links between nodes are whether or not any two pairs of posts have overlapping tags. The weight of the edges (links) is computed as $\\sum^{tag}_{tags}{\\frac{1}{freq_{tag}}}$, where $tags$ are set of overlaping tags between the two nodes, and $freq_{tag}$ is the frequency of each tag occuring in the set of all tags. The point being that less frequent tags should be weighted as more important connections."
   ]
  },
  {
   "cell_type": "markdown",
   "metadata": {},
   "source": [
    "### Clustering the network\n",
    "I clustered using the community package for python, based upon the [Louvain algorithm](https://iopscience.iop.org/article/10.1088/1742-5468/2008/10/P10008/meta#artAbst). The algorithm found 9 clusters, which correspond to each of the colors in the graph above. Here are a few example clusters:\n",
    "\n",
    "<h6 style=\"color: rgb(255,115,117)\">Cluster #1: machine learning</h6>\n",
    "- adversarially learned inference\n",
    "- infogan: interpretable representation learning by information maximizing generative adversarial nets\n",
    "- improved techniques for training gans\n",
    "- auto-encoding variational bayes\n",
    "- autoencoding beyond pixels using a learned similarity metric\n",
    "\n",
    "<h6 style=\"color: rgb(39,149,39)\">Cluster #2: developmental speech/langauge</h6>\n",
    "- a role for the developing lexicon in phonetic category acquisition.\n",
    "- phonological parsing in speech recognition\n",
    "- infants′ sensitivity to the sound patterns of native language words\n",
    "- unsupervised segmentation of audio speech using the voting experts algorithm\n",
    "- infants' preference for the predominant stress patterns of english words\n",
    "\n",
    "<h6 style=\"color: rgb(137,92,181)\">Cluster #3: birdsong and neuroscience</h6>\n",
    "- zebra finches exhibit speaker-independent phonetic perception of human speech\n",
    "- the natural history of sound localization in mammals – a story of neuronal inhibition\n",
    "- reconstructing speech from human auditory cortex\n",
    "- neural lateralization of vocal control in a passerine bird\n",
    "- precise auditory–vocal mirroring in neurons for learned vocal communication"
   ]
  },
  {
   "cell_type": "markdown",
   "metadata": {},
   "source": [
    "### Plotting\n",
    "\n",
    "First I generated the positions of each node in the network using the <a href=\"https://doi.org/10.1016/0020-0190(89)90102-6\">Kamada Kawai method</a>. I then plotted using the [sigma.js](http://sigmajs.org) package. To do so, I took the nodes and edges from my network and dumped it as a json for sigma.js to read, then put together the javascript and HTML to plot the network. You can see the results above. "
   ]
  },
  {
   "cell_type": "markdown",
   "metadata": {},
   "source": [
    "##### A few takeaways: \n",
    "- I would like to read more papers from a wider array of disciplies\n",
    "- I need to take notes on more things that I read\n",
    "- Most of the papers that I've read (or at least taken notes on) have fallen into the same five or six categories. "
   ]
  },
  {
   "cell_type": "code",
   "execution_count": null,
   "metadata": {},
   "outputs": [],
   "source": []
  }
 ],
 "metadata": {
  "kernelspec": {
   "display_name": "Python 3",
   "language": "python",
   "name": "python3"
  },
  "language_info": {
   "codemirror_mode": {
    "name": "ipython",
    "version": 3
   },
   "file_extension": ".py",
   "mimetype": "text/x-python",
   "name": "python",
   "nbconvert_exporter": "python",
   "pygments_lexer": "ipython3",
   "version": "3.6.8"
  }
 },
 "nbformat": 4,
 "nbformat_minor": 2
}
