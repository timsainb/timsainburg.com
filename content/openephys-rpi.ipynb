{
 "cells": [
  {
   "cell_type": "markdown",
   "metadata": {},
   "source": [
    "- Title: OpenEphys on the Raspberry Pi 4\n",
    "- Date: 2019-09-21 10:01\n",
    "- Category: neuroscience\n",
    "- Tags: raspberry pi, open ephys, neuroscience, neural recordings, open science\n",
    "- Slug: open-ephys-raspberry-pi-4\n",
    "- Authors: Tim Sainburg\n",
    "- githuburl: \n",
    "- Summary: Instructions for how I set up Open Ephys on the Raspberry Pi 4 Model B"
   ]
  },
  {
   "cell_type": "markdown",
   "metadata": {},
   "source": [
    "This summer Raspberry Pi released their new [Raspberry Pi 4 Model B](https://www.raspberrypi.org/products/raspberry-pi-4-model-b/) which features a number of new improvements, including two USB 3.0 ports, processors that tout ~3x performance increase over the last model, and up to 4GB ram. "
   ]
  },
  {
   "cell_type": "markdown",
   "metadata": {},
   "source": [
    "<div style=\"text-align:center; clear:both\">\n",
    "      <img src=\"assets/img/rpi4.png\" style=\"display:inline-block\">\n",
    "\n",
    "<p style=\"text-align:center;font-style:italic\">Updates for the raspberry pi 4</p> \n",
    "</div>"
   ]
  },
  {
   "cell_type": "markdown",
   "metadata": {},
   "source": [
    "At the same time, I've been setting up a new rig to run chronic electrophysiology experiments in [our lab](http://gentnerlab.ucsd.edu/), using the OpenEphys open source neural acquisition board, while the behaviors for the experiment are all running off of the [RPiOperant board](https://github.com/theilmbh/RPiOperant) we designed in lab over the past two years (primarily designed by [Brad Theilman](http://bradtheilman.com/)):"
   ]
  },
  {
   "cell_type": "markdown",
   "metadata": {},
   "source": [
    "<div style=\"text-align:center; clear:both; width:100%\">\n",
    "      <img src=\"assets/img/open-ephys-board.jpg\", width=\"60%\" style=\"display:inline-block; float:left\">\n",
    "      <img src=\"assets/img/magpiboard.png\", width=\"40%\" style=\"display:inline-block; float:right\">\n",
    "</div>\n",
    "\n",
    "<div style=\"text-align:center; clear:both; width:100%; padding-top:15px\">\n",
    "<p style=\"text-align:center;font-style:italic\">(left) The OpenEphys Acquisition board (right) Outline of the PiOperant board without components</p> \n",
    "</div>"
   ]
  },
  {
   "cell_type": "markdown",
   "metadata": {},
   "source": [
    "You can see a general outline of the rig in the following diagram, where the RPiOperant is powered by a Raspberry Pi that runs our [PyOperant python package](https://github.com/gentnerlab/pyoperant) controlling behaviors on a physical panel that the bird interacts with. Neural data is then recorded on the Open Ephys acquisition board, and outputted to a desktop computer via a USB3 cable. "
   ]
  },
  {
   "cell_type": "markdown",
   "metadata": {},
   "source": [
    "<div style=\"text-align:center\">\n",
    "    <img src=\"assets/img/pioperant-outline.png\" style=\"display:inline-block\">\n",
    "</div>\n",
    "<div style=\"text-align:center; clear:both\">\n",
    "      \n",
    "<p style=\"text-align:center;font-style:italic\">(left) Experimental design with desktop (right) experimental design without.</p> \n",
    "</div>"
   ]
  },
  {
   "cell_type": "markdown",
   "metadata": {},
   "source": [
    "With the updated specs on the raspberry pi however, we can potentially scrap the desktop computer, and run Open Ephys directly on the raspberry pi:"
   ]
  },
  {
   "cell_type": "markdown",
   "metadata": {},
   "source": [
    "<div style=\"text-align:center\">\n",
    "      <img src=\"assets/img/pioperant outline-no-desktop.png\" style=\"display:inline-block\">\n",
    "</div>\n",
    "<div style=\"text-align:center; clear:both\">\n",
    "      \n",
    "<p style=\"text-align:center;font-style:italic\">(left) Experimental design with desktop (right) experimental design without.</p> \n",
    "</div>"
   ]
  },
  {
   "cell_type": "markdown",
   "metadata": {},
   "source": [
    "Here's how it worked: "
   ]
  },
  {
   "cell_type": "markdown",
   "metadata": {},
   "source": [
    "<div style=\"text-align:center\">\n",
    "<div class=\"centerblock\" style=\"display:inline-block\">\n",
    "<blockquote class=\"twitter-tweet\"><p lang=\"en\" dir=\"ltr\">In case anyone was wondering, yes, you can run <a href=\"https://twitter.com/OpenEphys?ref_src=twsrc%5Etfw\">@OpenEphys</a> on the new <a href=\"https://twitter.com/Raspberry_Pi?ref_src=twsrc%5Etfw\">@Raspberry_Pi</a> 4 <a href=\"https://t.co/sSgxtDqOn3\">pic.twitter.com/sSgxtDqOn3</a></p>&mdash; Tim Sainburg (@tim_sainburg) <a href=\"https://twitter.com/tim_sainburg/status/1164252464155021314?ref_src=twsrc%5Etfw\">August 21, 2019</a></blockquote> <script async src=\"https://platform.twitter.com/widgets.js\" charset=\"utf-8\"></script>    \n",
    "</div>    \n",
    "</div>"
   ]
  },
  {
   "cell_type": "markdown",
   "metadata": {},
   "source": [
    "I used the 2GB ram board, but next time would definitely go with the 4GB. "
   ]
  },
  {
   "cell_type": "markdown",
   "metadata": {},
   "source": [
    "### How to install Open Ephys on the Raspberry Pi\n",
    "##### 1) Flash raspian to an SD card and set up your Raspberry Pi\n",
    "\n",
    "[There are a million tutorials out there on how to set up a raspberry pi, so I won't belabor the point](https://www.raspberrypi.org/documentation/installation/installing-images/). I used Raspian buster with all reccomended software. \n",
    "\n",
    "\n",
    "##### 2) Install Open Ephys GUI on the Raspberry Pi\n",
    "\n",
    "[I followed these instructions, building from source](https://open-ephys.atlassian.net/wiki/spaces/OEW/pages/491546/Linux).\n",
    "Here you're going to run into a few issues if you follow these directions directly: \n",
    "1. ZeroMQ needs to be installed from a raspberry pi repository\n",
    "2. [You need an ARM version of the frontpanel library](https://github.com/open-ephys/plugin-GUI/issues/314)\n",
    "3. You need to install the boost library\n",
    "\n",
    "##### And the fix to each of those things:\n",
    " \n",
    "> **ZeroMQ needs to be installed from a raspberry pi repository**\n",
    "\n",
    "I think I followed [these instructions](https://github.com/MonsieurV/ZeroMQ-RPi), but you can find the answer to this one with a quick google. \n",
    "\n",
    "> **You need an ARM version of the frontpanel library**\n",
    "\n",
    "As of this posting the ARM version of the frontpanel library is not on the [OpenEphys GUI repository](https://github.com/open-ephys/plugin-GUI). Luckily, the after posting [an issue in the GitHub repo](https://github.com/open-ephys/plugin-GUI/issues/314), I was quickly sent an ARM version of the frontpanel library from the Open Ephys team. If the library isn't put on the repo soon, I would just send a quick email to the open ephys team asking for it! The file will be `libokFrontPanel.so`, and you'll just need to replace the one located in `Builds/Linux/build/libokFrontPanel.so ` before building open-ephys. \n",
    "\n",
    "Without the ARM version of frontpanel you will run into this error: \n",
    "\n",
    "```\n",
    "Building RhythmNode.so\n",
    "/home/pi/github/plugin-GUI/Builds/Linux/build/libokFrontPanel.so: file not recognized: file format not recognized\n",
    "collect2: error: ld returned 1 exit status\n",
    "make[1]: *** [Makefile:25: /home/pi/github/plugin-GUI/Builds/Linux/build/plugins/RhythmNode.so] Error 1\n",
    "make[1]: Leaving directory '/home/pi/github/plugin-GUI/Source/Plugins/RhythmNode'\n",
    "make: *** [Makefile.plugins:77: ../../Source/Plugins/RhythmNode] Error 2\n",
    "```\n",
    "\n",
    "> **You need to install the boost library**\n",
    "\n",
    "Without the boost library you will run into this error:\n",
    "\n",
    "```\n",
    "Loading Plugin: RhythmNode... ../../Source/Processors/PluginManager/PluginManager.cpp:177: Failed to load plugin DLL: libboost_chrono.so.1.62.0: cannot open shared object file: No such file or directory\n",
    "\n",
    "Loading Plugin: IntanRecordingController... ../../Source/Processors/PluginManager/PluginManager.cpp:177: Failed to load plugin DLL: libboost_chrono.so.1.62.0: cannot open shared object file: No such file or directory\n",
    "```\n",
    "\n",
    "The solution is just to install the correct version of Boost: `sudo apt-get install libboost1.62-*`\n",
    "\n"
   ]
  },
  {
   "cell_type": "markdown",
   "metadata": {},
   "source": [
    "Thats it! Feel free to reach out if you have any questions. "
   ]
  }
 ],
 "metadata": {
  "kernelspec": {
   "display_name": "Python 3",
   "language": "python",
   "name": "python3"
  },
  "language_info": {
   "codemirror_mode": {
    "name": "ipython",
    "version": 3
   },
   "file_extension": ".py",
   "mimetype": "text/x-python",
   "name": "python",
   "nbconvert_exporter": "python",
   "pygments_lexer": "ipython3",
   "version": "3.6.7"
  },
  "toc": {
   "base_numbering": 1,
   "nav_menu": {},
   "number_sections": true,
   "sideBar": true,
   "skip_h1_title": false,
   "title_cell": "Table of Contents",
   "title_sidebar": "Contents",
   "toc_cell": false,
   "toc_position": {},
   "toc_section_display": true,
   "toc_window_display": false
  }
 },
 "nbformat": 4,
 "nbformat_minor": 2
}
