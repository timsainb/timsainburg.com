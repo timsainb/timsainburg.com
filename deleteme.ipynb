{
 "cells": [
  {
   "cell_type": "markdown",
   "metadata": {},
   "source": [
    "- Title: OpenEphys on the Raspberry Pi 4\n",
    "- Date: 2019-09-21 10:01\n",
    "- Category: neuroscience\n",
    "- Tags: raspberry pi, open ephys, neuroscience, neural recordings, open science\n",
    "- Slug: open-ephys-raspberry-pi-4\n",
    "- Authors: Tim Sainburg\n",
    "- githuburl: \n",
    "- Summary: Instructions for how I set up Open Ephys on the Raspberry Pi 4 Model B\n",
    "- Status: draft"
   ]
  },
  {
   "cell_type": "code",
   "execution_count": null,
   "metadata": {},
   "outputs": [],
   "source": []
  },
  {
   "cell_type": "code",
   "execution_count": null,
   "metadata": {},
   "outputs": [],
   "source": [
    "Export > Export All "
   ]
  }
 ],
 "metadata": {
  "kernelspec": {
   "display_name": "Python 3",
   "language": "python",
   "name": "python3"
  },
  "language_info": {
   "codemirror_mode": {
    "name": "ipython",
    "version": 3
   },
   "file_extension": ".py",
   "mimetype": "text/x-python",
   "name": "python",
   "nbconvert_exporter": "python",
   "pygments_lexer": "ipython3",
   "version": "3.6.8"
  }
 },
 "nbformat": 4,
 "nbformat_minor": 2
}
