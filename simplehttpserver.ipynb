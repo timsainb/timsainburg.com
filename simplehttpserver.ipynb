{
 "cells": [
  {
   "cell_type": "markdown",
   "metadata": {},
   "source": [
    "### Run a simple HTTP server"
   ]
  },
  {
   "cell_type": "code",
   "execution_count": 1,
   "metadata": {
    "ExecuteTime": {
     "end_time": "2020-05-20T21:10:04.539039Z",
     "start_time": "2020-05-20T21:10:04.528519Z"
    }
   },
   "outputs": [],
   "source": [
    "import http.server\n",
    "import socketserver\n",
    "import os "
   ]
  },
  {
   "cell_type": "code",
   "execution_count": 2,
   "metadata": {
    "ExecuteTime": {
     "end_time": "2020-05-20T21:10:04.899482Z",
     "start_time": "2020-05-20T21:10:04.896122Z"
    }
   },
   "outputs": [],
   "source": [
    "PORT = 8189"
   ]
  },
  {
   "cell_type": "code",
   "execution_count": 3,
   "metadata": {
    "ExecuteTime": {
     "end_time": "2020-05-20T21:10:05.326647Z",
     "start_time": "2020-05-20T21:10:05.323182Z"
    }
   },
   "outputs": [],
   "source": [
    "web_dir = os.path.join(os.getcwd(), 'docs')\n",
    "os.chdir(web_dir)"
   ]
  },
  {
   "cell_type": "code",
   "execution_count": null,
   "metadata": {
    "ExecuteTime": {
     "start_time": "2020-05-20T21:10:06.467Z"
    }
   },
   "outputs": [
    {
     "name": "stdout",
     "output_type": "stream",
     "text": [
      "serving at port 8189\n"
     ]
    },
    {
     "name": "stderr",
     "output_type": "stream",
     "text": [
      "127.0.0.1 - - [29/Sep/2020 15:59:44] \"GET / HTTP/1.1\" 200 -\n",
      "127.0.0.1 - - [29/Sep/2020 15:59:44] \"GET /theme/stylesheet/style.min.css HTTP/1.1\" 200 -\n",
      "127.0.0.1 - - [29/Sep/2020 15:59:44] \"GET /theme/pygments/github.min.css HTTP/1.1\" 200 -\n",
      "127.0.0.1 - - [29/Sep/2020 15:59:44] \"GET /theme/font-awesome/css/font-awesome.min.css HTTP/1.1\" 200 -\n",
      "127.0.0.1 - - [29/Sep/2020 15:59:44] \"GET /theme/academicons/css/academicons.css HTTP/1.1\" 200 -\n",
      "127.0.0.1 - - [29/Sep/2020 15:59:44] \"GET /theme/img/TSainburg.jpg HTTP/1.1\" 200 -\n",
      "127.0.0.1 - - [29/Sep/2020 15:59:44] \"GET /theme/fonts/RobotoSlab-Regular.ttf HTTP/1.1\" 200 -\n",
      "127.0.0.1 - - [29/Sep/2020 15:59:44] \"GET /theme/font-awesome/fonts/fontawesome-webfont.woff2?v=4.6.3 HTTP/1.1\" 200 -\n",
      "127.0.0.1 - - [29/Sep/2020 15:59:44] \"GET /theme/academicons/fonts/academicons.ttf?v=1.8.6 HTTP/1.1\" 200 -\n",
      "127.0.0.1 - - [29/Sep/2020 15:59:44] \"GET /theme/img/starling-small.ico HTTP/1.1\" 200 -\n",
      "127.0.0.1 - - [29/Sep/2020 15:59:46] \"GET /pages/cv.html HTTP/1.1\" 200 -\n",
      "127.0.0.1 - - [29/Sep/2020 15:59:46] \"GET /assets/css/cv.css HTTP/1.1\" 200 -\n",
      "127.0.0.1 - - [29/Sep/2020 15:59:46] code 404, message File not found\n",
      "127.0.0.1 - - [29/Sep/2020 15:59:46] \"GET /pages/theme/img/starling-small.ico HTTP/1.1\" 404 -\n",
      "127.0.0.1 - - [29/Sep/2020 16:03:16] \"GET /pages/about-me.html HTTP/1.1\" 200 -\n",
      "127.0.0.1 - - [29/Sep/2020 16:03:16] \"GET /assets/img/spec.png HTTP/1.1\" 200 -\n",
      "127.0.0.1 - - [29/Sep/2020 16:03:16] \"GET /assets/img/79438507.png HTTP/1.1\" 200 -\n",
      "127.0.0.1 - - [29/Sep/2020 16:03:16] \"GET /assets/audio/starling.wav HTTP/1.1\" 200 -\n",
      "127.0.0.1 - - [29/Sep/2020 16:04:45] \"GET /pages/cv.html HTTP/1.1\" 200 -\n",
      "127.0.0.1 - - [29/Sep/2020 16:04:47] \"GET /pages/cv.html HTTP/1.1\" 200 -\n",
      "127.0.0.1 - - [29/Sep/2020 16:04:47] \"GET /theme/stylesheet/style.min.css HTTP/1.1\" 200 -\n",
      "127.0.0.1 - - [29/Sep/2020 16:04:47] \"GET /theme/pygments/github.min.css HTTP/1.1\" 200 -\n",
      "127.0.0.1 - - [29/Sep/2020 16:04:47] \"GET /theme/font-awesome/css/font-awesome.min.css HTTP/1.1\" 200 -\n",
      "127.0.0.1 - - [29/Sep/2020 16:04:47] \"GET /theme/academicons/css/academicons.css HTTP/1.1\" 200 -\n",
      "127.0.0.1 - - [29/Sep/2020 16:04:47] \"GET /theme/img/TSainburg.jpg HTTP/1.1\" 200 -\n",
      "127.0.0.1 - - [29/Sep/2020 16:04:47] \"GET /assets/css/cv.css HTTP/1.1\" 200 -\n",
      "127.0.0.1 - - [29/Sep/2020 16:04:47] \"GET /theme/fonts/RobotoSlab-Regular.ttf HTTP/1.1\" 200 -\n",
      "127.0.0.1 - - [29/Sep/2020 16:04:47] \"GET /theme/font-awesome/fonts/fontawesome-webfont.woff2?v=4.6.3 HTTP/1.1\" 200 -\n",
      "127.0.0.1 - - [29/Sep/2020 16:04:47] \"GET /theme/academicons/fonts/academicons.ttf?v=1.8.6 HTTP/1.1\" 200 -\n",
      "127.0.0.1 - - [29/Sep/2020 16:04:47] code 404, message File not found\n",
      "127.0.0.1 - - [29/Sep/2020 16:04:47] \"GET /pages/theme/img/starling-small.ico HTTP/1.1\" 404 -\n",
      "127.0.0.1 - - [29/Sep/2020 16:06:00] \"GET /pages/cv.html HTTP/1.1\" 200 -\n",
      "127.0.0.1 - - [29/Sep/2020 16:06:00] \"GET /theme/stylesheet/style.min.css HTTP/1.1\" 200 -\n",
      "127.0.0.1 - - [29/Sep/2020 16:06:00] \"GET /theme/pygments/github.min.css HTTP/1.1\" 200 -\n",
      "127.0.0.1 - - [29/Sep/2020 16:06:00] \"GET /theme/font-awesome/css/font-awesome.min.css HTTP/1.1\" 200 -\n",
      "127.0.0.1 - - [29/Sep/2020 16:06:00] \"GET /theme/academicons/css/academicons.css HTTP/1.1\" 200 -\n",
      "127.0.0.1 - - [29/Sep/2020 16:06:00] \"GET /theme/img/TSainburg.jpg HTTP/1.1\" 200 -\n",
      "127.0.0.1 - - [29/Sep/2020 16:06:00] \"GET /assets/css/cv.css HTTP/1.1\" 200 -\n",
      "127.0.0.1 - - [29/Sep/2020 16:06:00] \"GET /theme/fonts/RobotoSlab-Regular.ttf HTTP/1.1\" 200 -\n",
      "127.0.0.1 - - [29/Sep/2020 16:06:00] \"GET /theme/font-awesome/fonts/fontawesome-webfont.woff2?v=4.6.3 HTTP/1.1\" 200 -\n",
      "127.0.0.1 - - [29/Sep/2020 16:06:00] \"GET /theme/academicons/fonts/academicons.ttf?v=1.8.6 HTTP/1.1\" 200 -\n",
      "127.0.0.1 - - [29/Sep/2020 16:06:00] code 404, message File not found\n",
      "127.0.0.1 - - [29/Sep/2020 16:06:00] \"GET /pages/theme/img/starling-small.ico HTTP/1.1\" 404 -\n",
      "127.0.0.1 - - [29/Sep/2020 16:26:08] \"GET /pages/cv.html HTTP/1.1\" 200 -\n",
      "127.0.0.1 - - [29/Sep/2020 16:26:08] \"GET /assets/css/cv.css HTTP/1.1\" 200 -\n",
      "127.0.0.1 - - [29/Sep/2020 16:30:03] \"GET /pages/cv.html HTTP/1.1\" 200 -\n",
      "127.0.0.1 - - [29/Sep/2020 16:30:03] \"GET /assets/css/cv.css HTTP/1.1\" 200 -\n",
      "127.0.0.1 - - [29/Sep/2020 16:44:51] \"GET /pages/cv.html HTTP/1.1\" 200 -\n",
      "127.0.0.1 - - [29/Sep/2020 16:44:51] \"GET /theme/stylesheet/style.min.css HTTP/1.1\" 200 -\n",
      "127.0.0.1 - - [29/Sep/2020 16:44:51] \"GET /theme/pygments/github.min.css HTTP/1.1\" 200 -\n",
      "127.0.0.1 - - [29/Sep/2020 16:44:51] \"GET /theme/font-awesome/css/font-awesome.min.css HTTP/1.1\" 200 -\n",
      "127.0.0.1 - - [29/Sep/2020 16:44:51] \"GET /theme/academicons/css/academicons.css HTTP/1.1\" 200 -\n",
      "127.0.0.1 - - [29/Sep/2020 16:44:51] \"GET /theme/img/TSainburg.jpg HTTP/1.1\" 200 -\n",
      "127.0.0.1 - - [29/Sep/2020 16:44:51] \"GET /assets/css/cv.css HTTP/1.1\" 200 -\n",
      "127.0.0.1 - - [29/Sep/2020 16:44:51] \"GET /theme/fonts/RobotoSlab-Regular.ttf HTTP/1.1\" 200 -\n",
      "127.0.0.1 - - [29/Sep/2020 16:44:51] \"GET /theme/font-awesome/fonts/fontawesome-webfont.woff2?v=4.6.3 HTTP/1.1\" 200 -\n",
      "127.0.0.1 - - [29/Sep/2020 16:44:51] \"GET /theme/academicons/fonts/academicons.ttf?v=1.8.6 HTTP/1.1\" 200 -\n",
      "127.0.0.1 - - [29/Sep/2020 16:44:51] code 404, message File not found\n",
      "127.0.0.1 - - [29/Sep/2020 16:44:51] \"GET /pages/theme/img/starling-small.ico HTTP/1.1\" 404 -\n",
      "127.0.0.1 - - [29/Sep/2020 16:48:08] code 404, message File not found\n",
      "127.0.0.1 - - [29/Sep/2020 16:48:08] \"GET /curriculumvitae.html HTTP/1.1\" 404 -\n",
      "127.0.0.1 - - [29/Sep/2020 16:48:09] code 404, message File not found\n",
      "127.0.0.1 - - [29/Sep/2020 16:48:09] \"GET /favicon.ico HTTP/1.1\" 404 -\n",
      "127.0.0.1 - - [29/Sep/2020 16:48:17] \"GET /curriculumvitae.html HTTP/1.1\" 200 -\n",
      "127.0.0.1 - - [29/Sep/2020 16:48:17] \"GET /assets/css/cv.css HTTP/1.1\" 200 -\n",
      "127.0.0.1 - - [29/Sep/2020 17:27:19] \"GET /pages/cv.html HTTP/1.1\" 200 -\n",
      "127.0.0.1 - - [29/Sep/2020 17:27:19] \"GET /theme/stylesheet/style.min.css HTTP/1.1\" 200 -\n",
      "127.0.0.1 - - [29/Sep/2020 17:27:19] \"GET /theme/pygments/github.min.css HTTP/1.1\" 200 -\n",
      "127.0.0.1 - - [29/Sep/2020 17:27:19] \"GET /theme/font-awesome/css/font-awesome.min.css HTTP/1.1\" 200 -\n",
      "127.0.0.1 - - [29/Sep/2020 17:27:19] \"GET /theme/academicons/css/academicons.css HTTP/1.1\" 200 -\n",
      "127.0.0.1 - - [29/Sep/2020 17:27:19] \"GET /theme/img/TSainburg.jpg HTTP/1.1\" 200 -\n",
      "127.0.0.1 - - [29/Sep/2020 17:27:19] \"GET /assets/css/cv.css HTTP/1.1\" 200 -\n",
      "127.0.0.1 - - [29/Sep/2020 17:27:19] \"GET /theme/fonts/RobotoSlab-Regular.ttf HTTP/1.1\" 200 -\n",
      "127.0.0.1 - - [29/Sep/2020 17:27:19] \"GET /theme/font-awesome/fonts/fontawesome-webfont.woff2?v=4.6.3 HTTP/1.1\" 200 -\n",
      "127.0.0.1 - - [29/Sep/2020 17:27:19] \"GET /theme/academicons/fonts/academicons.ttf?v=1.8.6 HTTP/1.1\" 200 -\n",
      "127.0.0.1 - - [29/Sep/2020 17:27:19] code 404, message File not found\n",
      "127.0.0.1 - - [29/Sep/2020 17:27:19] \"GET /pages/theme/img/starling-small.ico HTTP/1.1\" 404 -\n",
      "127.0.0.1 - - [29/Sep/2020 17:30:20] \"GET /curriculumvitae.html HTTP/1.1\" 200 -\n",
      "127.0.0.1 - - [29/Sep/2020 17:30:20] \"GET /assets/css/cv.css HTTP/1.1\" 200 -\n",
      "127.0.0.1 - - [29/Sep/2020 17:30:21] code 404, message File not found\n",
      "127.0.0.1 - - [29/Sep/2020 17:30:21] \"GET /favicon.ico HTTP/1.1\" 404 -\n",
      "127.0.0.1 - - [29/Sep/2020 17:30:24] \"GET /pages/cv.html HTTP/1.1\" 200 -\n",
      "127.0.0.1 - - [29/Sep/2020 17:30:24] \"GET /theme/stylesheet/style.min.css HTTP/1.1\" 200 -\n",
      "127.0.0.1 - - [29/Sep/2020 17:30:24] \"GET /theme/pygments/github.min.css HTTP/1.1\" 200 -\n",
      "127.0.0.1 - - [29/Sep/2020 17:30:24] \"GET /theme/font-awesome/css/font-awesome.min.css HTTP/1.1\" 200 -\n",
      "127.0.0.1 - - [29/Sep/2020 17:30:24] \"GET /theme/academicons/css/academicons.css HTTP/1.1\" 200 -\n",
      "127.0.0.1 - - [29/Sep/2020 17:30:24] \"GET /theme/img/TSainburg.jpg HTTP/1.1\" 200 -\n",
      "127.0.0.1 - - [29/Sep/2020 17:30:24] \"GET /assets/css/cv.css HTTP/1.1\" 200 -\n",
      "127.0.0.1 - - [29/Sep/2020 17:30:24] \"GET /theme/fonts/RobotoSlab-Regular.ttf HTTP/1.1\" 200 -\n",
      "127.0.0.1 - - [29/Sep/2020 17:30:24] \"GET /theme/font-awesome/fonts/fontawesome-webfont.woff2?v=4.6.3 HTTP/1.1\" 200 -\n",
      "127.0.0.1 - - [29/Sep/2020 17:30:24] \"GET /theme/academicons/fonts/academicons.ttf?v=1.8.6 HTTP/1.1\" 200 -\n",
      "127.0.0.1 - - [29/Sep/2020 17:30:24] code 404, message File not found\n",
      "127.0.0.1 - - [29/Sep/2020 17:30:24] \"GET /pages/theme/img/starling-small.ico HTTP/1.1\" 404 -\n",
      "127.0.0.1 - - [29/Sep/2020 17:33:42] \"GET /pages/cv.html HTTP/1.1\" 200 -\n",
      "127.0.0.1 - - [29/Sep/2020 17:33:42] \"GET /theme/stylesheet/style.min.css HTTP/1.1\" 200 -\n",
      "127.0.0.1 - - [29/Sep/2020 17:33:42] \"GET /theme/pygments/github.min.css HTTP/1.1\" 200 -\n",
      "127.0.0.1 - - [29/Sep/2020 17:33:42] \"GET /theme/font-awesome/css/font-awesome.min.css HTTP/1.1\" 200 -\n",
      "127.0.0.1 - - [29/Sep/2020 17:33:42] \"GET /theme/academicons/css/academicons.css HTTP/1.1\" 200 -\n",
      "127.0.0.1 - - [29/Sep/2020 17:33:42] \"GET /theme/img/TSainburg.jpg HTTP/1.1\" 200 -\n",
      "127.0.0.1 - - [29/Sep/2020 17:33:42] \"GET /assets/css/cv.css HTTP/1.1\" 200 -\n",
      "127.0.0.1 - - [29/Sep/2020 17:33:42] \"GET /theme/fonts/RobotoSlab-Regular.ttf HTTP/1.1\" 200 -\n",
      "127.0.0.1 - - [29/Sep/2020 17:33:42] \"GET /theme/font-awesome/fonts/fontawesome-webfont.woff2?v=4.6.3 HTTP/1.1\" 200 -\n",
      "127.0.0.1 - - [29/Sep/2020 17:33:42] \"GET /theme/academicons/fonts/academicons.ttf?v=1.8.6 HTTP/1.1\" 200 -\n",
      "127.0.0.1 - - [29/Sep/2020 17:33:42] code 404, message File not found\n",
      "127.0.0.1 - - [29/Sep/2020 17:33:42] \"GET /pages/theme/img/starling-small.ico HTTP/1.1\" 404 -\n",
      "127.0.0.1 - - [29/Sep/2020 17:35:57] \"GET /curriculumvitae.html HTTP/1.1\" 200 -\n",
      "127.0.0.1 - - [29/Sep/2020 17:35:57] \"GET /assets/css/cv.css HTTP/1.1\" 200 -\n",
      "127.0.0.1 - - [29/Sep/2020 17:35:57] code 404, message File not found\n",
      "127.0.0.1 - - [29/Sep/2020 17:35:57] \"GET /favicon.ico HTTP/1.1\" 404 -\n",
      "127.0.0.1 - - [29/Sep/2020 17:35:58] \"GET /curriculumvitae.html HTTP/1.1\" 200 -\n",
      "127.0.0.1 - - [29/Sep/2020 17:36:00] \"GET /curriculumvitae.html HTTP/1.1\" 200 -\n",
      "127.0.0.1 - - [29/Sep/2020 17:36:49] \"GET /curriculumvitae.html HTTP/1.1\" 200 -\n",
      "127.0.0.1 - - [29/Sep/2020 17:36:49] \"GET /assets/css/cv.css HTTP/1.1\" 200 -\n"
     ]
    }
   ],
   "source": [
    "Handler = http.server.SimpleHTTPRequestHandler\n",
    "httpd = socketserver.TCPServer((\"\", PORT), Handler)\n",
    "print(\"serving at port\", PORT)\n",
    "httpd.serve_forever()"
   ]
  },
  {
   "cell_type": "code",
   "execution_count": null,
   "metadata": {},
   "outputs": [],
   "source": []
  },
  {
   "cell_type": "code",
   "execution_count": null,
   "metadata": {},
   "outputs": [],
   "source": []
  },
  {
   "cell_type": "code",
   "execution_count": null,
   "metadata": {},
   "outputs": [],
   "source": []
  },
  {
   "cell_type": "code",
   "execution_count": null,
   "metadata": {},
   "outputs": [],
   "source": []
  }
 ],
 "metadata": {
  "kernelspec": {
   "display_name": "Python 3",
   "language": "python",
   "name": "python3"
  },
  "language_info": {
   "codemirror_mode": {
    "name": "ipython",
    "version": 3
   },
   "file_extension": ".py",
   "mimetype": "text/x-python",
   "name": "python",
   "nbconvert_exporter": "python",
   "pygments_lexer": "ipython3",
   "version": "3.6.7"
  }
 },
 "nbformat": 4,
 "nbformat_minor": 4
}
