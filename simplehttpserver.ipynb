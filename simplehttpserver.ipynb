{
 "cells": [
  {
   "cell_type": "markdown",
   "metadata": {},
   "source": [
    "### Run a simple HTTP server"
   ]
  },
  {
   "cell_type": "code",
   "execution_count": 1,
   "metadata": {
    "ExecuteTime": {
     "end_time": "2020-05-20T21:10:04.539039Z",
     "start_time": "2020-05-20T21:10:04.528519Z"
    }
   },
   "outputs": [],
   "source": [
    "import http.server\n",
    "import socketserver\n",
    "import os "
   ]
  },
  {
   "cell_type": "code",
   "execution_count": 2,
   "metadata": {
    "ExecuteTime": {
     "end_time": "2020-05-20T21:10:04.899482Z",
     "start_time": "2020-05-20T21:10:04.896122Z"
    }
   },
   "outputs": [],
   "source": [
    "PORT = 8189"
   ]
  },
  {
   "cell_type": "code",
   "execution_count": 3,
   "metadata": {
    "ExecuteTime": {
     "end_time": "2020-05-20T21:10:05.326647Z",
     "start_time": "2020-05-20T21:10:05.323182Z"
    }
   },
   "outputs": [],
   "source": [
    "web_dir = os.path.join(os.getcwd(), 'docs')\n",
    "os.chdir(web_dir)"
   ]
  },
  {
   "cell_type": "code",
   "execution_count": null,
   "metadata": {
    "ExecuteTime": {
     "start_time": "2020-05-20T21:10:06.467Z"
    }
   },
   "outputs": [
    {
     "name": "stdout",
     "output_type": "stream",
     "text": [
      "serving at port 8189\n"
     ]
    },
    {
     "name": "stderr",
     "output_type": "stream",
     "text": [
      "127.0.0.1 - - [20/May/2020 14:12:46] \"GET / HTTP/1.1\" 200 -\n",
      "127.0.0.1 - - [20/May/2020 14:12:46] \"GET /theme/stylesheet/style.min.css HTTP/1.1\" 200 -\n",
      "127.0.0.1 - - [20/May/2020 14:12:46] \"GET /theme/pygments/github.min.css HTTP/1.1\" 200 -\n",
      "127.0.0.1 - - [20/May/2020 14:12:46] \"GET /theme/font-awesome/css/font-awesome.min.css HTTP/1.1\" 200 -\n",
      "127.0.0.1 - - [20/May/2020 14:12:46] \"GET /theme/academicons/css/academicons.css HTTP/1.1\" 200 -\n",
      "127.0.0.1 - - [20/May/2020 14:12:46] \"GET /theme/img/TSainburg.jpg HTTP/1.1\" 200 -\n",
      "127.0.0.1 - - [20/May/2020 14:12:46] \"GET /theme/fonts/RobotoSlab-Regular.ttf HTTP/1.1\" 200 -\n",
      "127.0.0.1 - - [20/May/2020 14:12:47] \"GET /theme/font-awesome/fonts/fontawesome-webfont.woff2?v=4.6.3 HTTP/1.1\" 200 -\n",
      "127.0.0.1 - - [20/May/2020 14:12:47] \"GET /theme/academicons/fonts/academicons.ttf?v=1.8.6 HTTP/1.1\" 200 -\n",
      "127.0.0.1 - - [20/May/2020 14:12:55] \"GET /tensorflow-2-feature-visualization-visualizing-classes.html HTTP/1.1\" 200 -\n",
      "127.0.0.1 - - [20/May/2020 14:12:55] \"GET /assets/feature_viz/vgg16.png HTTP/1.1\" 200 -\n",
      "127.0.0.1 - - [20/May/2020 14:12:55] \"GET /assets/feature_viz/VGG_classes.png HTTP/1.1\" 200 -\n",
      "127.0.0.1 - - [20/May/2020 14:12:56] \"GET /assets/feature_viz/birds.png HTTP/1.1\" 200 -\n",
      "127.0.0.1 - - [20/May/2020 14:12:56] \"GET /assets/feature_viz/classes.mp4 HTTP/1.1\" 200 -\n",
      "127.0.0.1 - - [20/May/2020 14:14:02] \"GET /theme/img/starling-small.ico HTTP/1.1\" 200 -\n",
      "127.0.0.1 - - [20/May/2020 14:49:19] \"GET /tensorflow-2-feature-visualization-visualizing-classes.html HTTP/1.1\" 200 -\n",
      "127.0.0.1 - - [20/May/2020 14:49:19] \"GET /assets/feature_viz/vgg16.png HTTP/1.1\" 200 -\n",
      "127.0.0.1 - - [20/May/2020 14:49:20] \"GET /assets/feature_viz/birds.png HTTP/1.1\" 200 -\n",
      "127.0.0.1 - - [20/May/2020 14:49:20] \"GET /assets/feature_viz/VGG_classes.png HTTP/1.1\" 200 -\n",
      "127.0.0.1 - - [20/May/2020 14:49:20] \"GET /assets/feature_viz/classes.mp4 HTTP/1.1\" 200 -\n",
      "127.0.0.1 - - [20/May/2020 14:49:26] \"GET /theme/img/starling-small.ico HTTP/1.1\" 200 -\n",
      "127.0.0.1 - - [20/May/2020 14:53:06] \"GET / HTTP/1.1\" 200 -\n",
      "127.0.0.1 - - [20/May/2020 14:55:49] \"GET /assets/feature_viz/classes.mp4 HTTP/1.1\" 200 -\n",
      "127.0.0.1 - - [20/May/2020 14:56:07] \"GET /tensorflow-2-feature-visualization-visualizing-classes.html HTTP/1.1\" 200 -\n",
      "127.0.0.1 - - [20/May/2020 14:56:09] \"GET /assets/feature_viz/classes.mp4 HTTP/1.1\" 200 -\n",
      "127.0.0.1 - - [20/May/2020 14:56:15] \"GET /theme/img/starling-small.ico HTTP/1.1\" 200 -\n",
      "127.0.0.1 - - [20/May/2020 14:56:26] \"GET / HTTP/1.1\" 200 -\n",
      "127.0.0.1 - - [20/May/2020 14:56:32] \"GET /tensorflow-2-feature-visualization-reconstructing-images.html HTTP/1.1\" 200 -\n",
      "127.0.0.1 - - [20/May/2020 14:56:35] \"GET /assets/feature_viz/reconstructions-no-tricks.png HTTP/1.1\" 200 -\n",
      "127.0.0.1 - - [20/May/2020 14:56:36] \"GET /assets/feature_viz/reconstructions-with-tricks.png HTTP/1.1\" 200 -\n",
      "127.0.0.1 - - [20/May/2020 14:58:20] \"GET / HTTP/1.1\" 200 -\n",
      "127.0.0.1 - - [20/May/2020 14:58:38] \"GET /tensorflow-2-feature-visualization-visualizing-classes.html HTTP/1.1\" 200 -\n",
      "127.0.0.1 - - [20/May/2020 14:59:07] \"GET / HTTP/1.1\" 200 -\n",
      "127.0.0.1 - - [20/May/2020 14:59:09] \"GET /tensorflow-2-feature-visualization-visualizing-features.html HTTP/1.1\" 200 -\n",
      "127.0.0.1 - - [20/May/2020 14:59:09] \"GET /assets/feature_viz/features_all_rotate.jpg HTTP/1.1\" 200 -\n",
      "127.0.0.1 - - [20/May/2020 14:59:10] \"GET /assets/feature_viz/all_receptive_fields_flipped.jpg HTTP/1.1\" 200 -\n",
      "127.0.0.1 - - [20/May/2020 14:59:10] \"GET /assets/feature_viz/all_receptive_fields_zoom_rotate.jpg HTTP/1.1\" 200 -\n",
      "127.0.0.1 - - [20/May/2020 14:59:10] \"GET /assets/feature_viz/all_filter_activations.jpg HTTP/1.1\" 200 -\n"
     ]
    }
   ],
   "source": [
    "Handler = http.server.SimpleHTTPRequestHandler\n",
    "httpd = socketserver.TCPServer((\"\", PORT), Handler)\n",
    "print(\"serving at port\", PORT)\n",
    "httpd.serve_forever()"
   ]
  },
  {
   "cell_type": "code",
   "execution_count": null,
   "metadata": {},
   "outputs": [],
   "source": []
  }
 ],
 "metadata": {
  "kernelspec": {
   "display_name": "Python 3",
   "language": "python",
   "name": "python3"
  },
  "language_info": {
   "codemirror_mode": {
    "name": "ipython",
    "version": 3
   },
   "file_extension": ".py",
   "mimetype": "text/x-python",
   "name": "python",
   "nbconvert_exporter": "python",
   "pygments_lexer": "ipython3",
   "version": "3.6.7"
  }
 },
 "nbformat": 4,
 "nbformat_minor": 4
}
