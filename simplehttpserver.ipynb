{
 "cells": [
  {
   "cell_type": "markdown",
   "metadata": {},
   "source": [
    "### Run a simple HTTP server"
   ]
  },
  {
   "cell_type": "code",
   "execution_count": null,
   "metadata": {
    "ExecuteTime": {
     "start_time": "2019-08-18T17:19:41.499Z"
    }
   },
   "outputs": [],
   "source": [
    "import http.server\n",
    "import socketserver\n",
    "import os"
   ]
  },
  {
   "cell_type": "code",
   "execution_count": null,
   "metadata": {
    "ExecuteTime": {
     "start_time": "2019-08-18T17:19:41.501Z"
    }
   },
   "outputs": [],
   "source": [
    "PORT = 8189"
   ]
  },
  {
   "cell_type": "code",
   "execution_count": null,
   "metadata": {
    "ExecuteTime": {
     "start_time": "2019-08-18T17:19:41.502Z"
    }
   },
   "outputs": [],
   "source": [
    "web_dir = os.path.join(os.getcwd(), 'docs')\n",
    "os.chdir(web_dir)"
   ]
  },
  {
   "cell_type": "code",
   "execution_count": null,
   "metadata": {
    "ExecuteTime": {
     "start_time": "2019-08-18T17:19:41.504Z"
    }
   },
   "outputs": [
    {
     "name": "stdout",
     "output_type": "stream",
     "text": [
      "serving at port 8189\n"
     ]
    },
    {
     "name": "stderr",
     "output_type": "stream",
     "text": [
      "127.0.0.1 - - [18/Aug/2019 10:20:12] \"GET / HTTP/1.1\" 200 -\n",
      "127.0.0.1 - - [18/Aug/2019 10:20:12] \"GET /theme/stylesheet/style.min.css HTTP/1.1\" 200 -\n",
      "127.0.0.1 - - [18/Aug/2019 10:20:12] \"GET /theme/pygments/github.min.css HTTP/1.1\" 200 -\n",
      "127.0.0.1 - - [18/Aug/2019 10:20:12] \"GET /theme/font-awesome/css/font-awesome.min.css HTTP/1.1\" 200 -\n",
      "127.0.0.1 - - [18/Aug/2019 10:20:12] \"GET /theme/academicons/css/academicons.css HTTP/1.1\" 200 -\n",
      "127.0.0.1 - - [18/Aug/2019 10:20:12] \"GET /theme/img/TSainburg.jpg HTTP/1.1\" 200 -\n",
      "127.0.0.1 - - [18/Aug/2019 10:20:13] \"GET /theme/fonts/RobotoSlab-Regular.ttf HTTP/1.1\" 200 -\n",
      "127.0.0.1 - - [18/Aug/2019 10:20:13] \"GET /theme/font-awesome/fonts/fontawesome-webfont.woff2?v=4.6.3 HTTP/1.1\" 200 -\n",
      "127.0.0.1 - - [18/Aug/2019 10:20:13] \"GET /theme/academicons/fonts/academicons.ttf?v=1.8.6 HTTP/1.1\" 200 -\n",
      "127.0.0.1 - - [18/Aug/2019 10:20:13] \"GET /theme/img/starling-small.ico HTTP/1.1\" 200 -\n",
      "127.0.0.1 - - [18/Aug/2019 10:22:09] \"GET / HTTP/1.1\" 200 -\n",
      "127.0.0.1 - - [18/Aug/2019 10:22:09] \"GET /theme/font-awesome/css/font-awesome.min.css HTTP/1.1\" 200 -\n",
      "127.0.0.1 - - [18/Aug/2019 10:22:09] \"GET /theme/academicons/css/academicons.css HTTP/1.1\" 200 -\n",
      "127.0.0.1 - - [18/Aug/2019 10:22:09] \"GET /theme/stylesheet/style.min.css HTTP/1.1\" 200 -\n",
      "127.0.0.1 - - [18/Aug/2019 10:22:09] \"GET /theme/pygments/github.min.css HTTP/1.1\" 200 -\n",
      "127.0.0.1 - - [18/Aug/2019 10:22:09] \"GET /theme/img/TSainburg.jpg HTTP/1.1\" 200 -\n",
      "127.0.0.1 - - [18/Aug/2019 10:22:10] \"GET /theme/fonts/RobotoSlab-Regular.ttf HTTP/1.1\" 200 -\n",
      "127.0.0.1 - - [18/Aug/2019 10:22:10] \"GET /theme/font-awesome/fonts/fontawesome-webfont.woff2?v=4.6.3 HTTP/1.1\" 200 -\n",
      "127.0.0.1 - - [18/Aug/2019 10:22:10] \"GET /theme/academicons/fonts/academicons.ttf?v=1.8.6 HTTP/1.1\" 200 -\n",
      "127.0.0.1 - - [18/Aug/2019 10:22:10] \"GET /theme/img/starling-small.ico HTTP/1.1\" 200 -\n",
      "127.0.0.1 - - [18/Aug/2019 10:22:12] \"GET / HTTP/1.1\" 200 -\n",
      "127.0.0.1 - - [18/Aug/2019 10:22:12] \"GET /theme/stylesheet/style.min.css HTTP/1.1\" 200 -\n",
      "127.0.0.1 - - [18/Aug/2019 10:22:12] \"GET /theme/pygments/github.min.css HTTP/1.1\" 200 -\n",
      "127.0.0.1 - - [18/Aug/2019 10:22:12] \"GET /theme/font-awesome/css/font-awesome.min.css HTTP/1.1\" 200 -\n",
      "127.0.0.1 - - [18/Aug/2019 10:22:12] \"GET /theme/academicons/css/academicons.css HTTP/1.1\" 200 -\n",
      "127.0.0.1 - - [18/Aug/2019 10:22:12] \"GET /theme/img/TSainburg.jpg HTTP/1.1\" 200 -\n",
      "127.0.0.1 - - [18/Aug/2019 10:22:12] \"GET /theme/fonts/RobotoSlab-Regular.ttf HTTP/1.1\" 200 -\n",
      "127.0.0.1 - - [18/Aug/2019 10:22:12] \"GET /theme/font-awesome/fonts/fontawesome-webfont.woff2?v=4.6.3 HTTP/1.1\" 200 -\n",
      "127.0.0.1 - - [18/Aug/2019 10:22:12] \"GET /theme/academicons/fonts/academicons.ttf?v=1.8.6 HTTP/1.1\" 200 -\n",
      "127.0.0.1 - - [18/Aug/2019 10:22:12] \"GET /theme/img/starling-small.ico HTTP/1.1\" 200 -\n",
      "127.0.0.1 - - [18/Aug/2019 10:22:19] \"GET /curriculum-vitae-in-python-html-jinja.html HTTP/1.1\" 200 -\n",
      "127.0.0.1 - - [18/Aug/2019 10:22:19] \"GET /assets/img/resume.png HTTP/1.1\" 200 -\n",
      "127.0.0.1 - - [18/Aug/2019 10:22:21] code 404, message File not found\n",
      "127.0.0.1 - - [18/Aug/2019 10:22:21] \"GET /birdsong-speech-parallels HTTP/1.1\" 404 -\n",
      "127.0.0.1 - - [18/Aug/2019 10:22:21] code 404, message File not found\n",
      "127.0.0.1 - - [18/Aug/2019 10:22:21] \"GET /favicon.ico HTTP/1.1\" 404 -\n",
      "127.0.0.1 - - [18/Aug/2019 10:22:32] code 404, message File not found\n",
      "127.0.0.1 - - [18/Aug/2019 10:22:32] \"GET /drafts/birdsong-speech-parallels HTTP/1.1\" 404 -\n",
      "127.0.0.1 - - [18/Aug/2019 10:22:36] \"GET / HTTP/1.1\" 200 -\n",
      "127.0.0.1 - - [18/Aug/2019 10:22:53] \"GET /drafts/birdsong-speech-parallels.html HTTP/1.1\" 200 -\n",
      "127.0.0.1 - - [18/Aug/2019 10:22:54] code 404, message File not found\n",
      "127.0.0.1 - - [18/Aug/2019 10:22:54] \"GET /drafts/theme/img/starling-small.ico HTTP/1.1\" 404 -\n",
      "127.0.0.1 - - [18/Aug/2019 10:34:07] \"GET /drafts/birdsong-speech-parallels.html HTTP/1.1\" 200 -\n",
      "127.0.0.1 - - [18/Aug/2019 10:34:07] \"GET /theme/stylesheet/style.min.css HTTP/1.1\" 200 -\n",
      "127.0.0.1 - - [18/Aug/2019 10:34:07] \"GET /theme/pygments/github.min.css HTTP/1.1\" 200 -\n",
      "127.0.0.1 - - [18/Aug/2019 10:34:07] \"GET /theme/font-awesome/css/font-awesome.min.css HTTP/1.1\" 200 -\n",
      "127.0.0.1 - - [18/Aug/2019 10:34:07] \"GET /theme/academicons/css/academicons.css HTTP/1.1\" 200 -\n",
      "127.0.0.1 - - [18/Aug/2019 10:34:07] \"GET /theme/img/TSainburg.jpg HTTP/1.1\" 200 -\n",
      "127.0.0.1 - - [18/Aug/2019 10:34:07] code 404, message File not found\n",
      "127.0.0.1 - - [18/Aug/2019 10:34:07] \"GET /drafts/assets/img/parallels_fig1.png HTTP/1.1\" 404 -\n",
      "127.0.0.1 - - [18/Aug/2019 10:34:07] \"GET /theme/fonts/RobotoSlab-Regular.ttf HTTP/1.1\" 200 -\n",
      "127.0.0.1 - - [18/Aug/2019 10:34:07] \"GET /theme/font-awesome/fonts/fontawesome-webfont.woff2?v=4.6.3 HTTP/1.1\" 200 -\n",
      "127.0.0.1 - - [18/Aug/2019 10:34:07] \"GET /theme/academicons/fonts/academicons.ttf?v=1.8.6 HTTP/1.1\" 200 -\n",
      "127.0.0.1 - - [18/Aug/2019 10:34:08] code 404, message File not found\n",
      "127.0.0.1 - - [18/Aug/2019 10:34:08] \"GET /drafts/theme/img/starling-small.ico HTTP/1.1\" 404 -\n",
      "127.0.0.1 - - [18/Aug/2019 10:35:06] \"GET / HTTP/1.1\" 200 -\n",
      "127.0.0.1 - - [18/Aug/2019 10:35:06] code 404, message File not found\n",
      "127.0.0.1 - - [18/Aug/2019 10:35:06] \"GET /favicon.ico HTTP/1.1\" 404 -\n",
      "127.0.0.1 - - [18/Aug/2019 10:35:39] \"GET / HTTP/1.1\" 200 -\n",
      "127.0.0.1 - - [18/Aug/2019 10:35:39] \"GET /theme/stylesheet/style.min.css HTTP/1.1\" 200 -\n",
      "127.0.0.1 - - [18/Aug/2019 10:35:39] \"GET /theme/pygments/github.min.css HTTP/1.1\" 200 -\n",
      "127.0.0.1 - - [18/Aug/2019 10:35:39] \"GET /theme/font-awesome/css/font-awesome.min.css HTTP/1.1\" 200 -\n",
      "127.0.0.1 - - [18/Aug/2019 10:35:39] \"GET /theme/academicons/css/academicons.css HTTP/1.1\" 200 -\n",
      "127.0.0.1 - - [18/Aug/2019 10:35:39] \"GET /theme/img/TSainburg.jpg HTTP/1.1\" 200 -\n",
      "127.0.0.1 - - [18/Aug/2019 10:35:39] \"GET /theme/fonts/RobotoSlab-Regular.ttf HTTP/1.1\" 200 -\n",
      "127.0.0.1 - - [18/Aug/2019 10:35:39] \"GET /theme/font-awesome/fonts/fontawesome-webfont.woff2?v=4.6.3 HTTP/1.1\" 200 -\n",
      "127.0.0.1 - - [18/Aug/2019 10:35:39] \"GET /theme/academicons/fonts/academicons.ttf?v=1.8.6 HTTP/1.1\" 200 -\n",
      "127.0.0.1 - - [18/Aug/2019 10:35:47] \"GET /birdsong-speech-parallels.html HTTP/1.1\" 200 -\n",
      "127.0.0.1 - - [18/Aug/2019 10:35:47] \"GET /assets/img/parallels_fig1.png HTTP/1.1\" 200 -\n",
      "127.0.0.1 - - [18/Aug/2019 10:47:43] \"GET /birdsong-speech-parallels.html HTTP/1.1\" 200 -\n",
      "127.0.0.1 - - [18/Aug/2019 10:47:43] \"GET /theme/stylesheet/style.min.css HTTP/1.1\" 200 -\n",
      "127.0.0.1 - - [18/Aug/2019 10:47:43] \"GET /theme/pygments/github.min.css HTTP/1.1\" 200 -\n",
      "127.0.0.1 - - [18/Aug/2019 10:47:43] \"GET /theme/font-awesome/css/font-awesome.min.css HTTP/1.1\" 200 -\n",
      "127.0.0.1 - - [18/Aug/2019 10:47:43] \"GET /theme/academicons/css/academicons.css HTTP/1.1\" 200 -\n",
      "127.0.0.1 - - [18/Aug/2019 10:47:43] \"GET /theme/img/TSainburg.jpg HTTP/1.1\" 200 -\n",
      "127.0.0.1 - - [18/Aug/2019 10:47:43] \"GET /assets/img/parallels_fig1.png HTTP/1.1\" 200 -\n",
      "127.0.0.1 - - [18/Aug/2019 10:47:44] \"GET /theme/fonts/RobotoSlab-Regular.ttf HTTP/1.1\" 200 -\n",
      "127.0.0.1 - - [18/Aug/2019 10:47:44] \"GET /theme/font-awesome/fonts/fontawesome-webfont.woff2?v=4.6.3 HTTP/1.1\" 200 -\n",
      "127.0.0.1 - - [18/Aug/2019 10:47:44] \"GET /theme/academicons/fonts/academicons.ttf?v=1.8.6 HTTP/1.1\" 200 -\n",
      "127.0.0.1 - - [18/Aug/2019 10:47:44] \"GET /theme/img/starling-small.ico HTTP/1.1\" 200 -\n",
      "127.0.0.1 - - [18/Aug/2019 10:55:11] \"GET /birdsong-speech-parallels.html HTTP/1.1\" 200 -\n",
      "127.0.0.1 - - [18/Aug/2019 10:55:11] \"GET /theme/stylesheet/style.min.css HTTP/1.1\" 200 -\n",
      "127.0.0.1 - - [18/Aug/2019 10:55:11] \"GET /theme/pygments/github.min.css HTTP/1.1\" 200 -\n",
      "127.0.0.1 - - [18/Aug/2019 10:55:11] \"GET /theme/font-awesome/css/font-awesome.min.css HTTP/1.1\" 200 -\n",
      "127.0.0.1 - - [18/Aug/2019 10:55:11] \"GET /theme/academicons/css/academicons.css HTTP/1.1\" 200 -\n",
      "127.0.0.1 - - [18/Aug/2019 10:55:11] \"GET /theme/img/TSainburg.jpg HTTP/1.1\" 200 -\n",
      "127.0.0.1 - - [18/Aug/2019 10:55:11] \"GET /assets/img/parallels_fig1.png HTTP/1.1\" 200 -\n",
      "127.0.0.1 - - [18/Aug/2019 10:55:11] \"GET /theme/fonts/RobotoSlab-Regular.ttf HTTP/1.1\" 200 -\n",
      "127.0.0.1 - - [18/Aug/2019 10:55:11] \"GET /theme/font-awesome/fonts/fontawesome-webfont.woff2?v=4.6.3 HTTP/1.1\" 200 -\n",
      "127.0.0.1 - - [18/Aug/2019 10:55:11] \"GET /theme/academicons/fonts/academicons.ttf?v=1.8.6 HTTP/1.1\" 200 -\n",
      "127.0.0.1 - - [18/Aug/2019 10:55:11] \"GET /theme/img/starling-small.ico HTTP/1.1\" 200 -\n"
     ]
    },
    {
     "name": "stderr",
     "output_type": "stream",
     "text": [
      "127.0.0.1 - - [18/Aug/2019 10:56:50] \"GET /pages/cv.html HTTP/1.1\" 200 -\n",
      "127.0.0.1 - - [18/Aug/2019 10:56:51] \"GET /assets/css/cv.css HTTP/1.1\" 200 -\n",
      "127.0.0.1 - - [18/Aug/2019 10:56:51] code 404, message File not found\n",
      "127.0.0.1 - - [18/Aug/2019 10:56:51] \"GET /pages/theme/img/starling-small.ico HTTP/1.1\" 404 -\n",
      "127.0.0.1 - - [18/Aug/2019 10:56:53] \"GET /curriculumvitae.html HTTP/1.1\" 200 -\n",
      "127.0.0.1 - - [18/Aug/2019 10:56:54] code 404, message File not found\n",
      "127.0.0.1 - - [18/Aug/2019 10:56:54] \"GET /favicon.ico HTTP/1.1\" 404 -\n",
      "127.0.0.1 - - [18/Aug/2019 11:00:05] code 404, message File not found\n",
      "127.0.0.1 - - [18/Aug/2019 11:00:05] \"GET /birdsong-speech-parallels.html HTTP/1.1\" 404 -\n",
      "127.0.0.1 - - [18/Aug/2019 11:00:06] code 404, message File not found\n",
      "127.0.0.1 - - [18/Aug/2019 11:00:06] \"GET /favicon.ico HTTP/1.1\" 404 -\n",
      "127.0.0.1 - - [18/Aug/2019 11:00:24] \"GET /pages/cv.html HTTP/1.1\" 200 -\n",
      "127.0.0.1 - - [18/Aug/2019 11:00:24] \"GET /theme/stylesheet/style.min.css HTTP/1.1\" 200 -\n",
      "127.0.0.1 - - [18/Aug/2019 11:00:25] \"GET /theme/pygments/github.min.css HTTP/1.1\" 200 -\n",
      "127.0.0.1 - - [18/Aug/2019 11:00:25] \"GET /theme/font-awesome/css/font-awesome.min.css HTTP/1.1\" 200 -\n",
      "127.0.0.1 - - [18/Aug/2019 11:00:25] \"GET /theme/academicons/css/academicons.css HTTP/1.1\" 200 -\n",
      "127.0.0.1 - - [18/Aug/2019 11:00:25] \"GET /theme/img/TSainburg.jpg HTTP/1.1\" 200 -\n",
      "127.0.0.1 - - [18/Aug/2019 11:00:25] \"GET /assets/css/cv.css HTTP/1.1\" 200 -\n",
      "127.0.0.1 - - [18/Aug/2019 11:00:25] \"GET /theme/fonts/RobotoSlab-Regular.ttf HTTP/1.1\" 200 -\n",
      "127.0.0.1 - - [18/Aug/2019 11:00:25] \"GET /theme/font-awesome/fonts/fontawesome-webfont.woff2?v=4.6.3 HTTP/1.1\" 200 -\n",
      "127.0.0.1 - - [18/Aug/2019 11:00:25] \"GET /theme/academicons/fonts/academicons.ttf?v=1.8.6 HTTP/1.1\" 200 -\n",
      "127.0.0.1 - - [18/Aug/2019 11:00:25] code 404, message File not found\n",
      "127.0.0.1 - - [18/Aug/2019 11:00:25] \"GET /pages/theme/img/starling-small.ico HTTP/1.1\" 404 -\n",
      "127.0.0.1 - - [18/Aug/2019 11:01:43] \"GET /birdsong-speech-parallels.html HTTP/1.1\" 200 -\n",
      "127.0.0.1 - - [18/Aug/2019 11:01:43] \"GET /theme/stylesheet/style.min.css HTTP/1.1\" 200 -\n",
      "127.0.0.1 - - [18/Aug/2019 11:01:43] \"GET /theme/pygments/github.min.css HTTP/1.1\" 200 -\n",
      "127.0.0.1 - - [18/Aug/2019 11:01:43] \"GET /theme/font-awesome/css/font-awesome.min.css HTTP/1.1\" 200 -\n",
      "127.0.0.1 - - [18/Aug/2019 11:01:43] \"GET /theme/academicons/css/academicons.css HTTP/1.1\" 200 -\n",
      "127.0.0.1 - - [18/Aug/2019 11:01:43] \"GET /theme/img/TSainburg.jpg HTTP/1.1\" 200 -\n",
      "127.0.0.1 - - [18/Aug/2019 11:01:43] \"GET /assets/img/parallels_fig1.png HTTP/1.1\" 200 -\n",
      "127.0.0.1 - - [18/Aug/2019 11:01:43] \"GET /theme/fonts/RobotoSlab-Regular.ttf HTTP/1.1\" 200 -\n",
      "127.0.0.1 - - [18/Aug/2019 11:01:43] \"GET /theme/font-awesome/fonts/fontawesome-webfont.woff2?v=4.6.3 HTTP/1.1\" 200 -\n",
      "127.0.0.1 - - [18/Aug/2019 11:01:43] \"GET /theme/academicons/fonts/academicons.ttf?v=1.8.6 HTTP/1.1\" 200 -\n",
      "127.0.0.1 - - [18/Aug/2019 11:01:43] \"GET /theme/img/starling-small.ico HTTP/1.1\" 200 -\n",
      "127.0.0.1 - - [18/Aug/2019 11:05:46] \"GET /birdsong-speech-parallels.html HTTP/1.1\" 200 -\n",
      "127.0.0.1 - - [18/Aug/2019 11:05:46] \"GET /theme/stylesheet/style.min.css HTTP/1.1\" 200 -\n",
      "127.0.0.1 - - [18/Aug/2019 11:05:46] \"GET /theme/pygments/github.min.css HTTP/1.1\" 200 -\n",
      "127.0.0.1 - - [18/Aug/2019 11:05:46] \"GET /theme/font-awesome/css/font-awesome.min.css HTTP/1.1\" 200 -\n",
      "127.0.0.1 - - [18/Aug/2019 11:05:46] \"GET /theme/academicons/css/academicons.css HTTP/1.1\" 200 -\n",
      "127.0.0.1 - - [18/Aug/2019 11:05:46] \"GET /theme/img/TSainburg.jpg HTTP/1.1\" 200 -\n",
      "127.0.0.1 - - [18/Aug/2019 11:05:46] \"GET /assets/img/parallels_fig1.png HTTP/1.1\" 200 -\n",
      "127.0.0.1 - - [18/Aug/2019 11:05:46] \"GET /theme/fonts/RobotoSlab-Regular.ttf HTTP/1.1\" 200 -\n",
      "127.0.0.1 - - [18/Aug/2019 11:05:46] \"GET /theme/font-awesome/fonts/fontawesome-webfont.woff2?v=4.6.3 HTTP/1.1\" 200 -\n",
      "127.0.0.1 - - [18/Aug/2019 11:05:46] \"GET /theme/academicons/fonts/academicons.ttf?v=1.8.6 HTTP/1.1\" 200 -\n",
      "127.0.0.1 - - [18/Aug/2019 11:05:46] \"GET /theme/img/starling-small.ico HTTP/1.1\" 200 -\n",
      "127.0.0.1 - - [18/Aug/2019 11:08:41] \"GET /birdsong-speech-parallels.html HTTP/1.1\" 200 -\n",
      "127.0.0.1 - - [18/Aug/2019 11:08:41] \"GET /theme/stylesheet/style.min.css HTTP/1.1\" 200 -\n",
      "127.0.0.1 - - [18/Aug/2019 11:08:41] \"GET /theme/pygments/github.min.css HTTP/1.1\" 200 -\n",
      "127.0.0.1 - - [18/Aug/2019 11:08:41] \"GET /theme/font-awesome/css/font-awesome.min.css HTTP/1.1\" 200 -\n",
      "127.0.0.1 - - [18/Aug/2019 11:08:41] \"GET /theme/academicons/css/academicons.css HTTP/1.1\" 200 -\n",
      "127.0.0.1 - - [18/Aug/2019 11:08:41] \"GET /theme/img/TSainburg.jpg HTTP/1.1\" 200 -\n",
      "127.0.0.1 - - [18/Aug/2019 11:08:41] \"GET /assets/img/parallels_fig1.png HTTP/1.1\" 200 -\n",
      "127.0.0.1 - - [18/Aug/2019 11:08:42] \"GET /theme/fonts/RobotoSlab-Regular.ttf HTTP/1.1\" 200 -\n",
      "127.0.0.1 - - [18/Aug/2019 11:08:42] \"GET /theme/font-awesome/fonts/fontawesome-webfont.woff2?v=4.6.3 HTTP/1.1\" 200 -\n",
      "127.0.0.1 - - [18/Aug/2019 11:08:42] \"GET /theme/academicons/fonts/academicons.ttf?v=1.8.6 HTTP/1.1\" 200 -\n",
      "127.0.0.1 - - [18/Aug/2019 11:08:42] \"GET /theme/img/starling-small.ico HTTP/1.1\" 200 -\n",
      "127.0.0.1 - - [18/Aug/2019 11:10:45] \"GET /birdsong-speech-parallels.html HTTP/1.1\" 200 -\n",
      "127.0.0.1 - - [18/Aug/2019 11:10:45] \"GET /theme/img/starling-small.ico HTTP/1.1\" 200 -\n",
      "127.0.0.1 - - [18/Aug/2019 11:10:46] \"GET /birdsong-speech-parallels.html HTTP/1.1\" 200 -\n",
      "127.0.0.1 - - [18/Aug/2019 11:10:46] \"GET /theme/stylesheet/style.min.css HTTP/1.1\" 200 -\n",
      "127.0.0.1 - - [18/Aug/2019 11:10:46] \"GET /theme/pygments/github.min.css HTTP/1.1\" 200 -\n",
      "127.0.0.1 - - [18/Aug/2019 11:10:46] \"GET /theme/font-awesome/css/font-awesome.min.css HTTP/1.1\" 200 -\n",
      "127.0.0.1 - - [18/Aug/2019 11:10:46] \"GET /theme/academicons/css/academicons.css HTTP/1.1\" 200 -\n",
      "127.0.0.1 - - [18/Aug/2019 11:10:46] \"GET /theme/img/TSainburg.jpg HTTP/1.1\" 200 -\n",
      "127.0.0.1 - - [18/Aug/2019 11:10:46] \"GET /assets/img/parallels_fig1.png HTTP/1.1\" 200 -\n",
      "127.0.0.1 - - [18/Aug/2019 11:10:47] \"GET /theme/fonts/RobotoSlab-Regular.ttf HTTP/1.1\" 200 -\n",
      "127.0.0.1 - - [18/Aug/2019 11:10:47] \"GET /theme/font-awesome/fonts/fontawesome-webfont.woff2?v=4.6.3 HTTP/1.1\" 200 -\n",
      "127.0.0.1 - - [18/Aug/2019 11:10:47] \"GET /theme/academicons/fonts/academicons.ttf?v=1.8.6 HTTP/1.1\" 200 -\n",
      "127.0.0.1 - - [18/Aug/2019 11:10:47] \"GET /theme/img/starling-small.ico HTTP/1.1\" 200 -\n",
      "127.0.0.1 - - [18/Aug/2019 11:11:14] \"GET /birdsong-speech-parallels.html HTTP/1.1\" 200 -\n",
      "127.0.0.1 - - [18/Aug/2019 11:11:14] \"GET /theme/stylesheet/style.min.css HTTP/1.1\" 200 -\n",
      "127.0.0.1 - - [18/Aug/2019 11:11:14] \"GET /theme/pygments/github.min.css HTTP/1.1\" 200 -\n",
      "127.0.0.1 - - [18/Aug/2019 11:11:14] \"GET /theme/font-awesome/css/font-awesome.min.css HTTP/1.1\" 200 -\n",
      "127.0.0.1 - - [18/Aug/2019 11:11:14] \"GET /theme/academicons/css/academicons.css HTTP/1.1\" 200 -\n",
      "127.0.0.1 - - [18/Aug/2019 11:11:14] \"GET /theme/img/TSainburg.jpg HTTP/1.1\" 200 -\n",
      "127.0.0.1 - - [18/Aug/2019 11:11:14] \"GET /assets/img/parallels_fig1.png HTTP/1.1\" 200 -\n",
      "127.0.0.1 - - [18/Aug/2019 11:11:15] \"GET /theme/fonts/RobotoSlab-Regular.ttf HTTP/1.1\" 200 -\n",
      "127.0.0.1 - - [18/Aug/2019 11:11:15] \"GET /theme/font-awesome/fonts/fontawesome-webfont.woff2?v=4.6.3 HTTP/1.1\" 200 -\n",
      "127.0.0.1 - - [18/Aug/2019 11:11:15] \"GET /theme/academicons/fonts/academicons.ttf?v=1.8.6 HTTP/1.1\" 200 -\n",
      "127.0.0.1 - - [18/Aug/2019 11:11:15] \"GET /theme/img/starling-small.ico HTTP/1.1\" 200 -\n",
      "127.0.0.1 - - [18/Aug/2019 11:20:27] \"GET /pages/cv.html HTTP/1.1\" 200 -\n",
      "127.0.0.1 - - [18/Aug/2019 11:20:27] \"GET /theme/stylesheet/style.min.css HTTP/1.1\" 200 -\n",
      "127.0.0.1 - - [18/Aug/2019 11:20:27] \"GET /theme/pygments/github.min.css HTTP/1.1\" 200 -\n",
      "127.0.0.1 - - [18/Aug/2019 11:20:27] \"GET /theme/font-awesome/css/font-awesome.min.css HTTP/1.1\" 200 -\n",
      "127.0.0.1 - - [18/Aug/2019 11:20:27] \"GET /theme/academicons/css/academicons.css HTTP/1.1\" 200 -\n",
      "127.0.0.1 - - [18/Aug/2019 11:20:27] \"GET /theme/img/TSainburg.jpg HTTP/1.1\" 200 -\n",
      "127.0.0.1 - - [18/Aug/2019 11:20:27] \"GET /assets/css/cv.css HTTP/1.1\" 200 -\n",
      "127.0.0.1 - - [18/Aug/2019 11:20:27] \"GET /theme/fonts/RobotoSlab-Regular.ttf HTTP/1.1\" 200 -\n",
      "127.0.0.1 - - [18/Aug/2019 11:20:27] \"GET /theme/font-awesome/fonts/fontawesome-webfont.woff2?v=4.6.3 HTTP/1.1\" 200 -\n",
      "127.0.0.1 - - [18/Aug/2019 11:20:27] \"GET /theme/academicons/fonts/academicons.ttf?v=1.8.6 HTTP/1.1\" 200 -\n"
     ]
    },
    {
     "name": "stderr",
     "output_type": "stream",
     "text": [
      "127.0.0.1 - - [18/Aug/2019 11:20:27] code 404, message File not found\n",
      "127.0.0.1 - - [18/Aug/2019 11:20:27] \"GET /pages/theme/img/starling-small.ico HTTP/1.1\" 404 -\n",
      "127.0.0.1 - - [18/Aug/2019 11:20:39] \"GET /birdsong-speech-parallels.html HTTP/1.1\" 200 -\n",
      "127.0.0.1 - - [18/Aug/2019 11:20:39] \"GET /theme/stylesheet/style.min.css HTTP/1.1\" 200 -\n",
      "127.0.0.1 - - [18/Aug/2019 11:20:39] \"GET /theme/pygments/github.min.css HTTP/1.1\" 200 -\n",
      "127.0.0.1 - - [18/Aug/2019 11:20:39] \"GET /theme/font-awesome/css/font-awesome.min.css HTTP/1.1\" 200 -\n",
      "127.0.0.1 - - [18/Aug/2019 11:20:39] \"GET /theme/academicons/css/academicons.css HTTP/1.1\" 200 -\n",
      "127.0.0.1 - - [18/Aug/2019 11:20:39] \"GET /theme/img/TSainburg.jpg HTTP/1.1\" 200 -\n",
      "127.0.0.1 - - [18/Aug/2019 11:20:39] \"GET /assets/img/parallels_fig1.png HTTP/1.1\" 200 -\n",
      "127.0.0.1 - - [18/Aug/2019 11:20:39] \"GET /theme/fonts/RobotoSlab-Regular.ttf HTTP/1.1\" 200 -\n",
      "127.0.0.1 - - [18/Aug/2019 11:20:39] \"GET /theme/font-awesome/fonts/fontawesome-webfont.woff2?v=4.6.3 HTTP/1.1\" 200 -\n",
      "127.0.0.1 - - [18/Aug/2019 11:20:39] \"GET /theme/academicons/fonts/academicons.ttf?v=1.8.6 HTTP/1.1\" 200 -\n",
      "127.0.0.1 - - [18/Aug/2019 11:20:40] \"GET /theme/img/starling-small.ico HTTP/1.1\" 200 -\n",
      "127.0.0.1 - - [18/Aug/2019 11:24:58] \"GET /birdsong-speech-parallels.html HTTP/1.1\" 200 -\n",
      "127.0.0.1 - - [18/Aug/2019 11:24:58] \"GET /theme/stylesheet/style.min.css HTTP/1.1\" 200 -\n",
      "127.0.0.1 - - [18/Aug/2019 11:24:58] \"GET /theme/pygments/github.min.css HTTP/1.1\" 200 -\n",
      "127.0.0.1 - - [18/Aug/2019 11:24:58] \"GET /theme/font-awesome/css/font-awesome.min.css HTTP/1.1\" 200 -\n",
      "127.0.0.1 - - [18/Aug/2019 11:24:58] \"GET /theme/academicons/css/academicons.css HTTP/1.1\" 200 -\n",
      "127.0.0.1 - - [18/Aug/2019 11:24:58] \"GET /theme/img/TSainburg.jpg HTTP/1.1\" 200 -\n",
      "127.0.0.1 - - [18/Aug/2019 11:24:58] \"GET /assets/img/parallels_fig1.png HTTP/1.1\" 200 -\n",
      "127.0.0.1 - - [18/Aug/2019 11:24:58] \"GET /theme/fonts/RobotoSlab-Regular.ttf HTTP/1.1\" 200 -\n",
      "127.0.0.1 - - [18/Aug/2019 11:24:58] \"GET /theme/font-awesome/fonts/fontawesome-webfont.woff2?v=4.6.3 HTTP/1.1\" 200 -\n",
      "127.0.0.1 - - [18/Aug/2019 11:24:58] \"GET /theme/academicons/fonts/academicons.ttf?v=1.8.6 HTTP/1.1\" 200 -\n",
      "127.0.0.1 - - [18/Aug/2019 11:24:59] \"GET /theme/img/starling-small.ico HTTP/1.1\" 200 -\n",
      "127.0.0.1 - - [18/Aug/2019 11:33:25] \"GET /curriculumvitae.html HTTP/1.1\" 200 -\n",
      "127.0.0.1 - - [18/Aug/2019 11:33:26] \"GET /assets/css/cv.css HTTP/1.1\" 200 -\n",
      "127.0.0.1 - - [18/Aug/2019 11:33:26] code 404, message File not found\n",
      "127.0.0.1 - - [18/Aug/2019 11:33:26] \"GET /favicon.ico HTTP/1.1\" 404 -\n",
      "127.0.0.1 - - [18/Aug/2019 11:43:23] \"GET /birdsong-speech-parallels.html HTTP/1.1\" 200 -\n",
      "127.0.0.1 - - [18/Aug/2019 11:43:23] \"GET /theme/stylesheet/style.min.css HTTP/1.1\" 200 -\n",
      "127.0.0.1 - - [18/Aug/2019 11:43:23] \"GET /theme/pygments/github.min.css HTTP/1.1\" 200 -\n",
      "127.0.0.1 - - [18/Aug/2019 11:43:23] \"GET /theme/font-awesome/css/font-awesome.min.css HTTP/1.1\" 200 -\n",
      "127.0.0.1 - - [18/Aug/2019 11:43:23] \"GET /theme/academicons/css/academicons.css HTTP/1.1\" 200 -\n",
      "127.0.0.1 - - [18/Aug/2019 11:43:23] \"GET /theme/img/TSainburg.jpg HTTP/1.1\" 200 -\n",
      "127.0.0.1 - - [18/Aug/2019 11:43:23] \"GET /assets/img/parallels_fig1.png HTTP/1.1\" 200 -\n",
      "127.0.0.1 - - [18/Aug/2019 11:43:23] \"GET /theme/fonts/RobotoSlab-Regular.ttf HTTP/1.1\" 200 -\n",
      "127.0.0.1 - - [18/Aug/2019 11:43:23] \"GET /theme/font-awesome/fonts/fontawesome-webfont.woff2?v=4.6.3 HTTP/1.1\" 200 -\n",
      "127.0.0.1 - - [18/Aug/2019 11:43:23] \"GET /theme/academicons/fonts/academicons.ttf?v=1.8.6 HTTP/1.1\" 200 -\n",
      "127.0.0.1 - - [18/Aug/2019 11:43:24] \"GET /theme/img/starling-small.ico HTTP/1.1\" 200 -\n"
     ]
    }
   ],
   "source": [
    "Handler = http.server.SimpleHTTPRequestHandler\n",
    "httpd = socketserver.TCPServer((\"\", PORT), Handler)\n",
    "print(\"serving at port\", PORT)\n",
    "httpd.serve_forever()"
   ]
  },
  {
   "cell_type": "code",
   "execution_count": null,
   "metadata": {},
   "outputs": [],
   "source": []
  }
 ],
 "metadata": {
  "kernelspec": {
   "display_name": "Python 3",
   "language": "python",
   "name": "python3"
  },
  "language_info": {
   "codemirror_mode": {
    "name": "ipython",
    "version": 3
   },
   "file_extension": ".py",
   "mimetype": "text/x-python",
   "name": "python",
   "nbconvert_exporter": "python",
   "pygments_lexer": "ipython3",
   "version": "3.6.8"
  }
 },
 "nbformat": 4,
 "nbformat_minor": 2
}
