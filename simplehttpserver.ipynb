{
 "cells": [
  {
   "cell_type": "markdown",
   "metadata": {},
   "source": [
    "### Run a simple HTTP server"
   ]
  },
  {
   "cell_type": "code",
   "execution_count": null,
   "metadata": {
    "ExecuteTime": {
     "start_time": "2019-08-18T20:14:29.982Z"
    }
   },
   "outputs": [],
   "source": [
    "import http.server\n",
    "import socketserver\n",
    "import os"
   ]
  },
  {
   "cell_type": "code",
   "execution_count": null,
   "metadata": {
    "ExecuteTime": {
     "start_time": "2019-08-18T20:14:29.983Z"
    }
   },
   "outputs": [],
   "source": [
    "PORT = 8189"
   ]
  },
  {
   "cell_type": "code",
   "execution_count": null,
   "metadata": {
    "ExecuteTime": {
     "start_time": "2019-08-18T20:14:29.985Z"
    }
   },
   "outputs": [],
   "source": [
    "web_dir = os.path.join(os.getcwd(), 'docs')\n",
    "os.chdir(web_dir)"
   ]
  },
  {
   "cell_type": "code",
   "execution_count": null,
   "metadata": {
    "ExecuteTime": {
     "start_time": "2019-08-18T20:14:29.986Z"
    }
   },
   "outputs": [
    {
     "name": "stdout",
     "output_type": "stream",
     "text": [
      "serving at port 8189\n"
     ]
    },
    {
     "name": "stderr",
     "output_type": "stream",
     "text": [
      "127.0.0.1 - - [18/Aug/2019 13:14:44] \"GET / HTTP/1.1\" 200 -\n",
      "127.0.0.1 - - [18/Aug/2019 13:14:45] \"GET /theme/img/starling-small.ico HTTP/1.1\" 200 -\n",
      "127.0.0.1 - - [18/Aug/2019 13:14:47] \"GET / HTTP/1.1\" 200 -\n",
      "127.0.0.1 - - [18/Aug/2019 13:14:47] \"GET /theme/stylesheet/style.min.css HTTP/1.1\" 200 -\n",
      "127.0.0.1 - - [18/Aug/2019 13:14:47] \"GET /theme/pygments/github.min.css HTTP/1.1\" 200 -\n",
      "127.0.0.1 - - [18/Aug/2019 13:14:47] \"GET /theme/font-awesome/css/font-awesome.min.css HTTP/1.1\" 200 -\n",
      "127.0.0.1 - - [18/Aug/2019 13:14:47] \"GET /theme/academicons/css/academicons.css HTTP/1.1\" 200 -\n",
      "127.0.0.1 - - [18/Aug/2019 13:14:47] \"GET /theme/img/TSainburg.jpg HTTP/1.1\" 200 -\n",
      "127.0.0.1 - - [18/Aug/2019 13:14:47] \"GET /theme/fonts/RobotoSlab-Regular.ttf HTTP/1.1\" 200 -\n",
      "127.0.0.1 - - [18/Aug/2019 13:14:47] \"GET /theme/font-awesome/fonts/fontawesome-webfont.woff2?v=4.6.3 HTTP/1.1\" 200 -\n",
      "127.0.0.1 - - [18/Aug/2019 13:14:47] \"GET /theme/academicons/fonts/academicons.ttf?v=1.8.6 HTTP/1.1\" 200 -\n",
      "127.0.0.1 - - [18/Aug/2019 13:14:47] \"GET /theme/img/starling-small.ico HTTP/1.1\" 200 -\n",
      "127.0.0.1 - - [18/Aug/2019 13:14:52] \"GET /pages/cv.html HTTP/1.1\" 200 -\n",
      "127.0.0.1 - - [18/Aug/2019 13:14:52] \"GET /assets/css/cv.css HTTP/1.1\" 200 -\n",
      "127.0.0.1 - - [18/Aug/2019 13:14:52] code 404, message File not found\n",
      "127.0.0.1 - - [18/Aug/2019 13:14:52] \"GET /pages/theme/img/starling-small.ico HTTP/1.1\" 404 -\n",
      "127.0.0.1 - - [18/Aug/2019 13:17:17] \"GET /pages/cv.html HTTP/1.1\" 200 -\n",
      "127.0.0.1 - - [18/Aug/2019 13:17:17] \"GET /theme/academicons/css/academicons.css HTTP/1.1\" 200 -\n",
      "127.0.0.1 - - [18/Aug/2019 13:17:17] \"GET /theme/pygments/github.min.css HTTP/1.1\" 200 -\n",
      "127.0.0.1 - - [18/Aug/2019 13:17:17] \"GET /theme/img/TSainburg.jpg HTTP/1.1\" 200 -\n",
      "127.0.0.1 - - [18/Aug/2019 13:17:17] \"GET /theme/stylesheet/style.min.css HTTP/1.1\" 200 -\n",
      "127.0.0.1 - - [18/Aug/2019 13:17:17] \"GET /theme/font-awesome/css/font-awesome.min.css HTTP/1.1\" 200 -\n",
      "127.0.0.1 - - [18/Aug/2019 13:17:17] \"GET /assets/css/cv.css HTTP/1.1\" 200 -\n",
      "127.0.0.1 - - [18/Aug/2019 13:17:17] \"GET /theme/font-awesome/fonts/fontawesome-webfont.woff2?v=4.6.3 HTTP/1.1\" 200 -\n",
      "127.0.0.1 - - [18/Aug/2019 13:17:17] \"GET /theme/fonts/RobotoSlab-Regular.ttf HTTP/1.1\" 200 -\n",
      "127.0.0.1 - - [18/Aug/2019 13:17:17] \"GET /theme/academicons/fonts/academicons.ttf?v=1.8.6 HTTP/1.1\" 200 -\n",
      "127.0.0.1 - - [18/Aug/2019 13:17:17] code 404, message File not found\n",
      "127.0.0.1 - - [18/Aug/2019 13:17:17] \"GET /pages/theme/img/starling-small.ico HTTP/1.1\" 404 -\n"
     ]
    }
   ],
   "source": [
    "Handler = http.server.SimpleHTTPRequestHandler\n",
    "httpd = socketserver.TCPServer((\"\", PORT), Handler)\n",
    "print(\"serving at port\", PORT)\n",
    "httpd.serve_forever()"
   ]
  },
  {
   "cell_type": "code",
   "execution_count": null,
   "metadata": {},
   "outputs": [],
   "source": []
  }
 ],
 "metadata": {
  "kernelspec": {
   "display_name": "Python 3",
   "language": "python",
   "name": "python3"
  },
  "language_info": {
   "codemirror_mode": {
    "name": "ipython",
    "version": 3
   },
   "file_extension": ".py",
   "mimetype": "text/x-python",
   "name": "python",
   "nbconvert_exporter": "python",
   "pygments_lexer": "ipython3",
   "version": "3.6.8"
  }
 },
 "nbformat": 4,
 "nbformat_minor": 2
}
