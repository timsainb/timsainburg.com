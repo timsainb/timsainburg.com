{
 "cells": [
  {
   "cell_type": "markdown",
   "metadata": {},
   "source": [
    "### Run a simple HTTP server"
   ]
  },
  {
   "cell_type": "code",
   "execution_count": 1,
   "metadata": {
    "ExecuteTime": {
     "start_time": "2019-08-18T21:23:16.975Z"
    }
   },
   "outputs": [],
   "source": [
    "import http.server\n",
    "import socketserver\n",
    "import os "
   ]
  },
  {
   "cell_type": "code",
   "execution_count": 2,
   "metadata": {
    "ExecuteTime": {
     "start_time": "2019-08-18T21:23:16.977Z"
    }
   },
   "outputs": [],
   "source": [
    "PORT = 8189"
   ]
  },
  {
   "cell_type": "code",
   "execution_count": 3,
   "metadata": {
    "ExecuteTime": {
     "start_time": "2019-08-18T21:23:16.978Z"
    }
   },
   "outputs": [],
   "source": [
    "web_dir = os.path.join(os.getcwd(), 'docs')\n",
    "os.chdir(web_dir)"
   ]
  },
  {
   "cell_type": "code",
   "execution_count": null,
   "metadata": {
    "ExecuteTime": {
     "start_time": "2019-08-18T21:23:16.980Z"
    }
   },
   "outputs": [
    {
     "name": "stdout",
     "output_type": "stream",
     "text": [
      "serving at port 8189\n"
     ]
    },
    {
     "name": "stderr",
     "output_type": "stream",
     "text": [
      "127.0.0.1 - - [21/Aug/2019 14:43:21] \"GET / HTTP/1.1\" 200 -\n",
      "127.0.0.1 - - [21/Aug/2019 14:43:21] \"GET /theme/stylesheet/style.min.css HTTP/1.1\" 200 -\n",
      "127.0.0.1 - - [21/Aug/2019 14:43:21] \"GET /theme/pygments/github.min.css HTTP/1.1\" 200 -\n",
      "127.0.0.1 - - [21/Aug/2019 14:43:21] \"GET /theme/font-awesome/css/font-awesome.min.css HTTP/1.1\" 200 -\n",
      "127.0.0.1 - - [21/Aug/2019 14:43:21] \"GET /theme/academicons/css/academicons.css HTTP/1.1\" 200 -\n",
      "127.0.0.1 - - [21/Aug/2019 14:43:21] \"GET /theme/img/TSainburg.jpg HTTP/1.1\" 200 -\n",
      "127.0.0.1 - - [21/Aug/2019 14:43:21] \"GET /theme/fonts/RobotoSlab-Regular.ttf HTTP/1.1\" 200 -\n",
      "127.0.0.1 - - [21/Aug/2019 14:43:21] \"GET /theme/font-awesome/fonts/fontawesome-webfont.woff2?v=4.6.3 HTTP/1.1\" 200 -\n",
      "127.0.0.1 - - [21/Aug/2019 14:43:21] \"GET /theme/academicons/fonts/academicons.ttf?v=1.8.6 HTTP/1.1\" 200 -\n",
      "127.0.0.1 - - [21/Aug/2019 14:44:11] \"GET / HTTP/1.1\" 200 -\n",
      "127.0.0.1 - - [21/Aug/2019 14:44:11] \"GET /theme/academicons/css/academicons.css HTTP/1.1\" 200 -\n",
      "127.0.0.1 - - [21/Aug/2019 14:44:11] \"GET /theme/pygments/github.min.css HTTP/1.1\" 200 -\n",
      "127.0.0.1 - - [21/Aug/2019 14:44:11] \"GET /theme/font-awesome/css/font-awesome.min.css HTTP/1.1\" 200 -\n",
      "127.0.0.1 - - [21/Aug/2019 14:44:11] \"GET /theme/img/TSainburg.jpg HTTP/1.1\" 200 -\n",
      "127.0.0.1 - - [21/Aug/2019 14:44:11] \"GET /theme/stylesheet/style.min.css HTTP/1.1\" 200 -\n",
      "127.0.0.1 - - [21/Aug/2019 14:44:11] \"GET /theme/font-awesome/fonts/fontawesome-webfont.woff2?v=4.6.3 HTTP/1.1\" 200 -\n",
      "127.0.0.1 - - [21/Aug/2019 14:44:11] \"GET /theme/fonts/RobotoSlab-Regular.ttf HTTP/1.1\" 200 -\n",
      "127.0.0.1 - - [21/Aug/2019 14:44:11] \"GET /theme/academicons/fonts/academicons.ttf?v=1.8.6 HTTP/1.1\" 200 -\n",
      "127.0.0.1 - - [21/Aug/2019 14:44:11] \"GET /theme/img/starling-small.ico HTTP/1.1\" 200 -\n",
      "127.0.0.1 - - [21/Aug/2019 14:44:13] \"GET / HTTP/1.1\" 200 -\n",
      "127.0.0.1 - - [21/Aug/2019 14:44:13] \"GET /theme/stylesheet/style.min.css HTTP/1.1\" 200 -\n",
      "127.0.0.1 - - [21/Aug/2019 14:44:13] \"GET /theme/pygments/github.min.css HTTP/1.1\" 200 -\n",
      "127.0.0.1 - - [21/Aug/2019 14:44:13] \"GET /theme/font-awesome/css/font-awesome.min.css HTTP/1.1\" 200 -\n",
      "127.0.0.1 - - [21/Aug/2019 14:44:13] \"GET /theme/academicons/css/academicons.css HTTP/1.1\" 200 -\n",
      "127.0.0.1 - - [21/Aug/2019 14:44:13] \"GET /theme/img/TSainburg.jpg HTTP/1.1\" 200 -\n",
      "127.0.0.1 - - [21/Aug/2019 14:44:13] \"GET /theme/fonts/RobotoSlab-Regular.ttf HTTP/1.1\" 200 -\n",
      "127.0.0.1 - - [21/Aug/2019 14:44:13] \"GET /theme/font-awesome/fonts/fontawesome-webfont.woff2?v=4.6.3 HTTP/1.1\" 200 -\n",
      "127.0.0.1 - - [21/Aug/2019 14:44:13] \"GET /theme/academicons/fonts/academicons.ttf?v=1.8.6 HTTP/1.1\" 200 -\n",
      "127.0.0.1 - - [21/Aug/2019 14:44:13] \"GET /theme/img/starling-small.ico HTTP/1.1\" 200 -\n",
      "127.0.0.1 - - [21/Aug/2019 14:44:48] \"GET /pages/cv.html HTTP/1.1\" 200 -\n",
      "127.0.0.1 - - [21/Aug/2019 14:44:48] \"GET /assets/css/cv.css HTTP/1.1\" 200 -\n",
      "127.0.0.1 - - [21/Aug/2019 14:44:48] code 404, message File not found\n",
      "127.0.0.1 - - [21/Aug/2019 14:44:48] \"GET /pages/theme/img/starling-small.ico HTTP/1.1\" 404 -\n",
      "127.0.0.1 - - [21/Aug/2019 14:44:54] \"GET / HTTP/1.1\" 200 -\n",
      "127.0.0.1 - - [21/Aug/2019 14:44:54] \"GET /theme/stylesheet/style.min.css HTTP/1.1\" 200 -\n",
      "127.0.0.1 - - [21/Aug/2019 14:44:54] \"GET /theme/pygments/github.min.css HTTP/1.1\" 200 -\n",
      "127.0.0.1 - - [21/Aug/2019 14:44:54] \"GET /theme/font-awesome/css/font-awesome.min.css HTTP/1.1\" 200 -\n",
      "127.0.0.1 - - [21/Aug/2019 14:44:54] \"GET /theme/academicons/css/academicons.css HTTP/1.1\" 200 -\n",
      "127.0.0.1 - - [21/Aug/2019 14:44:54] \"GET /theme/img/TSainburg.jpg HTTP/1.1\" 200 -\n",
      "127.0.0.1 - - [21/Aug/2019 14:44:55] \"GET /theme/fonts/RobotoSlab-Regular.ttf HTTP/1.1\" 200 -\n",
      "127.0.0.1 - - [21/Aug/2019 14:44:55] \"GET /theme/font-awesome/fonts/fontawesome-webfont.woff2?v=4.6.3 HTTP/1.1\" 200 -\n",
      "127.0.0.1 - - [21/Aug/2019 14:44:55] \"GET /theme/academicons/fonts/academicons.ttf?v=1.8.6 HTTP/1.1\" 200 -\n",
      "127.0.0.1 - - [21/Aug/2019 14:44:55] \"GET /theme/img/starling-small.ico HTTP/1.1\" 200 -\n",
      "127.0.0.1 - - [21/Aug/2019 14:45:18] \"GET /open-ephys-raspberry-pi-4.html HTTP/1.1\" 200 -\n",
      "127.0.0.1 - - [21/Aug/2019 14:45:18] \"GET /assets/img/open-ephys-board.jpg HTTP/1.1\" 200 -\n",
      "127.0.0.1 - - [21/Aug/2019 14:45:18] \"GET /assets/img/magpiboard.png HTTP/1.1\" 200 -\n",
      "127.0.0.1 - - [21/Aug/2019 14:45:18] \"GET /assets/img/pioperant-outline.png HTTP/1.1\" 200 -\n",
      "127.0.0.1 - - [21/Aug/2019 14:45:18] \"GET /assets/img/pioperant%20outline-no-desktop.png HTTP/1.1\" 200 -\n",
      "127.0.0.1 - - [21/Aug/2019 14:51:35] \"GET /open-ephys-raspberry-pi-4.html HTTP/1.1\" 200 -\n",
      "127.0.0.1 - - [21/Aug/2019 14:51:35] \"GET /theme/stylesheet/style.min.css HTTP/1.1\" 200 -\n",
      "127.0.0.1 - - [21/Aug/2019 14:51:35] \"GET /theme/pygments/github.min.css HTTP/1.1\" 200 -\n",
      "127.0.0.1 - - [21/Aug/2019 14:51:35] \"GET /theme/font-awesome/css/font-awesome.min.css HTTP/1.1\" 200 -\n",
      "127.0.0.1 - - [21/Aug/2019 14:51:35] \"GET /theme/academicons/css/academicons.css HTTP/1.1\" 200 -\n",
      "127.0.0.1 - - [21/Aug/2019 14:51:35] \"GET /theme/img/TSainburg.jpg HTTP/1.1\" 200 -\n",
      "127.0.0.1 - - [21/Aug/2019 14:51:35] \"GET /assets/img/open-ephys-board.jpg HTTP/1.1\" 200 -\n",
      "127.0.0.1 - - [21/Aug/2019 14:51:35] \"GET /assets/img/magpiboard.png HTTP/1.1\" 200 -\n",
      "127.0.0.1 - - [21/Aug/2019 14:51:35] \"GET /assets/img/pioperant-outline.png HTTP/1.1\" 200 -\n",
      "127.0.0.1 - - [21/Aug/2019 14:51:35] \"GET /assets/img/pioperant%20outline-no-desktop.png HTTP/1.1\" 200 -\n",
      "127.0.0.1 - - [21/Aug/2019 14:51:35] \"GET /theme/fonts/RobotoSlab-Regular.ttf HTTP/1.1\" 200 -\n",
      "127.0.0.1 - - [21/Aug/2019 14:51:35] \"GET /theme/font-awesome/fonts/fontawesome-webfont.woff2?v=4.6.3 HTTP/1.1\" 200 -\n",
      "127.0.0.1 - - [21/Aug/2019 14:51:35] \"GET /theme/academicons/fonts/academicons.ttf?v=1.8.6 HTTP/1.1\" 200 -\n",
      "127.0.0.1 - - [21/Aug/2019 14:51:36] \"GET /theme/img/starling-small.ico HTTP/1.1\" 200 -\n",
      "127.0.0.1 - - [21/Aug/2019 14:52:30] \"GET /open-ephys-raspberry-pi-4.html HTTP/1.1\" 200 -\n",
      "127.0.0.1 - - [21/Aug/2019 14:52:30] \"GET /theme/stylesheet/style.min.css HTTP/1.1\" 200 -\n",
      "127.0.0.1 - - [21/Aug/2019 14:52:30] \"GET /theme/pygments/github.min.css HTTP/1.1\" 200 -\n",
      "127.0.0.1 - - [21/Aug/2019 14:52:30] \"GET /theme/font-awesome/css/font-awesome.min.css HTTP/1.1\" 200 -\n",
      "127.0.0.1 - - [21/Aug/2019 14:52:30] \"GET /theme/academicons/css/academicons.css HTTP/1.1\" 200 -\n",
      "127.0.0.1 - - [21/Aug/2019 14:52:30] \"GET /theme/img/TSainburg.jpg HTTP/1.1\" 200 -\n",
      "127.0.0.1 - - [21/Aug/2019 14:52:30] \"GET /assets/img/open-ephys-board.jpg HTTP/1.1\" 200 -\n",
      "127.0.0.1 - - [21/Aug/2019 14:52:30] \"GET /assets/img/magpiboard.png HTTP/1.1\" 200 -\n",
      "127.0.0.1 - - [21/Aug/2019 14:52:30] \"GET /assets/img/pioperant-outline.png HTTP/1.1\" 200 -\n",
      "127.0.0.1 - - [21/Aug/2019 14:52:30] \"GET /assets/img/pioperant%20outline-no-desktop.png HTTP/1.1\" 200 -\n",
      "127.0.0.1 - - [21/Aug/2019 14:52:30] \"GET /theme/fonts/RobotoSlab-Regular.ttf HTTP/1.1\" 200 -\n",
      "127.0.0.1 - - [21/Aug/2019 14:52:30] \"GET /theme/font-awesome/fonts/fontawesome-webfont.woff2?v=4.6.3 HTTP/1.1\" 200 -\n",
      "127.0.0.1 - - [21/Aug/2019 14:52:30] \"GET /theme/academicons/fonts/academicons.ttf?v=1.8.6 HTTP/1.1\" 200 -\n",
      "127.0.0.1 - - [21/Aug/2019 14:52:30] \"GET /theme/img/starling-small.ico HTTP/1.1\" 200 -\n",
      "127.0.0.1 - - [21/Aug/2019 14:53:10] \"GET / HTTP/1.1\" 200 -\n",
      "127.0.0.1 - - [21/Aug/2019 14:53:11] code 404, message File not found\n",
      "127.0.0.1 - - [21/Aug/2019 14:53:11] \"GET /favicon.ico HTTP/1.1\" 404 -\n",
      "127.0.0.1 - - [21/Aug/2019 14:57:50] \"GET /open-ephys-raspberry-pi-4.html HTTP/1.1\" 200 -\n",
      "127.0.0.1 - - [21/Aug/2019 14:57:50] \"GET /theme/pygments/github.min.css HTTP/1.1\" 200 -\n",
      "127.0.0.1 - - [21/Aug/2019 14:57:50] \"GET /theme/stylesheet/style.min.css HTTP/1.1\" 200 -\n",
      "127.0.0.1 - - [21/Aug/2019 14:57:50] \"GET /theme/font-awesome/css/font-awesome.min.css HTTP/1.1\" 200 -\n",
      "127.0.0.1 - - [21/Aug/2019 14:57:50] \"GET /theme/academicons/css/academicons.css HTTP/1.1\" 200 -\n",
      "127.0.0.1 - - [21/Aug/2019 14:57:50] \"GET /theme/img/TSainburg.jpg HTTP/1.1\" 200 -\n",
      "127.0.0.1 - - [21/Aug/2019 14:57:50] \"GET /assets/img/open-ephys-board.jpg HTTP/1.1\" 200 -\n",
      "127.0.0.1 - - [21/Aug/2019 14:57:50] \"GET /assets/img/magpiboard.png HTTP/1.1\" 200 -\n",
      "127.0.0.1 - - [21/Aug/2019 14:57:50] \"GET /assets/img/pioperant-outline.png HTTP/1.1\" 200 -\n",
      "127.0.0.1 - - [21/Aug/2019 14:57:50] \"GET /assets/img/pioperant%20outline-no-desktop.png HTTP/1.1\" 200 -\n",
      "127.0.0.1 - - [21/Aug/2019 14:57:51] \"GET /theme/font-awesome/fonts/fontawesome-webfont.woff2?v=4.6.3 HTTP/1.1\" 200 -\n",
      "127.0.0.1 - - [21/Aug/2019 14:57:51] \"GET /theme/fonts/RobotoSlab-Regular.ttf HTTP/1.1\" 200 -\n",
      "127.0.0.1 - - [21/Aug/2019 14:57:51] \"GET /theme/academicons/fonts/academicons.ttf?v=1.8.6 HTTP/1.1\" 200 -\n",
      "127.0.0.1 - - [21/Aug/2019 14:57:51] \"GET /theme/img/starling-small.ico HTTP/1.1\" 200 -\n",
      "127.0.0.1 - - [21/Aug/2019 14:58:24] \"GET /open-ephys-raspberry-pi-4.html HTTP/1.1\" 200 -\n",
      "127.0.0.1 - - [21/Aug/2019 14:58:24] \"GET /theme/stylesheet/style.min.css HTTP/1.1\" 200 -\n",
      "127.0.0.1 - - [21/Aug/2019 14:58:24] \"GET /theme/pygments/github.min.css HTTP/1.1\" 200 -\n",
      "127.0.0.1 - - [21/Aug/2019 14:58:24] \"GET /theme/font-awesome/css/font-awesome.min.css HTTP/1.1\" 200 -\n",
      "127.0.0.1 - - [21/Aug/2019 14:58:24] \"GET /theme/academicons/css/academicons.css HTTP/1.1\" 200 -\n",
      "127.0.0.1 - - [21/Aug/2019 14:58:24] \"GET /theme/img/TSainburg.jpg HTTP/1.1\" 200 -\n",
      "127.0.0.1 - - [21/Aug/2019 14:58:24] \"GET /assets/img/open-ephys-board.jpg HTTP/1.1\" 200 -\n",
      "127.0.0.1 - - [21/Aug/2019 14:58:25] \"GET /assets/img/magpiboard.png HTTP/1.1\" 200 -\n",
      "127.0.0.1 - - [21/Aug/2019 14:58:25] \"GET /assets/img/pioperant-outline.png HTTP/1.1\" 200 -\n",
      "127.0.0.1 - - [21/Aug/2019 14:58:25] \"GET /assets/img/pioperant%20outline-no-desktop.png HTTP/1.1\" 200 -\n",
      "127.0.0.1 - - [21/Aug/2019 14:58:25] \"GET /theme/fonts/RobotoSlab-Regular.ttf HTTP/1.1\" 200 -\n",
      "127.0.0.1 - - [21/Aug/2019 14:58:25] \"GET /theme/font-awesome/fonts/fontawesome-webfont.woff2?v=4.6.3 HTTP/1.1\" 200 -\n",
      "127.0.0.1 - - [21/Aug/2019 14:58:25] \"GET /theme/academicons/fonts/academicons.ttf?v=1.8.6 HTTP/1.1\" 200 -\n",
      "127.0.0.1 - - [21/Aug/2019 14:58:25] \"GET /theme/img/starling-small.ico HTTP/1.1\" 200 -\n",
      "127.0.0.1 - - [21/Aug/2019 14:59:36] \"GET /open-ephys-raspberry-pi-4.html HTTP/1.1\" 200 -\n",
      "127.0.0.1 - - [21/Aug/2019 14:59:36] \"GET /theme/stylesheet/style.min.css HTTP/1.1\" 200 -\n",
      "127.0.0.1 - - [21/Aug/2019 14:59:36] \"GET /theme/font-awesome/css/font-awesome.min.css HTTP/1.1\" 200 -\n",
      "127.0.0.1 - - [21/Aug/2019 14:59:36] \"GET /theme/academicons/css/academicons.css HTTP/1.1\" 200 -\n",
      "127.0.0.1 - - [21/Aug/2019 14:59:36] \"GET /theme/img/TSainburg.jpg HTTP/1.1\" 200 -\n",
      "127.0.0.1 - - [21/Aug/2019 14:59:36] \"GET /theme/pygments/github.min.css HTTP/1.1\" 200 -\n",
      "127.0.0.1 - - [21/Aug/2019 14:59:36] \"GET /assets/img/open-ephys-board.jpg HTTP/1.1\" 200 -\n",
      "127.0.0.1 - - [21/Aug/2019 14:59:36] \"GET /assets/img/magpiboard.png HTTP/1.1\" 200 -\n",
      "127.0.0.1 - - [21/Aug/2019 14:59:36] \"GET /assets/img/pioperant-outline.png HTTP/1.1\" 200 -\n",
      "127.0.0.1 - - [21/Aug/2019 14:59:36] \"GET /assets/img/pioperant%20outline-no-desktop.png HTTP/1.1\" 200 -\n",
      "127.0.0.1 - - [21/Aug/2019 14:59:36] \"GET /theme/fonts/RobotoSlab-Regular.ttf HTTP/1.1\" 200 -\n",
      "127.0.0.1 - - [21/Aug/2019 14:59:36] \"GET /theme/font-awesome/fonts/fontawesome-webfont.woff2?v=4.6.3 HTTP/1.1\" 200 -\n",
      "127.0.0.1 - - [21/Aug/2019 14:59:36] \"GET /theme/academicons/fonts/academicons.ttf?v=1.8.6 HTTP/1.1\" 200 -\n",
      "127.0.0.1 - - [21/Aug/2019 14:59:36] \"GET /theme/img/starling-small.ico HTTP/1.1\" 200 -\n",
      "127.0.0.1 - - [21/Aug/2019 15:00:33] \"GET /open-ephys-raspberry-pi-4.html HTTP/1.1\" 200 -\n",
      "127.0.0.1 - - [21/Aug/2019 15:00:33] \"GET /theme/pygments/github.min.css HTTP/1.1\" 200 -\n",
      "127.0.0.1 - - [21/Aug/2019 15:00:33] \"GET /theme/font-awesome/css/font-awesome.min.css HTTP/1.1\" 200 -\n",
      "127.0.0.1 - - [21/Aug/2019 15:00:33] \"GET /theme/stylesheet/style.min.css HTTP/1.1\" 200 -\n",
      "127.0.0.1 - - [21/Aug/2019 15:00:33] \"GET /theme/academicons/css/academicons.css HTTP/1.1\" 200 -\n",
      "127.0.0.1 - - [21/Aug/2019 15:00:33] \"GET /theme/img/TSainburg.jpg HTTP/1.1\" 200 -\n",
      "127.0.0.1 - - [21/Aug/2019 15:00:33] \"GET /assets/img/rpi4.png HTTP/1.1\" 200 -\n",
      "127.0.0.1 - - [21/Aug/2019 15:00:33] \"GET /assets/img/open-ephys-board.jpg HTTP/1.1\" 200 -\n",
      "127.0.0.1 - - [21/Aug/2019 15:00:33] \"GET /assets/img/magpiboard.png HTTP/1.1\" 200 -\n",
      "127.0.0.1 - - [21/Aug/2019 15:00:33] \"GET /assets/img/pioperant-outline.png HTTP/1.1\" 200 -\n",
      "127.0.0.1 - - [21/Aug/2019 15:00:33] \"GET /assets/img/pioperant%20outline-no-desktop.png HTTP/1.1\" 200 -\n",
      "127.0.0.1 - - [21/Aug/2019 15:00:33] \"GET /theme/fonts/RobotoSlab-Regular.ttf HTTP/1.1\" 200 -\n",
      "127.0.0.1 - - [21/Aug/2019 15:00:33] \"GET /theme/font-awesome/fonts/fontawesome-webfont.woff2?v=4.6.3 HTTP/1.1\" 200 -\n",
      "127.0.0.1 - - [21/Aug/2019 15:00:33] \"GET /theme/academicons/fonts/academicons.ttf?v=1.8.6 HTTP/1.1\" 200 -\n",
      "127.0.0.1 - - [21/Aug/2019 15:00:34] \"GET /theme/img/starling-small.ico HTTP/1.1\" 200 -\n"
     ]
    }
   ],
   "source": [
    "Handler = http.server.SimpleHTTPRequestHandler\n",
    "httpd = socketserver.TCPServer((\"\", PORT), Handler)\n",
    "print(\"serving at port\", PORT)\n",
    "httpd.serve_forever()"
   ]
  },
  {
   "cell_type": "code",
   "execution_count": null,
   "metadata": {},
   "outputs": [],
   "source": []
  }
 ],
 "metadata": {
  "kernelspec": {
   "display_name": "Python 3",
   "language": "python",
   "name": "python3"
  },
  "language_info": {
   "codemirror_mode": {
    "name": "ipython",
    "version": 3
   },
   "file_extension": ".py",
   "mimetype": "text/x-python",
   "name": "python",
   "nbconvert_exporter": "python",
   "pygments_lexer": "ipython3",
   "version": "3.6.8"
  }
 },
 "nbformat": 4,
 "nbformat_minor": 2
}
