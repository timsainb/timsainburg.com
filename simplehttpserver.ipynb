{
 "cells": [
  {
   "cell_type": "markdown",
   "metadata": {},
   "source": [
    "### Run a simple HTTP server"
   ]
  },
  {
   "cell_type": "code",
   "execution_count": null,
   "metadata": {
    "ExecuteTime": {
     "start_time": "2019-08-18T21:23:16.975Z"
    }
   },
   "outputs": [],
   "source": [
    "import http.server\n",
    "import socketserver\n",
    "import os"
   ]
  },
  {
   "cell_type": "code",
   "execution_count": null,
   "metadata": {
    "ExecuteTime": {
     "start_time": "2019-08-18T21:23:16.977Z"
    }
   },
   "outputs": [],
   "source": [
    "PORT = 8189"
   ]
  },
  {
   "cell_type": "code",
   "execution_count": null,
   "metadata": {
    "ExecuteTime": {
     "start_time": "2019-08-18T21:23:16.978Z"
    }
   },
   "outputs": [],
   "source": [
    "web_dir = os.path.join(os.getcwd(), 'docs')\n",
    "os.chdir(web_dir)"
   ]
  },
  {
   "cell_type": "code",
   "execution_count": null,
   "metadata": {
    "ExecuteTime": {
     "start_time": "2019-08-18T21:23:16.980Z"
    }
   },
   "outputs": [
    {
     "name": "stdout",
     "output_type": "stream",
     "text": [
      "serving at port 8189\n"
     ]
    },
    {
     "name": "stderr",
     "output_type": "stream",
     "text": [
      "127.0.0.1 - - [18/Aug/2019 14:23:27] \"GET /pages/cv.html HTTP/1.1\" 200 -\n",
      "127.0.0.1 - - [18/Aug/2019 14:23:27] \"GET /assets/css/cv.css HTTP/1.1\" 200 -\n",
      "127.0.0.1 - - [18/Aug/2019 14:23:28] code 404, message File not found\n",
      "127.0.0.1 - - [18/Aug/2019 14:23:28] \"GET /pages/theme/img/starling-small.ico HTTP/1.1\" 404 -\n",
      "127.0.0.1 - - [18/Aug/2019 14:24:43] \"GET /curriculumvitae.html HTTP/1.1\" 200 -\n",
      "127.0.0.1 - - [18/Aug/2019 14:24:44] code 404, message File not found\n",
      "127.0.0.1 - - [18/Aug/2019 14:24:44] \"GET /favicon.ico HTTP/1.1\" 404 -\n",
      "127.0.0.1 - - [18/Aug/2019 14:46:44] code 404, message File not found\n",
      "127.0.0.1 - - [18/Aug/2019 14:46:44] \"GET /pages/cv.html HTTP/1.1\" 404 -\n",
      "127.0.0.1 - - [18/Aug/2019 14:46:44] code 404, message File not found\n",
      "127.0.0.1 - - [18/Aug/2019 14:46:44] \"GET /favicon.ico HTTP/1.1\" 404 -\n",
      "127.0.0.1 - - [18/Aug/2019 14:46:45] code 404, message File not found\n",
      "127.0.0.1 - - [18/Aug/2019 14:46:45] \"GET /pages/cv.html HTTP/1.1\" 404 -\n",
      "127.0.0.1 - - [18/Aug/2019 14:46:45] code 404, message File not found\n",
      "127.0.0.1 - - [18/Aug/2019 14:46:45] \"GET /favicon.ico HTTP/1.1\" 404 -\n",
      "127.0.0.1 - - [18/Aug/2019 14:46:51] \"GET /pages/cv.html HTTP/1.1\" 200 -\n",
      "127.0.0.1 - - [18/Aug/2019 14:46:51] \"GET /theme/stylesheet/style.min.css HTTP/1.1\" 200 -\n",
      "127.0.0.1 - - [18/Aug/2019 14:46:51] \"GET /theme/pygments/github.min.css HTTP/1.1\" 200 -\n",
      "127.0.0.1 - - [18/Aug/2019 14:46:51] \"GET /theme/font-awesome/css/font-awesome.min.css HTTP/1.1\" 200 -\n",
      "127.0.0.1 - - [18/Aug/2019 14:46:51] \"GET /theme/academicons/css/academicons.css HTTP/1.1\" 200 -\n",
      "127.0.0.1 - - [18/Aug/2019 14:46:51] \"GET /assets/css/cv.css HTTP/1.1\" 200 -\n",
      "127.0.0.1 - - [18/Aug/2019 14:46:51] \"GET /theme/img/TSainburg.jpg HTTP/1.1\" 200 -\n",
      "127.0.0.1 - - [18/Aug/2019 14:46:51] \"GET /theme/fonts/RobotoSlab-Regular.ttf HTTP/1.1\" 200 -\n",
      "127.0.0.1 - - [18/Aug/2019 14:46:51] \"GET /theme/font-awesome/fonts/fontawesome-webfont.woff2?v=4.6.3 HTTP/1.1\" 200 -\n",
      "127.0.0.1 - - [18/Aug/2019 14:46:51] \"GET /theme/academicons/fonts/academicons.ttf?v=1.8.6 HTTP/1.1\" 200 -\n",
      "127.0.0.1 - - [18/Aug/2019 14:46:51] code 404, message File not found\n",
      "127.0.0.1 - - [18/Aug/2019 14:46:51] \"GET /pages/theme/img/starling-small.ico HTTP/1.1\" 404 -\n",
      "127.0.0.1 - - [18/Aug/2019 14:46:56] \"GET /curriculumvitae.html HTTP/1.1\" 200 -\n",
      "127.0.0.1 - - [18/Aug/2019 14:46:58] code 404, message File not found\n",
      "127.0.0.1 - - [18/Aug/2019 14:46:58] \"GET /favicon.ico HTTP/1.1\" 404 -\n",
      "127.0.0.1 - - [18/Aug/2019 14:48:37] \"GET /pages/cv.html HTTP/1.1\" 200 -\n",
      "127.0.0.1 - - [18/Aug/2019 14:48:37] \"GET /theme/pygments/github.min.css HTTP/1.1\" 200 -\n",
      "127.0.0.1 - - [18/Aug/2019 14:48:37] \"GET /theme/stylesheet/style.min.css HTTP/1.1\" 200 -\n",
      "127.0.0.1 - - [18/Aug/2019 14:48:37] \"GET /theme/font-awesome/css/font-awesome.min.css HTTP/1.1\" 200 -\n",
      "127.0.0.1 - - [18/Aug/2019 14:48:37] \"GET /theme/academicons/css/academicons.css HTTP/1.1\" 200 -\n",
      "127.0.0.1 - - [18/Aug/2019 14:48:37] \"GET /theme/img/TSainburg.jpg HTTP/1.1\" 200 -\n",
      "127.0.0.1 - - [18/Aug/2019 14:48:37] \"GET /assets/css/cv.css HTTP/1.1\" 200 -\n",
      "127.0.0.1 - - [18/Aug/2019 14:48:37] \"GET /theme/fonts/RobotoSlab-Regular.ttf HTTP/1.1\" 200 -\n",
      "127.0.0.1 - - [18/Aug/2019 14:48:37] \"GET /theme/font-awesome/fonts/fontawesome-webfont.woff2?v=4.6.3 HTTP/1.1\" 200 -\n",
      "127.0.0.1 - - [18/Aug/2019 14:48:37] \"GET /theme/academicons/fonts/academicons.ttf?v=1.8.6 HTTP/1.1\" 200 -\n",
      "127.0.0.1 - - [18/Aug/2019 14:48:37] code 404, message File not found\n",
      "127.0.0.1 - - [18/Aug/2019 14:48:37] \"GET /pages/theme/img/starling-small.ico HTTP/1.1\" 404 -\n",
      "127.0.0.1 - - [18/Aug/2019 14:48:38] \"GET /pages/cv.html HTTP/1.1\" 200 -\n",
      "127.0.0.1 - - [18/Aug/2019 14:48:38] \"GET /theme/stylesheet/style.min.css HTTP/1.1\" 200 -\n",
      "127.0.0.1 - - [18/Aug/2019 14:48:38] \"GET /theme/pygments/github.min.css HTTP/1.1\" 200 -\n",
      "127.0.0.1 - - [18/Aug/2019 14:48:38] \"GET /theme/font-awesome/css/font-awesome.min.css HTTP/1.1\" 200 -\n",
      "127.0.0.1 - - [18/Aug/2019 14:48:38] \"GET /theme/academicons/css/academicons.css HTTP/1.1\" 200 -\n",
      "127.0.0.1 - - [18/Aug/2019 14:48:38] \"GET /theme/img/TSainburg.jpg HTTP/1.1\" 200 -\n",
      "127.0.0.1 - - [18/Aug/2019 14:48:38] \"GET /assets/css/cv.css HTTP/1.1\" 200 -\n",
      "127.0.0.1 - - [18/Aug/2019 14:48:38] \"GET /theme/fonts/RobotoSlab-Regular.ttf HTTP/1.1\" 200 -\n",
      "127.0.0.1 - - [18/Aug/2019 14:48:38] \"GET /theme/font-awesome/fonts/fontawesome-webfont.woff2?v=4.6.3 HTTP/1.1\" 200 -\n",
      "127.0.0.1 - - [18/Aug/2019 14:48:38] \"GET /theme/academicons/fonts/academicons.ttf?v=1.8.6 HTTP/1.1\" 200 -\n",
      "127.0.0.1 - - [18/Aug/2019 14:48:38] code 404, message File not found\n",
      "127.0.0.1 - - [18/Aug/2019 14:48:38] \"GET /pages/theme/img/starling-small.ico HTTP/1.1\" 404 -\n",
      "127.0.0.1 - - [18/Aug/2019 14:49:54] \"GET /pages/cv.html HTTP/1.1\" 200 -\n",
      "127.0.0.1 - - [18/Aug/2019 14:49:54] \"GET /theme/stylesheet/style.min.css HTTP/1.1\" 200 -\n",
      "127.0.0.1 - - [18/Aug/2019 14:49:54] \"GET /theme/pygments/github.min.css HTTP/1.1\" 200 -\n",
      "127.0.0.1 - - [18/Aug/2019 14:49:54] \"GET /theme/font-awesome/css/font-awesome.min.css HTTP/1.1\" 200 -\n",
      "127.0.0.1 - - [18/Aug/2019 14:49:54] \"GET /theme/academicons/css/academicons.css HTTP/1.1\" 200 -\n",
      "127.0.0.1 - - [18/Aug/2019 14:49:54] \"GET /theme/img/TSainburg.jpg HTTP/1.1\" 200 -\n",
      "127.0.0.1 - - [18/Aug/2019 14:49:54] \"GET /assets/css/cv.css HTTP/1.1\" 200 -\n",
      "127.0.0.1 - - [18/Aug/2019 14:49:54] \"GET /theme/fonts/RobotoSlab-Regular.ttf HTTP/1.1\" 200 -\n",
      "127.0.0.1 - - [18/Aug/2019 14:49:54] \"GET /theme/font-awesome/fonts/fontawesome-webfont.woff2?v=4.6.3 HTTP/1.1\" 200 -\n",
      "127.0.0.1 - - [18/Aug/2019 14:49:54] \"GET /theme/academicons/fonts/academicons.ttf?v=1.8.6 HTTP/1.1\" 200 -\n",
      "127.0.0.1 - - [18/Aug/2019 14:49:54] code 404, message File not found\n",
      "127.0.0.1 - - [18/Aug/2019 14:49:54] \"GET /pages/theme/img/starling-small.ico HTTP/1.1\" 404 -\n",
      "127.0.0.1 - - [18/Aug/2019 14:53:52] \"GET /pages/cv.html HTTP/1.1\" 200 -\n",
      "127.0.0.1 - - [18/Aug/2019 14:53:52] \"GET /theme/stylesheet/style.min.css HTTP/1.1\" 200 -\n",
      "127.0.0.1 - - [18/Aug/2019 14:53:52] \"GET /theme/pygments/github.min.css HTTP/1.1\" 200 -\n",
      "127.0.0.1 - - [18/Aug/2019 14:53:52] \"GET /theme/img/TSainburg.jpg HTTP/1.1\" 200 -\n",
      "127.0.0.1 - - [18/Aug/2019 14:53:52] \"GET /theme/font-awesome/css/font-awesome.min.css HTTP/1.1\" 200 -\n",
      "127.0.0.1 - - [18/Aug/2019 14:53:52] \"GET /theme/academicons/css/academicons.css HTTP/1.1\" 200 -\n",
      "127.0.0.1 - - [18/Aug/2019 14:53:52] \"GET /assets/css/cv.css HTTP/1.1\" 200 -\n",
      "127.0.0.1 - - [18/Aug/2019 14:53:53] \"GET /theme/fonts/RobotoSlab-Regular.ttf HTTP/1.1\" 200 -\n",
      "127.0.0.1 - - [18/Aug/2019 14:53:53] \"GET /theme/font-awesome/fonts/fontawesome-webfont.woff2?v=4.6.3 HTTP/1.1\" 200 -\n",
      "127.0.0.1 - - [18/Aug/2019 14:53:53] \"GET /theme/academicons/fonts/academicons.ttf?v=1.8.6 HTTP/1.1\" 200 -\n",
      "127.0.0.1 - - [18/Aug/2019 14:53:53] code 404, message File not found\n",
      "127.0.0.1 - - [18/Aug/2019 14:53:53] \"GET /pages/theme/img/starling-small.ico HTTP/1.1\" 404 -\n",
      "127.0.0.1 - - [18/Aug/2019 15:00:48] \"GET /pages/cv.html HTTP/1.1\" 200 -\n",
      "127.0.0.1 - - [18/Aug/2019 15:00:48] \"GET /theme/stylesheet/style.min.css HTTP/1.1\" 200 -\n",
      "127.0.0.1 - - [18/Aug/2019 15:00:48] \"GET /theme/pygments/github.min.css HTTP/1.1\" 200 -\n",
      "127.0.0.1 - - [18/Aug/2019 15:00:48] \"GET /theme/font-awesome/css/font-awesome.min.css HTTP/1.1\" 200 -\n",
      "127.0.0.1 - - [18/Aug/2019 15:00:48] \"GET /theme/academicons/css/academicons.css HTTP/1.1\" 200 -\n",
      "127.0.0.1 - - [18/Aug/2019 15:00:48] \"GET /assets/css/cv.css HTTP/1.1\" 200 -\n",
      "127.0.0.1 - - [18/Aug/2019 15:00:48] \"GET /theme/img/TSainburg.jpg HTTP/1.1\" 200 -\n",
      "127.0.0.1 - - [18/Aug/2019 15:00:49] \"GET /theme/fonts/RobotoSlab-Regular.ttf HTTP/1.1\" 200 -\n",
      "127.0.0.1 - - [18/Aug/2019 15:00:49] \"GET /theme/font-awesome/fonts/fontawesome-webfont.woff2?v=4.6.3 HTTP/1.1\" 200 -\n",
      "127.0.0.1 - - [18/Aug/2019 15:00:49] \"GET /theme/academicons/fonts/academicons.ttf?v=1.8.6 HTTP/1.1\" 200 -\n",
      "127.0.0.1 - - [18/Aug/2019 15:00:49] code 404, message File not found\n",
      "127.0.0.1 - - [18/Aug/2019 15:00:49] \"GET /pages/theme/img/starling-small.ico HTTP/1.1\" 404 -\n",
      "127.0.0.1 - - [18/Aug/2019 15:02:31] \"GET /pages/cv.html HTTP/1.1\" 200 -\n",
      "127.0.0.1 - - [18/Aug/2019 15:02:31] \"GET /theme/stylesheet/style.min.css HTTP/1.1\" 200 -\n",
      "127.0.0.1 - - [18/Aug/2019 15:02:31] \"GET /theme/pygments/github.min.css HTTP/1.1\" 200 -\n",
      "127.0.0.1 - - [18/Aug/2019 15:02:31] \"GET /theme/font-awesome/css/font-awesome.min.css HTTP/1.1\" 200 -\n",
      "127.0.0.1 - - [18/Aug/2019 15:02:31] \"GET /theme/academicons/css/academicons.css HTTP/1.1\" 200 -\n",
      "127.0.0.1 - - [18/Aug/2019 15:02:31] \"GET /assets/css/cv.css HTTP/1.1\" 200 -\n",
      "127.0.0.1 - - [18/Aug/2019 15:02:31] \"GET /theme/img/TSainburg.jpg HTTP/1.1\" 200 -\n",
      "127.0.0.1 - - [18/Aug/2019 15:02:31] \"GET /theme/fonts/RobotoSlab-Regular.ttf HTTP/1.1\" 200 -\n",
      "127.0.0.1 - - [18/Aug/2019 15:02:31] \"GET /theme/font-awesome/fonts/fontawesome-webfont.woff2?v=4.6.3 HTTP/1.1\" 200 -\n",
      "127.0.0.1 - - [18/Aug/2019 15:02:31] \"GET /theme/academicons/fonts/academicons.ttf?v=1.8.6 HTTP/1.1\" 200 -\n"
     ]
    },
    {
     "name": "stderr",
     "output_type": "stream",
     "text": [
      "127.0.0.1 - - [18/Aug/2019 15:02:31] code 404, message File not found\n",
      "127.0.0.1 - - [18/Aug/2019 15:02:31] \"GET /pages/theme/img/starling-small.ico HTTP/1.1\" 404 -\n",
      "127.0.0.1 - - [18/Aug/2019 15:10:57] \"GET /pages/cv.html HTTP/1.1\" 200 -\n",
      "127.0.0.1 - - [18/Aug/2019 15:10:57] \"GET /theme/stylesheet/style.min.css HTTP/1.1\" 200 -\n",
      "127.0.0.1 - - [18/Aug/2019 15:10:57] \"GET /theme/pygments/github.min.css HTTP/1.1\" 200 -\n",
      "127.0.0.1 - - [18/Aug/2019 15:10:57] \"GET /theme/font-awesome/css/font-awesome.min.css HTTP/1.1\" 200 -\n",
      "127.0.0.1 - - [18/Aug/2019 15:10:57] \"GET /theme/academicons/css/academicons.css HTTP/1.1\" 200 -\n",
      "127.0.0.1 - - [18/Aug/2019 15:10:57] \"GET /theme/img/TSainburg.jpg HTTP/1.1\" 200 -\n",
      "127.0.0.1 - - [18/Aug/2019 15:10:57] \"GET /assets/css/cv.css HTTP/1.1\" 200 -\n",
      "127.0.0.1 - - [18/Aug/2019 15:10:57] \"GET /theme/fonts/RobotoSlab-Regular.ttf HTTP/1.1\" 200 -\n",
      "127.0.0.1 - - [18/Aug/2019 15:10:57] \"GET /theme/font-awesome/fonts/fontawesome-webfont.woff2?v=4.6.3 HTTP/1.1\" 200 -\n",
      "127.0.0.1 - - [18/Aug/2019 15:10:57] \"GET /theme/academicons/fonts/academicons.ttf?v=1.8.6 HTTP/1.1\" 200 -\n",
      "127.0.0.1 - - [18/Aug/2019 15:10:57] code 404, message File not found\n",
      "127.0.0.1 - - [18/Aug/2019 15:10:57] \"GET /pages/theme/img/starling-small.ico HTTP/1.1\" 404 -\n",
      "127.0.0.1 - - [18/Aug/2019 15:11:23] \"GET /curriculumvitae.html HTTP/1.1\" 200 -\n",
      "127.0.0.1 - - [18/Aug/2019 15:11:23] \"GET /assets/css/cv.css HTTP/1.1\" 200 -\n",
      "127.0.0.1 - - [18/Aug/2019 15:11:24] code 404, message File not found\n",
      "127.0.0.1 - - [18/Aug/2019 15:11:24] \"GET /favicon.ico HTTP/1.1\" 404 -\n"
     ]
    }
   ],
   "source": [
    "Handler = http.server.SimpleHTTPRequestHandler\n",
    "httpd = socketserver.TCPServer((\"\", PORT), Handler)\n",
    "print(\"serving at port\", PORT)\n",
    "httpd.serve_forever()"
   ]
  },
  {
   "cell_type": "code",
   "execution_count": null,
   "metadata": {},
   "outputs": [],
   "source": []
  }
 ],
 "metadata": {
  "kernelspec": {
   "display_name": "Python 3",
   "language": "python",
   "name": "python3"
  },
  "language_info": {
   "codemirror_mode": {
    "name": "ipython",
    "version": 3
   },
   "file_extension": ".py",
   "mimetype": "text/x-python",
   "name": "python",
   "nbconvert_exporter": "python",
   "pygments_lexer": "ipython3",
   "version": "3.6.8"
  }
 },
 "nbformat": 4,
 "nbformat_minor": 2
}
